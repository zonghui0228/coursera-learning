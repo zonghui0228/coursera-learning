{
 "cells": [
  {
   "cell_type": "markdown",
   "metadata": {},
   "source": [
    "<a href=\"https://www.skills.network/\"><img src=\"https://cf-courses-data.s3.us.cloud-object-storage.appdomain.cloud/IBM-DL0120ENedX/labs/Template%20for%20Instructional%20Hands-on%20Labs/images/IDSNlogo.png\" width=\"400px\" align=\"center\"></a>\n",
    "\n",
    "<h1 align=\"center\"><font size=\"5\">RESTRICTED BOLTZMANN MACHINES</font></h1>\n"
   ]
  },
  {
   "cell_type": "markdown",
   "metadata": {},
   "source": [
    "<h3>Introduction</h3>\n",
    "<b>Restricted Boltzmann Machine (RBM):</b>  RBMs are shallow neural nets that learn to reconstruct data by themselves in an unsupervised fashion.  \n",
    "\n",
    "<h4>Why are RBMs important?</h4>\n",
    "An RBM are a basic form of autoencoder.  It can automatically extract <b>meaningful</b> features from a given input.\n",
    "\n",
    "<h4>How does it work?</h4>\n",
    "RBM is a 2 layer neural network. Simply, RBM takes the inputs and translates those into a set of binary values that represents them in the hidden layer. Then, these numbers can be translated back to reconstruct the inputs. Through several forward and backward passes, the RBM will be trained, and a trained RBM can reveal which features are the most important ones when detecting patterns.   \n",
    "\n",
    "<h4>What are the applications of an RBM?</h4>\n",
    "RBM is useful for <a href='http://www.cs.utoronto.ca/~hinton/absps/netflixICML.pdf'>  Collaborative Filtering</a>, dimensionality reduction, classification, regression, feature learning, topic modeling and even <b>Deep Belief Networks</b>.\n",
    "\n",
    "<h4>Is RBM a generative or Discriminative model?</h4>\n",
    "RBM is a generative model. Let me explain it by first, see what is different between discriminative and generative models: \n",
    "\n",
    "<b>Discriminative:</b> Consider a classification problem where we want to learn to distinguish between Sedan cars (y = 1) and SUV cars (y = 0), based on some features of cars. Given a training set, an algorithm like logistic regression tries to find a straight line, or <i>decision boundary</i>, that separates the suv and sedan.  \n",
    "\n",
    "<b>Generative:</b> looking at cars, we can build a model of what Sedan cars look like. Then, looking at SUVs, we can build a separate model of what SUV cars look like. Finally, to classify a new car, we can match the new car against the Sedan model, and match it against the SUV model, to see whether the new car looks more like the SUV or Sedan. \n",
    "\n",
    "Generative Models specify a probability distribution over a dataset of input vectors. We can carry out both supervised and unsupervised tasks with generative models:\n",
    "\n",
    "<ul>\n",
    "    <li>In an unsupervised task, we try to form a model for $P(x)$, where $P$ is the probability given $x$ as an input vector.</li>\n",
    "    <li>In the supervised task, we first form a model for $P(x|y)$, where $P$ is the probability of $x$ given $y$(the label for $x$). For example, if $y = 0$ indicates that a car is an SUV, and $y = 1$ indicates that a car is a sedan, then $p(x|y = 0)$ models the distribution of SUV features, and $p(x|y = 1)$ models the distribution of sedan features. If we manage to find $P(x|y)$ and $P(y)$, then we can use <b>Bayes rule</b> to estimate $P(y|x)$, because:   \n",
    "        $$p(y|x) = \\frac{p(x|y)p(y)}{p(x)}$$</li>\n",
    "</ul>\n",
    "Now the question is, can we build a generative model, and then use it to create synthetic data by directly sampling from the modeled probability distributions? Lets see. \n"
   ]
  },
  {
   "cell_type": "markdown",
   "metadata": {},
   "source": [
    "<h2>Table of Contents</h2>\n",
    "<ol>\n",
    "    <li><a href=\"#ref1\">Initialization</a></li>\n",
    "    <li><a href=\"#ref2\">RBM layers</a></li>\n",
    "    <li><a href=\"#ref3\">What RBM can do after training?</a></li>\n",
    "    <li><a href=\"#ref4\">How to train the model?</a></li>\n",
    "    <li><a href=\"#ref5\">Learned features</a></li>\n",
    "</ol>\n",
    "<p></p>\n",
    "</div>\n",
    "<br>\n",
    "\n",
    "<hr>\n"
   ]
  },
  {
   "cell_type": "markdown",
   "metadata": {},
   "source": [
    "<a id=\"ref1\"></a>\n",
    "\n",
    "<h3>Initialization</h3>\n",
    "\n",
    "First, we have to load the utility file which contains different utility functions that are not connected\n",
    "in any way to the networks presented in the tutorials, but rather help in\n",
    "processing the outputs into a more understandable way.\n"
   ]
  },
  {
   "cell_type": "code",
   "execution_count": 1,
   "metadata": {},
   "outputs": [],
   "source": [
    "import urllib.request\n",
    "with urllib.request.urlopen(\"http://deeplearning.net/tutorial/code/utils.py\") as url:\n",
    "    response = url.read()\n",
    "target = open('utils.py', 'w')\n",
    "target.write(response.decode('utf-8'))\n",
    "target.close()"
   ]
  },
  {
   "cell_type": "markdown",
   "metadata": {},
   "source": [
    "<h2>Installing TensorFlow </h2>\n",
    "\n",
    "We will installing TensorFlow version 2.2.0 and its required prerequistes.  Also installing pillow...\n"
   ]
  },
  {
   "cell_type": "code",
   "execution_count": 2,
   "metadata": {},
   "outputs": [],
   "source": [
    "# !pip install grpcio==1.24.3\n",
    "# !pip install tensorflow==2.2.0\n",
    "# !pip install pillow"
   ]
  },
  {
   "cell_type": "markdown",
   "metadata": {},
   "source": [
    "<b>Notice:</b> This notebook has been created with TensorFlow version 2.2, and might not work with other versions. Therefore we check:\n"
   ]
  },
  {
   "cell_type": "code",
   "execution_count": 3,
   "metadata": {},
   "outputs": [
    {
     "name": "stdout",
     "output_type": "stream",
     "text": [
      "2.2.0\n"
     ]
    }
   ],
   "source": [
    "import tensorflow as tf\n",
    "from IPython.display import Markdown, display\n",
    "\n",
    "def printmd(string):\n",
    "    display(Markdown('# <span style=\"color:red\">'+string+'</span>'))\n",
    "\n",
    "print(tf.__version__)\n",
    "if not tf.__version__ == '2.2.0':\n",
    "    printmd('<<<<<!!!!! ERROR !!!! please upgrade to TensorFlow 2.2.0, or restart your Kernel (Kernel->Restart & Clear Output)>>>>>')"
   ]
  },
  {
   "cell_type": "markdown",
   "metadata": {},
   "source": [
    "Now, we load in all the packages that we use to create the net including the TensorFlow package:\n"
   ]
  },
  {
   "cell_type": "code",
   "execution_count": 4,
   "metadata": {},
   "outputs": [],
   "source": [
    "import tensorflow as tf\n",
    "import numpy as np\n",
    "\n",
    "from PIL import Image\n",
    "from utils import tile_raster_images\n",
    "import matplotlib.pyplot as plt\n",
    "%matplotlib inline"
   ]
  },
  {
   "cell_type": "markdown",
   "metadata": {},
   "source": [
    "<hr>\n"
   ]
  },
  {
   "cell_type": "markdown",
   "metadata": {},
   "source": [
    "<a id=\"ref2\"></a>\n",
    "\n",
    "<h3>RBM layers</h3>\n",
    "\n",
    "An RBM has two layers. The first layer of the RBM is called the <b>visible</b> (or input layer). Imagine that our toy example, has only vectors with 7 values, so the visible layer must have $V=7$ input nodes. \n",
    "The second layer is the <b>hidden</b> layer, which has $H$ neurons in our case. Each hidden node takes on values of either 0 or 1 (i.e., $h_i = 1$ or $h_i$ = 0), with a probability that is a logistic function of the inputs it receives from the other $V$ visible units, called for example, $p(h_i = 1)$. For our toy sample, we'll use 2 nodes in the hidden layer, so $H = 2$.\n",
    "\n",
    "<center><img src=\"https://ibm.box.com/shared/static/eu26opvcefgls6vnwuo29uwp0nudmokh.png\" alt=\"RBM Model\" style=\"width: 400px;\"></center>\n"
   ]
  },
  {
   "cell_type": "markdown",
   "metadata": {},
   "source": [
    "Each node in the first layer also has a <b>bias</b>. We will denote the bias as $v\\_{bias}$, and this single value is shared among the $V$ visible units.\n",
    "\n",
    "The <b>bias</b> of the second is defined similarly as $h\\_{bias}$, and this single value among the $H$ hidden units.\n"
   ]
  },
  {
   "cell_type": "code",
   "execution_count": 5,
   "metadata": {},
   "outputs": [],
   "source": [
    "v_bias = tf.Variable(tf.zeros([7]), tf.float32)\n",
    "h_bias = tf.Variable(tf.zeros([2]), tf.float32)"
   ]
  },
  {
   "cell_type": "markdown",
   "metadata": {},
   "source": [
    "We have to define weights among the input layer and hidden layer nodes. In the weight matrix, the number of rows are equal to the input nodes, and the number of columns are equal to the output nodes. We define a tensor $\\\\mathbf{W}$ of shape = (7,2), where the number of visible neurons = 7, and the number of hidden neurons = 2. \n"
   ]
  },
  {
   "cell_type": "code",
   "execution_count": 6,
   "metadata": {},
   "outputs": [],
   "source": [
    "W = tf.constant(np.random.normal(loc=0.0, scale=1.0, size=(7, 2)).astype(np.float32))"
   ]
  },
  {
   "cell_type": "markdown",
   "metadata": {},
   "source": [
    "<hr>\n"
   ]
  },
  {
   "cell_type": "markdown",
   "metadata": {},
   "source": [
    "<a id=\"ref3\"></a>\n",
    "\n",
    "<h3>What RBM can do after training?</h3>\n",
    "Think of RBM as a model that has been trained based on images of a dataset of many SUV and sedan cars. Also, imagine that the RBM network has only two hidden nodes, where one node encodes the weight and, and the other encodes the size.  \n",
    "In a sense, the different configurations represent different cars, where one is an SUV and the other is Sedan.  In a training process, through many forward and backward passes, the RBM adjust its weights to send a stronger signal to either the SUV node (0, 1) or the sedan node (1, 0) in the hidden layer, given the pixels of images. Now, given an SUV in hidden layer, which distribution of pixels should we expect? RBM can give you 2 things. First, it encodes your images in hidden layer. Second, it gives you the probability of observing a case, given some hidden values.\n",
    "\n",
    "<h3>The Inference Process</h3>\n",
    "\n",
    "RBM has two phases:\n",
    "\n",
    "<ul>\n",
    "    <li>Forward Pass</li>  \n",
    "    <li>Backward Pass or Reconstruction</li>\n",
    "</ul>\n",
    "\n",
    "<b>Phase 1) Forward pass:</b>  \n",
    "\n",
    "Input one training sample (one image) $\\\\mathbf{x}$ through all visible nodes, and pass it to all hidden nodes. Processing happens in each node in the hidden layer. This computation begins by making stochastic decisions about whether to transmit that input or not (i.e. to determine the state of each hidden layer).  First, the probability vector is computed using the input feature vector $\\\\mathbf{x}$, the weight matrix $\\\\mathbf{W}$, and the bias term $h\\_{bias}$, as \n",
    "\n",
    "$p({h_j}|\\\\mathbf x)= \\\\sigma(\\\\sum_{i=1}^V W_{ij} x_i + h_{bias} )$, \n",
    "\n",
    "where $\\\\sigma(z) = (1+e^{-z})^{-1}$ is the logistic function.\n",
    "\n",
    "So, what does $p({h_j})$ represent? It is the <b>probability distribution</b> of the hidden units. That is, RBM uses inputs $x_i$ to make predictions about hidden node activations. For example, imagine that the hidden node activation values are [0.51 0.84] for the first training item. It tells you that the conditional probability for each hidden neuron for Phase 1 is: \n",
    "\n",
    "$$p(h_{1} = 1|\\\\mathbf{v}) = 0.51$$\n",
    "$$p(h_{2} = 1|\\\\mathbf{v}) = 0.84$$\n",
    "\n",
    "As a result, for each row in the training set, vector of probabilities is generated.  In TensorFlow, this is referred to as a `tensor` with a shape of (1,2). \n",
    "\n",
    "We then turn unit $j$ with probability $p(h_{j}|\\\\mathbf{v})$, and turn it off with probability $1 - p(h_{j}|\\\\mathbf{v})$ by generating a uniform random number vector $\\\\mathbf{\\\\xi}$, and comparing it to the activation probability as \n",
    "\n",
    "<center>If $\\xi_j>p(h_{j}|\\mathbf{v})$, then $h_j=1$, else $h_j=0$.</center>\n",
    "\n",
    "Therefore, the conditional probability of a configuration of $\\\\mathbf{h}$ given $\\\\mathbf{v}$ (for a training sample) is:\n",
    "\n",
    "$$p(\\\\mathbf{h} \\\\mid \\\\mathbf{v}) = \\\\prod\\_{j=1}^H p(h_j \\\\mid \\\\mathbf{v})$$\n",
    "\n",
    "where $H$ is the number of hidden units.\n"
   ]
  },
  {
   "cell_type": "markdown",
   "metadata": {},
   "source": [
    "Before we go further, let's look at a toy example for one case out of all input. Assume that we have a trained RBM, and a very simple input vector, such as [1.0, 0.0, 0.0, 1.0, 0.0, 0.0, 0.0].  \n",
    "Let's see what the output of forward pass would look like:\n"
   ]
  },
  {
   "cell_type": "code",
   "execution_count": 7,
   "metadata": {},
   "outputs": [
    {
     "name": "stdout",
     "output_type": "stream",
     "text": [
      "Input:  tf.Tensor([[1. 0. 0. 1. 0. 0. 0.]], shape=(1, 7), dtype=float32)\n",
      "hb:  tf.Tensor([0.1 0.1], shape=(2,), dtype=float32)\n",
      "w:  tf.Tensor(\n",
      "[[ 1.1116915   0.33766475]\n",
      " [ 2.5015323   1.2503872 ]\n",
      " [ 0.70825785 -0.5147935 ]\n",
      " [-1.3513004   0.91142493]\n",
      " [-0.9556479  -0.8395231 ]\n",
      " [ 0.71797454 -1.0445758 ]\n",
      " [ 0.07076439 -0.76303643]], shape=(7, 2), dtype=float32)\n",
      "p(h|v):  tf.Tensor([[0.46515432 0.7939808 ]], shape=(1, 2), dtype=float32)\n",
      "h0 states: tf.Tensor([[1. 1.]], shape=(1, 2), dtype=float32)\n"
     ]
    }
   ],
   "source": [
    "X = tf.constant([[1.0, 0.0, 0.0, 1.0, 0.0, 0.0, 0.0]], tf.float32)\n",
    "\n",
    "v_state = X\n",
    "print (\"Input: \", v_state)\n",
    "\n",
    "h_bias = tf.constant([0.1, 0.1])\n",
    "print (\"hb: \", h_bias)\n",
    "print (\"w: \", W)\n",
    "\n",
    "# Calculate the probabilities of turning the hidden units on:\n",
    "h_prob = tf.nn.sigmoid(tf.matmul(v_state, W) + h_bias)  #probabilities of the hidden units\n",
    "print (\"p(h|v): \", h_prob)\n",
    "\n",
    "# Draw samples from the distribution:\n",
    "h_state = tf.nn.relu(tf.sign(h_prob - tf.random.uniform(tf.shape(h_prob)))) #states\n",
    "print (\"h0 states:\", h_state)"
   ]
  },
  {
   "cell_type": "markdown",
   "metadata": {},
   "source": [
    "<b>Phase 2) Backward Pass (Reconstruction):</b>\n",
    "The RBM reconstructs data by making several forward and backward passes between the visible and hidden layers.\n",
    "\n",
    "So, in the second phase (i.e. reconstruction phase), the samples from the hidden layer (i.e. $\\\\mathbf h$) becomes the input in the backward pass. The same weight matrix and visible layer biases are used to passed to the sigmoid function. The reproduced output is a reconstruction which is an approximation of the original input.\n"
   ]
  },
  {
   "cell_type": "code",
   "execution_count": 8,
   "metadata": {},
   "outputs": [
    {
     "name": "stdout",
     "output_type": "stream",
     "text": [
      "b:  tf.Tensor([0.1 0.2 0.1 0.1 0.1 0.2 0.1], shape=(7,), dtype=float32)\n",
      "p(vi∣h):  tf.Tensor(\n",
      "[[0.8248207  0.9811446  0.572844   0.4158397  0.15509701 0.46839187\n",
      "  0.35611373]], shape=(1, 7), dtype=float32)\n",
      "v probability states:  tf.Tensor([[1. 1. 1. 1. 0. 1. 0.]], shape=(1, 7), dtype=float32)\n"
     ]
    }
   ],
   "source": [
    "vb = tf.constant([0.1, 0.2, 0.1, 0.1, 0.1, 0.2, 0.1])\n",
    "print (\"b: \", vb)\n",
    "v_prob = tf.nn.sigmoid(tf.matmul(h_state, tf.transpose(W)) + vb)\n",
    "print (\"p(vi∣h): \", v_prob)\n",
    "v_state = tf.nn.relu(tf.sign(v_prob - tf.random.uniform(tf.shape(v_prob))))\n",
    "print (\"v probability states: \", v_state)"
   ]
  },
  {
   "cell_type": "markdown",
   "metadata": {},
   "source": [
    "RBM learns a probability distribution over the input, and then, after being trained, the RBM can generate new samples from the learned probability distribution. As you know, <b>probability distribution</b>, is a mathematical function that provides the probabilities of occurrence of different possible outcomes in an experiment.\n",
    "\n",
    "The (conditional) probability distribution over the visible units v is given by\n",
    "\n",
    "$p(\\\\mathbf{v} \\\\mid \\\\mathbf{h}) = \\\\prod\\_{i=1}^V p(v_i \\\\mid \\\\mathbf{h}),$\n",
    "\n",
    "where,\n",
    "\n",
    "$p(v_i \\\\mid \\\\mathbf{h}) = \\\\sigma\\\\left(\\\\sum_{j=1}^H W_{ji} h_j + v_{bias} \\\\right)$\n",
    "\n",
    "so, given current state of hidden units and weights, what is the probability of generating [1. 0. 0. 1. 0. 0. 0.] in reconstruction phase, based on the above <b>probability distribution</b> function?\n"
   ]
  },
  {
   "cell_type": "code",
   "execution_count": 9,
   "metadata": {},
   "outputs": [
    {
     "name": "stdout",
     "output_type": "stream",
     "text": [
      "input X: [[1. 0. 0. 1. 0. 0. 0.]]\n",
      "probablity vector: [0.8248207  0.9811446  0.572844   0.4158397  0.15509701 0.46839187\n",
      " 0.35611373]\n",
      "probability of generating X:  0.0007989419\n"
     ]
    }
   ],
   "source": [
    "inp = X\n",
    "print(\"input X:\" , inp.numpy())\n",
    "\n",
    "print(\"probablity vector:\" , v_prob[0].numpy())\n",
    "v_probability = 1\n",
    "\n",
    "for elm, p in zip(inp[0],v_prob[0]) :\n",
    "    if elm ==1:\n",
    "        v_probability *= p\n",
    "    else:\n",
    "        v_probability *= (1-p)\n",
    "\n",
    "print(\"probability of generating X: \" , v_probability.numpy())"
   ]
  },
  {
   "cell_type": "markdown",
   "metadata": {},
   "source": [
    "How similar are vectors $\\\\mathbf{x}$ and $\\\\mathbf{v}$? Of course, the reconstructed values most likely will not look anything like the input vector, because our network has not been trained yet. Our objective is to train the model in such a way that the input vector and reconstructed vector to be same. Therefore, based on how different the input values look to the ones that we just reconstructed, the weights are adjusted. \n"
   ]
  },
  {
   "cell_type": "markdown",
   "metadata": {},
   "source": [
    "<hr>\n"
   ]
  },
  {
   "cell_type": "markdown",
   "metadata": {},
   "source": [
    "<h2>MNIST</h2>\n"
   ]
  },
  {
   "cell_type": "markdown",
   "metadata": {},
   "source": [
    "We will be using the MNIST dataset to practice the usage of RBMs. The following cell loads the MNIST dataset.\n"
   ]
  },
  {
   "cell_type": "code",
   "execution_count": 10,
   "metadata": {},
   "outputs": [
    {
     "name": "stdout",
     "output_type": "stream",
     "text": [
      "Downloading data from https://storage.googleapis.com/tensorflow/tf-keras-datasets/mnist.npz\n",
      "11493376/11490434 [==============================] - 0s 0us/step\n"
     ]
    }
   ],
   "source": [
    "#loading training and test data\n",
    "mnist = tf.keras.datasets.mnist\n",
    "(trX, trY), (teX, teY) = mnist.load_data()\n",
    "\n",
    "# showing an example of the Flatten class and operation\n",
    "from tensorflow.keras.layers import Flatten\n",
    "flatten = Flatten(dtype='float32')\n",
    "trX = flatten(trX/255.0)\n",
    "trY = flatten(trY/255.0)"
   ]
  },
  {
   "cell_type": "markdown",
   "metadata": {},
   "source": [
    "Lets look at the dimension of the images.\n"
   ]
  },
  {
   "cell_type": "markdown",
   "metadata": {},
   "source": [
    "MNIST images have 784 pixels, so the visible layer must have 784 input nodes.  For our case, we'll use 50 nodes in the hidden layer, so i = 50.\n"
   ]
  },
  {
   "cell_type": "code",
   "execution_count": 11,
   "metadata": {},
   "outputs": [],
   "source": [
    "vb = tf.Variable(tf.zeros([784]), tf.float32)\n",
    "hb = tf.Variable(tf.zeros([50]), tf.float32)"
   ]
  },
  {
   "cell_type": "markdown",
   "metadata": {},
   "source": [
    "Let $\\\\mathbf W$ be the Tensor of 784x50 (784 - number of visible neurons, 50 - number of hidden neurons) that represents weights between the neurons. \n"
   ]
  },
  {
   "cell_type": "code",
   "execution_count": 12,
   "metadata": {},
   "outputs": [],
   "source": [
    "W = tf.Variable(tf.zeros([784,50]), tf.float32)"
   ]
  },
  {
   "cell_type": "markdown",
   "metadata": {},
   "source": [
    "Lets define the visible layer:\n"
   ]
  },
  {
   "cell_type": "code",
   "execution_count": 13,
   "metadata": {},
   "outputs": [
    {
     "data": {
      "text/plain": [
       "<tf.Tensor: shape=(1, 50), dtype=float32, numpy=\n",
       "array([[0., 0., 0., 0., 0., 0., 0., 0., 0., 0., 0., 0., 0., 0., 0., 0.,\n",
       "        0., 0., 0., 0., 0., 0., 0., 0., 0., 0., 0., 0., 0., 0., 0., 0.,\n",
       "        0., 0., 0., 0., 0., 0., 0., 0., 0., 0., 0., 0., 0., 0., 0., 0.,\n",
       "        0., 0.]], dtype=float32)>"
      ]
     },
     "execution_count": 13,
     "metadata": {},
     "output_type": "execute_result"
    }
   ],
   "source": [
    "v0_state = tf.Variable(tf.zeros([784]), tf.float32)\n",
    "\n",
    "#testing to see if the matrix product works\n",
    "tf.matmul( [v0_state], W)"
   ]
  },
  {
   "cell_type": "markdown",
   "metadata": {},
   "source": [
    "Now, we can define hidden layer:\n"
   ]
  },
  {
   "cell_type": "code",
   "execution_count": 14,
   "metadata": {},
   "outputs": [
    {
     "name": "stdout",
     "output_type": "stream",
     "text": [
      "h0_state shape:  tf.Tensor([ 1 50], shape=(2,), dtype=int32)\n",
      "first 15 hidden states:  tf.Tensor([0. 0. 1. 1. 1. 1. 1. 1. 1. 0. 1. 1. 0. 1. 0.], shape=(15,), dtype=float32)\n"
     ]
    }
   ],
   "source": [
    "#computing the hidden nodes probability vector and checking shape\n",
    "h0_prob = tf.nn.sigmoid(tf.matmul([v0_state], W) + hb)  #probabilities of the hidden units\n",
    "print(\"h0_state shape: \" , tf.shape(h0_prob))\n",
    "\n",
    "#defining a function to return only the generated hidden states \n",
    "def hidden_layer(v0_state, W, hb):\n",
    "    h0_prob = tf.nn.sigmoid(tf.matmul([v0_state], W) + hb)  #probabilities of the hidden units\n",
    "    h0_state = tf.nn.relu(tf.sign(h0_prob - tf.random.uniform(tf.shape(h0_prob)))) #sample_h_given_X\n",
    "    return h0_state\n",
    "\n",
    "\n",
    "h0_state = hidden_layer(v0_state, W, hb)\n",
    "print(\"first 15 hidden states: \", h0_state[0][0:15])"
   ]
  },
  {
   "cell_type": "markdown",
   "metadata": {},
   "source": [
    "Now, we define reconstruction part:\n"
   ]
  },
  {
   "cell_type": "code",
   "execution_count": 15,
   "metadata": {},
   "outputs": [
    {
     "name": "stdout",
     "output_type": "stream",
     "text": [
      "hidden state shape:  (1, 50)\n",
      "v0 state shape:   (784,)\n",
      "v1 state shape:   (784,)\n"
     ]
    }
   ],
   "source": [
    "def reconstructed_output(h0_state, W, vb):\n",
    "    v1_prob = tf.nn.sigmoid(tf.matmul(h0_state, tf.transpose(W)) + vb) \n",
    "    v1_state = tf.nn.relu(tf.sign(v1_prob - tf.random.uniform(tf.shape(v1_prob)))) #sample_v_given_h\n",
    "    return v1_state[0]\n",
    "\n",
    "v1_state = reconstructed_output(h0_state, W, vb)\n",
    "print(\"hidden state shape: \", h0_state.shape)\n",
    "print(\"v0 state shape:  \", v0_state.shape)\n",
    "print(\"v1 state shape:  \", v1_state.shape)"
   ]
  },
  {
   "cell_type": "markdown",
   "metadata": {},
   "source": [
    "<h3>What is the objective function?</h3>\n",
    "\n",
    "<b>Goal</b>: Maximize the likelihood of our data being drawn from that distribution\n",
    "\n",
    "<b>Calculate error:</b>  \n",
    "In each epoch, we compute the \"error\" as a sum of the squared difference between step 1 and step n,\n",
    "e.g the error shows the difference between the data and its reconstruction.\n",
    "\n",
    "<b>Note:</b> tf.reduce_mean computes the mean of elements across dimensions of a tensor.\n"
   ]
  },
  {
   "cell_type": "code",
   "execution_count": 16,
   "metadata": {},
   "outputs": [
    {
     "name": "stdout",
     "output_type": "stream",
     "text": [
      "error 0.48086736\n"
     ]
    }
   ],
   "source": [
    "def error(v0_state, v1_state):\n",
    "    return tf.reduce_mean(tf.square(v0_state - v1_state))\n",
    "\n",
    "err = tf.reduce_mean(tf.square(v0_state - v1_state))\n",
    "print(\"error\" , err.numpy())"
   ]
  },
  {
   "cell_type": "markdown",
   "metadata": {},
   "source": [
    "<a id=\"ref4\"></a>\n",
    "\n",
    "<h3>Training the Model</h3>\n",
    "<b>Warning...</b> The following part is math-heavy, but you can skip it if you just want to run the cells in the next section.\n",
    "\n",
    "As mentioned, we want to give a high probability to the input data we train on. So, in order to train an RBM, we have to maximize the product of probabilities assigned to all rows $\\\\mathbf{v}$ (images) in the training set $\\\\mathbf{V}$ (a matrix, where each row of it is treated as a visible vector $\\\\mathbf{v}$)\n",
    "\n",
    "$$\\\\arg\\\\max_W\\\\prod_{\\\\mathbf{v}\\\\in\\\\mathbf{V}\\_T}p(\\\\mathbf{v}),$$\n",
    "\n",
    "which is equivalent to maximizing the expectation of the log probability, given as\n",
    "\n",
    "$$\\\\arg\\\\max_W\\\\left\\[ \\\\mathbb{E} \\\\left(\\\\prod_{\\\\mathbf v\\\\in \\\\mathbf V}\\\\text{log} \\\\left(p(\\\\mathbf v)\\\\right) \\\\right) \\\\right].$$\n",
    "\n",
    "So, we have to update the weights $W\\_{ij}$  to increase $p(\\\\mathbf{v})$ for all $\\\\mathbf{v}$ in our training data during training. So we have to calculate the derivative:\n",
    "\n",
    "$$\\\\frac{\\\\partial \\\\log p(\\\\mathbf v)}{\\\\partial W\\_{ij}}$$\n",
    "\n",
    "This cannot be easily done by typical <b>gradient descent (SGD)</b>, so we can use another approach, which has 2 steps:\n",
    "\n",
    "<ol>\n",
    "    <li>Gibbs Sampling</li>\n",
    "    <li>Contrastive Divergence</li>\n",
    "</ol>    \n",
    "    \n",
    "<h3>Gibbs Sampling</h3>   \n",
    "\n",
    "<h4>Gibbs Sampling Step 1</h4> \n",
    "Given an input vector $\\mathbf{v}$, we are using $p(\\mathbf{h}|\\mathbf{v})$ to predict the hidden values $\\mathbf{h}$. \n",
    "  $$p({h_j}|\\mathbf v)= \\sigma\\left(\\sum_{i=1}^V W_{ij} v_i + h_{bias} \\right)$$\n",
    "The samples are generated from this distribution by generating the uniform random variate vector $\\mathbf{\\xi} \\sim U[0,1]$ of length $H$ and comparing to the computed probabilities as\n",
    "\n",
    "<center>If $\\xi_j>p(h_{j}|\\mathbf{v})$, then $h_j=1$, else $h_j=0$.</center>\n",
    "\n",
    "<h4>Gibbs Sampling Step 2</h4> \n",
    "Then, knowing the hidden values, we use $p(\\mathbf v| \\mathbf h)$ for reconstructing of new input values v. \n",
    "\n",
    "   $$p({v_i}|\\\\mathbf h)= \\\\sigma\\\\left(\\\\sum_{j=1}^H W^{T}_{ij} h_j + v_{bias} \\\\right)$$\n",
    "\n",
    "The samples are generated from this distribution by generating a uniform random variate vector $\\\\mathbf{\\\\xi} \\\\sim U[0,1]$ of length $V$ and comparing to the computed probabilities as\n",
    "\n",
    "<center>If $\\xi_i>p(v_{i}|\\mathbf{h})$, then $v_i=1$, else $v_i=0$.</center>\n",
    "\n",
    "Let vectors $\\\\mathbf v_k$ and $\\\\mathbf h_k$ be for the $k$th iteration.  In general, the $kth$ state is generrated as: \n",
    "\n",
    "<b>Iteration</b> $k$: \n",
    "\n",
    "$$\\\\mathbf v_{k-1} \\\\Rightarrow p(\\\\mathbf h_{k-1}|\\\\mathbf v_{k-1})\\\\Rightarrow \\\\mathbf h_{k-1}\\\\Rightarrow p(\\\\mathbf v_{k}|\\\\mathbf h_{k-1})\\\\Rightarrow \\\\mathbf v_k$$       \n",
    "\n",
    "<h3>Contrastive Divergence (CD-k)</h3>\n",
    "The update of the weight matrix is done during the Contrastive Divergence step. \n",
    "\n",
    "Vectors v0 and vk are used to calculate the activation probabilities for hidden values h0 and hk. The difference between the outer products of those probabilities with input vectors v0 and vk results in the update matrix:\n",
    "\n",
    "$\\\\Delta \\\\mathbf W_k =\\\\mathbf v_k \\\\otimes \\\\mathbf h_k - \\\\mathbf v_{k-1} \\\\otimes \\\\mathbf h\\_{k-1}$ \n",
    "\n",
    "Contrastive Divergence is actually matrix of values that is computed and used to adjust values of the $\\\\mathbf W$ matrix. Changing $\\\\mathbf W$ incrementally leads to training of the  $\\\\mathbf W$ values. Then, on each step (epoch), $\\\\mathbf W$ is updated using the following:\n",
    "\n",
    "$\\\\mathbf W_k = \\\\mathbf W_{k-1} + \\\\alpha \\* \\\\Delta \\\\mathbf W_k$ \n",
    "\n",
    "Reconstruction steps:\n",
    "\n",
    "<ul>\n",
    "    <li> Get one data point from data set, like <i>x</i>, and pass it through the following steps:</li>\n",
    "    \n",
    "<b>Iteration</b> $k=1$: \n",
    "    \n",
    "Sampling (starting with input image)\n",
    "    $$\\mathbf x = \\mathbf v_0 \\Rightarrow p(\\mathbf h_0|\\mathbf v_0)\\Rightarrow \\mathbf h_0 \\Rightarrow p(\\mathbf v_1|\\mathbf h_0)\\Rightarrow \\mathbf v_1$$   \n",
    "    followed by the CD-k step\n",
    "$$\\Delta \\mathbf W_1 =\\mathbf v_1 \\otimes \\mathbf h_1 - \\mathbf v_{0} \\otimes \\mathbf h_{0}$$     \n",
    "$$\\mathbf W_1 = \\mathbf W_{0} + \\alpha * \\Delta \\mathbf W_1$$ \n",
    " \n",
    "<li> $\\mathbf v_1$ is the reconstruction of $\\mathbf x$ sent to the next iteration).</li>\n",
    "\n",
    "<b>Iteration</b> $k=2$: \n",
    "\n",
    "Sampling (starting with $\\\\mathbf v_1$)\n",
    "\n",
    "$$\\\\mathbf v_1 \\\\Rightarrow p(\\\\mathbf h_1|\\\\mathbf v_1)\\\\Rightarrow \\\\mathbf h_1\\\\Rightarrow p(\\\\mathbf v_2|\\\\mathbf h_1)\\\\Rightarrow \\\\mathbf v_2$$   \n",
    "\n",
    "followed by the CD-k step\n",
    "$$\\\\Delta \\\\mathbf W_2 =\\\\mathbf v_2 \\\\otimes \\\\mathbf h_2 - \\\\mathbf v_{1} \\\\otimes \\\\mathbf h_{1}$$  \n",
    "$$\\\\mathbf W_2 = \\\\mathbf W_{1} + \\\\alpha \\* \\\\Delta \\\\mathbf W_2$$ \n",
    "\n",
    "<li> $\\mathbf v_2$ is the reconstruction of $\\mathbf v_1$ sent to the next iteration).</li>    \n",
    "      \n",
    "<b>Iteration</b> $k=K$:\n",
    "    \n",
    "Sampling (starting with $\\mathbf v_{K-1}$)\n",
    "\n",
    "$$\\\\mathbf v_{K-1} \\\\Rightarrow p(\\\\mathbf h_{K-1}|\\\\mathbf v_{K-1})\\\\Rightarrow \\\\mathbf h_{K-1}\\\\Rightarrow p(\\\\mathbf v_K|\\\\mathbf h_{K-1})\\\\Rightarrow \\\\mathbf v_K$$   \n",
    "\n",
    "followed by the CD-k step\n",
    "$$\\\\Delta \\\\mathbf W_K =\\\\mathbf v_K \\\\otimes \\\\mathbf h_K - \\\\mathbf v_{K-1} \\\\otimes \\\\mathbf h_{K-1}$$  \n",
    "$$\\\\mathbf W_K = \\\\mathbf W_{K-1} + \\\\alpha \\* \\\\Delta \\\\mathbf W_K$$ \n",
    "\n",
    "<b>What is $\\\\alpha$?</b>  \n",
    "Here, alpha is some small step size, and is also known as the \"learning rate\".\n"
   ]
  },
  {
   "cell_type": "markdown",
   "metadata": {},
   "source": [
    "$K$ is adjustable, and good performance can be achieved with $K=1$, so that we just take one set of sampling steps per image.\n"
   ]
  },
  {
   "cell_type": "code",
   "execution_count": 17,
   "metadata": {},
   "outputs": [],
   "source": [
    "h1_prob = tf.nn.sigmoid(tf.matmul([v1_state], W) + hb)\n",
    "h1_state = tf.nn.relu(tf.sign(h1_prob - tf.random.uniform(tf.shape(h1_prob)))) #sample_h_given_X"
   ]
  },
  {
   "cell_type": "markdown",
   "metadata": {},
   "source": [
    "Lets look at the error of the first run:\n"
   ]
  },
  {
   "cell_type": "code",
   "execution_count": 18,
   "metadata": {},
   "outputs": [
    {
     "name": "stdout",
     "output_type": "stream",
     "text": [
      "error:  tf.Tensor(0.48086736, shape=(), dtype=float32)\n"
     ]
    }
   ],
   "source": [
    "print(\"error: \", error(v0_state, v1_state))"
   ]
  },
  {
   "cell_type": "code",
   "execution_count": 22,
   "metadata": {},
   "outputs": [
    {
     "name": "stdout",
     "output_type": "stream",
     "text": [
      "Epoch: 0 batch #: 1  of 200 sample #: 199 reconstruction error: 0.156490\n",
      "Epoch: 0 batch #: 2  of 200 sample #: 199 reconstruction error: 0.164999\n",
      "Epoch: 0 batch #: 3  of 200 sample #: 199 reconstruction error: 0.106509\n",
      "Epoch: 0 batch #: 4  of 200 sample #: 199 reconstruction error: 0.109345\n",
      "Epoch: 0 batch #: 5  of 200 sample #: 199 reconstruction error: 0.099918\n",
      "Epoch: 0 batch #: 6  of 200 sample #: 199 reconstruction error: 0.178351\n",
      "Epoch: 0 batch #: 7  of 200 sample #: 199 reconstruction error: 0.079375\n",
      "Epoch: 0 batch #: 8  of 200 sample #: 199 reconstruction error: 0.099411\n",
      "Epoch: 0 batch #: 9  of 200 sample #: 199 reconstruction error: 0.086837\n",
      "Epoch: 0 batch #: 10  of 200 sample #: 199 reconstruction error: 0.165317\n",
      "Epoch: 0 batch #: 11  of 200 sample #: 199 reconstruction error: 0.095167\n",
      "Epoch: 0 batch #: 12  of 200 sample #: 199 reconstruction error: 0.123725\n",
      "Epoch: 0 batch #: 13  of 200 sample #: 199 reconstruction error: 0.070996\n",
      "Epoch: 0 batch #: 14  of 200 sample #: 199 reconstruction error: 0.097280\n",
      "Epoch: 0 batch #: 15  of 200 sample #: 199 reconstruction error: 0.097095\n",
      "Epoch: 0 batch #: 16  of 200 sample #: 199 reconstruction error: 0.107552\n",
      "Epoch: 0 batch #: 17  of 200 sample #: 199 reconstruction error: 0.074242\n",
      "Epoch: 0 batch #: 18  of 200 sample #: 199 reconstruction error: 0.123001\n",
      "Epoch: 0 batch #: 19  of 200 sample #: 199 reconstruction error: 0.154171\n",
      "Epoch: 0 batch #: 20  of 200 sample #: 199 reconstruction error: 0.079632\n",
      "Epoch: 0 batch #: 21  of 200 sample #: 199 reconstruction error: 0.078259\n",
      "Epoch: 0 batch #: 22  of 200 sample #: 199 reconstruction error: 0.099923\n",
      "Epoch: 0 batch #: 23  of 200 sample #: 199 reconstruction error: 0.105092\n",
      "Epoch: 0 batch #: 24  of 200 sample #: 199 reconstruction error: 0.126500\n",
      "Epoch: 0 batch #: 25  of 200 sample #: 199 reconstruction error: 0.095953\n",
      "Epoch: 0 batch #: 26  of 200 sample #: 199 reconstruction error: 0.087972\n",
      "Epoch: 0 batch #: 27  of 200 sample #: 199 reconstruction error: 0.106722\n",
      "Epoch: 0 batch #: 28  of 200 sample #: 199 reconstruction error: 0.076923\n",
      "Epoch: 0 batch #: 29  of 200 sample #: 199 reconstruction error: 0.087325\n",
      "Epoch: 0 batch #: 30  of 200 sample #: 199 reconstruction error: 0.086097\n",
      "Epoch: 0 batch #: 31  of 200 sample #: 199 reconstruction error: 0.085131\n",
      "Epoch: 0 batch #: 32  of 200 sample #: 199 reconstruction error: 0.103092\n",
      "Epoch: 0 batch #: 33  of 200 sample #: 199 reconstruction error: 0.055871\n",
      "Epoch: 0 batch #: 34  of 200 sample #: 199 reconstruction error: 0.077056\n",
      "Epoch: 0 batch #: 35  of 200 sample #: 199 reconstruction error: 0.079647\n",
      "Epoch: 0 batch #: 36  of 200 sample #: 199 reconstruction error: 0.075285\n",
      "Epoch: 0 batch #: 37  of 200 sample #: 199 reconstruction error: 0.059927\n",
      "Epoch: 0 batch #: 38  of 200 sample #: 199 reconstruction error: 0.078866\n",
      "Epoch: 0 batch #: 39  of 200 sample #: 199 reconstruction error: 0.090126\n",
      "Epoch: 0 batch #: 40  of 200 sample #: 199 reconstruction error: 0.117961\n",
      "Epoch: 0 batch #: 41  of 200 sample #: 199 reconstruction error: 0.074151\n",
      "Epoch: 0 batch #: 42  of 200 sample #: 199 reconstruction error: 0.066825\n",
      "Epoch: 0 batch #: 43  of 200 sample #: 199 reconstruction error: 0.134122\n",
      "Epoch: 0 batch #: 44  of 200 sample #: 199 reconstruction error: 0.067128\n",
      "Epoch: 0 batch #: 45  of 200 sample #: 199 reconstruction error: 0.052169\n",
      "Epoch: 0 batch #: 46  of 200 sample #: 199 reconstruction error: 0.028385\n",
      "Epoch: 0 batch #: 47  of 200 sample #: 199 reconstruction error: 0.038635\n",
      "Epoch: 0 batch #: 48  of 200 sample #: 199 reconstruction error: 0.046199\n",
      "Epoch: 0 batch #: 49  of 200 sample #: 199 reconstruction error: 0.126659\n",
      "Epoch: 0 batch #: 50  of 200 sample #: 199 reconstruction error: 0.039703\n",
      "Epoch: 0 batch #: 51  of 200 sample #: 199 reconstruction error: 0.063361\n",
      "Epoch: 0 batch #: 52  of 200 sample #: 199 reconstruction error: 0.041803\n",
      "Epoch: 0 batch #: 53  of 200 sample #: 199 reconstruction error: 0.097123\n",
      "Epoch: 0 batch #: 54  of 200 sample #: 199 reconstruction error: 0.057151\n",
      "Epoch: 0 batch #: 55  of 200 sample #: 199 reconstruction error: 0.098195\n",
      "Epoch: 0 batch #: 56  of 200 sample #: 199 reconstruction error: 0.068661\n",
      "Epoch: 0 batch #: 57  of 200 sample #: 199 reconstruction error: 0.050961\n",
      "Epoch: 0 batch #: 58  of 200 sample #: 199 reconstruction error: 0.074332\n",
      "Epoch: 0 batch #: 59  of 200 sample #: 199 reconstruction error: 0.054645\n",
      "Epoch: 0 batch #: 60  of 200 sample #: 199 reconstruction error: 0.081860\n",
      "Epoch: 0 batch #: 61  of 200 sample #: 199 reconstruction error: 0.067277\n",
      "Epoch: 0 batch #: 62  of 200 sample #: 199 reconstruction error: 0.081934\n",
      "Epoch: 0 batch #: 63  of 200 sample #: 199 reconstruction error: 0.055271\n",
      "Epoch: 0 batch #: 64  of 200 sample #: 199 reconstruction error: 0.074338\n",
      "Epoch: 0 batch #: 65  of 200 sample #: 199 reconstruction error: 0.074870\n",
      "Epoch: 0 batch #: 66  of 200 sample #: 199 reconstruction error: 0.056624\n",
      "Epoch: 0 batch #: 67  of 200 sample #: 199 reconstruction error: 0.056067\n",
      "Epoch: 0 batch #: 68  of 200 sample #: 199 reconstruction error: 0.055895\n",
      "Epoch: 0 batch #: 69  of 200 sample #: 199 reconstruction error: 0.091601\n",
      "Epoch: 0 batch #: 70  of 200 sample #: 199 reconstruction error: 0.077076\n",
      "Epoch: 0 batch #: 71  of 200 sample #: 199 reconstruction error: 0.077936\n",
      "Epoch: 0 batch #: 72  of 200 sample #: 199 reconstruction error: 0.061755\n",
      "Epoch: 0 batch #: 73  of 200 sample #: 199 reconstruction error: 0.086243\n",
      "Epoch: 0 batch #: 74  of 200 sample #: 199 reconstruction error: 0.089652\n",
      "Epoch: 0 batch #: 75  of 200 sample #: 199 reconstruction error: 0.047162\n",
      "Epoch: 0 batch #: 76  of 200 sample #: 199 reconstruction error: 0.073244\n",
      "Epoch: 0 batch #: 77  of 200 sample #: 199 reconstruction error: 0.110137\n",
      "Epoch: 0 batch #: 78  of 200 sample #: 199 reconstruction error: 0.118545\n",
      "Epoch: 0 batch #: 79  of 200 sample #: 199 reconstruction error: 0.108707\n",
      "Epoch: 0 batch #: 80  of 200 sample #: 199 reconstruction error: 0.024958\n",
      "Epoch: 0 batch #: 81  of 200 sample #: 199 reconstruction error: 0.063699\n",
      "Epoch: 0 batch #: 82  of 200 sample #: 199 reconstruction error: 0.043977\n",
      "Epoch: 0 batch #: 83  of 200 sample #: 199 reconstruction error: 0.070678\n",
      "Epoch: 0 batch #: 84  of 200 sample #: 199 reconstruction error: 0.080394\n",
      "Epoch: 0 batch #: 85  of 200 sample #: 199 reconstruction error: 0.060564\n",
      "Epoch: 0 batch #: 86  of 200 sample #: 199 reconstruction error: 0.081852\n",
      "Epoch: 0 batch #: 87  of 200 sample #: 199 reconstruction error: 0.078281\n",
      "Epoch: 0 batch #: 88  of 200 sample #: 199 reconstruction error: 0.032543\n",
      "Epoch: 0 batch #: 89  of 200 sample #: 199 reconstruction error: 0.061674\n",
      "Epoch: 0 batch #: 90  of 200 sample #: 199 reconstruction error: 0.075585\n",
      "Epoch: 0 batch #: 91  of 200 sample #: 199 reconstruction error: 0.057055\n",
      "Epoch: 0 batch #: 92  of 200 sample #: 199 reconstruction error: 0.053599\n",
      "Epoch: 0 batch #: 93  of 200 sample #: 199 reconstruction error: 0.107564\n",
      "Epoch: 0 batch #: 94  of 200 sample #: 199 reconstruction error: 0.095948\n",
      "Epoch: 0 batch #: 95  of 200 sample #: 199 reconstruction error: 0.068407\n",
      "Epoch: 0 batch #: 96  of 200 sample #: 199 reconstruction error: 0.043556\n",
      "Epoch: 0 batch #: 97  of 200 sample #: 199 reconstruction error: 0.114339\n",
      "Epoch: 0 batch #: 98  of 200 sample #: 199 reconstruction error: 0.088659\n",
      "Epoch: 0 batch #: 99  of 200 sample #: 199 reconstruction error: 0.064719\n",
      "Epoch: 0 batch #: 100  of 200 sample #: 199 reconstruction error: 0.119937\n",
      "Epoch: 0 batch #: 101  of 200 sample #: 199 reconstruction error: 0.077138\n",
      "Epoch: 0 batch #: 102  of 200 sample #: 199 reconstruction error: 0.083217\n",
      "Epoch: 0 batch #: 103  of 200 sample #: 199 reconstruction error: 0.081671\n",
      "Epoch: 0 batch #: 104  of 200 sample #: 199 reconstruction error: 0.068036\n",
      "Epoch: 0 batch #: 105  of 200 sample #: 199 reconstruction error: 0.065408\n",
      "Epoch: 0 batch #: 106  of 200 sample #: 199 reconstruction error: 0.102415\n",
      "Epoch: 0 batch #: 107  of 200 sample #: 199 reconstruction error: 0.130275\n",
      "Epoch: 0 batch #: 108  of 200 sample #: 199 reconstruction error: 0.053160\n",
      "Epoch: 0 batch #: 109  of 200 sample #: 199 reconstruction error: 0.105473\n",
      "Epoch: 0 batch #: 110  of 200 sample #: 199 reconstruction error: 0.065304\n",
      "Epoch: 0 batch #: 111  of 200 sample #: 199 reconstruction error: 0.114927\n",
      "Epoch: 0 batch #: 112  of 200 sample #: 199 reconstruction error: 0.053116\n",
      "Epoch: 0 batch #: 113  of 200 sample #: 199 reconstruction error: 0.088710\n",
      "Epoch: 0 batch #: 114  of 200 sample #: 199 reconstruction error: 0.063930\n",
      "Epoch: 0 batch #: 115  of 200 sample #: 199 reconstruction error: 0.064653\n",
      "Epoch: 0 batch #: 116  of 200 sample #: 199 reconstruction error: 0.066737\n",
      "Epoch: 0 batch #: 117  of 200 sample #: 199 reconstruction error: 0.044173\n",
      "Epoch: 0 batch #: 118  of 200 sample #: 199 reconstruction error: 0.080903\n",
      "Epoch: 0 batch #: 119  of 200 sample #: 199 reconstruction error: 0.119857\n",
      "Epoch: 0 batch #: 120  of 200 sample #: 199 reconstruction error: 0.070634\n",
      "Epoch: 0 batch #: 121  of 200 sample #: 199 reconstruction error: 0.037546\n",
      "Epoch: 0 batch #: 122  of 200 sample #: 199 reconstruction error: 0.076177\n",
      "Epoch: 0 batch #: 123  of 200 sample #: 199 reconstruction error: 0.075938\n",
      "Epoch: 0 batch #: 124  of 200 sample #: 199 reconstruction error: 0.064976\n",
      "Epoch: 0 batch #: 125  of 200 sample #: 199 reconstruction error: 0.048478\n",
      "Epoch: 0 batch #: 126  of 200 sample #: 199 reconstruction error: 0.081741\n",
      "Epoch: 0 batch #: 127  of 200 sample #: 199 reconstruction error: 0.081741\n",
      "Epoch: 0 batch #: 128  of 200 sample #: 199 reconstruction error: 0.044087\n",
      "Epoch: 0 batch #: 129  of 200 sample #: 199 reconstruction error: 0.058563\n",
      "Epoch: 0 batch #: 130  of 200 sample #: 199 reconstruction error: 0.067376\n",
      "Epoch: 0 batch #: 131  of 200 sample #: 199 reconstruction error: 0.071781\n",
      "Epoch: 0 batch #: 132  of 200 sample #: 199 reconstruction error: 0.046586\n",
      "Epoch: 0 batch #: 133  of 200 sample #: 199 reconstruction error: 0.057020\n",
      "Epoch: 0 batch #: 134  of 200 sample #: 199 reconstruction error: 0.091045\n",
      "Epoch: 0 batch #: 135  of 200 sample #: 199 reconstruction error: 0.094748\n",
      "Epoch: 0 batch #: 136  of 200 sample #: 199 reconstruction error: 0.091535\n",
      "Epoch: 0 batch #: 137  of 200 sample #: 199 reconstruction error: 0.078700\n",
      "Epoch: 0 batch #: 138  of 200 sample #: 199 reconstruction error: 0.069521\n",
      "Epoch: 0 batch #: 139  of 200 sample #: 199 reconstruction error: 0.115287\n",
      "Epoch: 0 batch #: 140  of 200 sample #: 199 reconstruction error: 0.087150\n",
      "Epoch: 0 batch #: 141  of 200 sample #: 199 reconstruction error: 0.084156\n",
      "Epoch: 0 batch #: 142  of 200 sample #: 199 reconstruction error: 0.074296\n",
      "Epoch: 0 batch #: 143  of 200 sample #: 199 reconstruction error: 0.069907\n",
      "Epoch: 0 batch #: 144  of 200 sample #: 199 reconstruction error: 0.068433\n",
      "Epoch: 0 batch #: 145  of 200 sample #: 199 reconstruction error: 0.104976\n",
      "Epoch: 0 batch #: 146  of 200 sample #: 199 reconstruction error: 0.099533\n",
      "Epoch: 0 batch #: 147  of 200 sample #: 199 reconstruction error: 0.071171\n",
      "Epoch: 0 batch #: 148  of 200 sample #: 199 reconstruction error: 0.077875\n",
      "Epoch: 0 batch #: 149  of 200 sample #: 199 reconstruction error: 0.032888\n",
      "Epoch: 0 batch #: 150  of 200 sample #: 199 reconstruction error: 0.041879\n",
      "Epoch: 0 batch #: 151  of 200 sample #: 199 reconstruction error: 0.107647\n",
      "Epoch: 0 batch #: 152  of 200 sample #: 199 reconstruction error: 0.094479\n",
      "Epoch: 0 batch #: 153  of 200 sample #: 199 reconstruction error: 0.058036\n",
      "Epoch: 0 batch #: 154  of 200 sample #: 199 reconstruction error: 0.068425\n",
      "Epoch: 0 batch #: 155  of 200 sample #: 199 reconstruction error: 0.059822\n",
      "Epoch: 0 batch #: 156  of 200 sample #: 199 reconstruction error: 0.068234\n",
      "Epoch: 0 batch #: 157  of 200 sample #: 199 reconstruction error: 0.078793\n",
      "Epoch: 0 batch #: 158  of 200 sample #: 199 reconstruction error: 0.065458\n",
      "Epoch: 0 batch #: 159  of 200 sample #: 199 reconstruction error: 0.053794\n",
      "Epoch: 0 batch #: 160  of 200 sample #: 199 reconstruction error: 0.081112\n",
      "Epoch: 0 batch #: 161  of 200 sample #: 199 reconstruction error: 0.083460\n",
      "Epoch: 0 batch #: 162  of 200 sample #: 199 reconstruction error: 0.100003\n",
      "Epoch: 0 batch #: 163  of 200 sample #: 199 reconstruction error: 0.041207\n",
      "Epoch: 0 batch #: 164  of 200 sample #: 199 reconstruction error: 0.080121\n",
      "Epoch: 0 batch #: 165  of 200 sample #: 199 reconstruction error: 0.095951\n",
      "Epoch: 0 batch #: 166  of 200 sample #: 199 reconstruction error: 0.054748\n",
      "Epoch: 0 batch #: 167  of 200 sample #: 199 reconstruction error: 0.093357\n",
      "Epoch: 0 batch #: 168  of 200 sample #: 199 reconstruction error: 0.050492\n",
      "Epoch: 0 batch #: 169  of 200 sample #: 199 reconstruction error: 0.047810\n",
      "Epoch: 0 batch #: 170  of 200 sample #: 199 reconstruction error: 0.072334\n",
      "Epoch: 0 batch #: 171  of 200 sample #: 199 reconstruction error: 0.028800\n",
      "Epoch: 0 batch #: 172  of 200 sample #: 199 reconstruction error: 0.052092\n",
      "Epoch: 0 batch #: 173  of 200 sample #: 199 reconstruction error: 0.085704\n",
      "Epoch: 0 batch #: 174  of 200 sample #: 199 reconstruction error: 0.094888\n",
      "Epoch: 0 batch #: 175  of 200 sample #: 199 reconstruction error: 0.062414\n",
      "Epoch: 0 batch #: 176  of 200 sample #: 199 reconstruction error: 0.038313\n",
      "Epoch: 0 batch #: 177  of 200 sample #: 199 reconstruction error: 0.039118\n",
      "Epoch: 0 batch #: 178  of 200 sample #: 199 reconstruction error: 0.100638\n",
      "Epoch: 0 batch #: 179  of 200 sample #: 199 reconstruction error: 0.069997\n",
      "Epoch: 0 batch #: 180  of 200 sample #: 199 reconstruction error: 0.089148\n",
      "Epoch: 0 batch #: 181  of 200 sample #: 199 reconstruction error: 0.111339\n",
      "Epoch: 0 batch #: 182  of 200 sample #: 199 reconstruction error: 0.097620\n",
      "Epoch: 0 batch #: 183  of 200 sample #: 199 reconstruction error: 0.112040\n",
      "Epoch: 0 batch #: 184  of 200 sample #: 199 reconstruction error: 0.050923\n",
      "Epoch: 0 batch #: 185  of 200 sample #: 199 reconstruction error: 0.073528\n",
      "Epoch: 0 batch #: 186  of 200 sample #: 199 reconstruction error: 0.090509\n",
      "Epoch: 0 batch #: 187  of 200 sample #: 199 reconstruction error: 0.061770\n",
      "Epoch: 0 batch #: 188  of 200 sample #: 199 reconstruction error: 0.108174\n",
      "Epoch: 0 batch #: 189  of 200 sample #: 199 reconstruction error: 0.074330\n",
      "Epoch: 0 batch #: 190  of 200 sample #: 199 reconstruction error: 0.059697\n",
      "Epoch: 0 batch #: 191  of 200 sample #: 199 reconstruction error: 0.097415\n",
      "Epoch: 0 batch #: 192  of 200 sample #: 199 reconstruction error: 0.143083\n",
      "Epoch: 0 batch #: 193  of 200 sample #: 199 reconstruction error: 0.091649\n",
      "Epoch: 0 batch #: 194  of 200 sample #: 199 reconstruction error: 0.076713\n",
      "Epoch: 0 batch #: 195  of 200 sample #: 199 reconstruction error: 0.047164\n",
      "Epoch: 0 batch #: 196  of 200 sample #: 199 reconstruction error: 0.038860\n",
      "Epoch: 0 batch #: 197  of 200 sample #: 199 reconstruction error: 0.044876\n",
      "Epoch: 0 batch #: 198  of 200 sample #: 199 reconstruction error: 0.102109\n",
      "Epoch: 0 batch #: 199  of 200 sample #: 199 reconstruction error: 0.067644\n",
      "Epoch: 0 batch #: 200  of 200 sample #: 199 reconstruction error: 0.105247\n",
      "Epoch: 0 batch #: 201  of 200 sample #: 199 reconstruction error: 0.107319\n",
      "Epoch: 0 batch #: 202  of 200 sample #: 199 reconstruction error: 0.026082\n",
      "Epoch: 0 batch #: 203  of 200 sample #: 199 reconstruction error: 0.075455\n",
      "Epoch: 0 batch #: 204  of 200 sample #: 199 reconstruction error: 0.051895\n",
      "Epoch: 0 batch #: 205  of 200 sample #: 199 reconstruction error: 0.026548\n",
      "Epoch: 0 batch #: 206  of 200 sample #: 199 reconstruction error: 0.060551\n",
      "Epoch: 0 batch #: 207  of 200 sample #: 199 reconstruction error: 0.080177\n",
      "Epoch: 0 batch #: 208  of 200 sample #: 199 reconstruction error: 0.053760\n",
      "Epoch: 0 batch #: 209  of 200 sample #: 199 reconstruction error: 0.026719\n",
      "Epoch: 0 batch #: 210  of 200 sample #: 199 reconstruction error: 0.107625\n",
      "Epoch: 0 batch #: 211  of 200 sample #: 199 reconstruction error: 0.105780\n",
      "Epoch: 0 batch #: 212  of 200 sample #: 199 reconstruction error: 0.075813\n",
      "Epoch: 0 batch #: 213  of 200 sample #: 199 reconstruction error: 0.098472\n",
      "Epoch: 0 batch #: 214  of 200 sample #: 199 reconstruction error: 0.092375\n",
      "Epoch: 0 batch #: 215  of 200 sample #: 199 reconstruction error: 0.030177\n",
      "Epoch: 0 batch #: 216  of 200 sample #: 199 reconstruction error: 0.094880\n",
      "Epoch: 0 batch #: 217  of 200 sample #: 199 reconstruction error: 0.066795\n",
      "Epoch: 0 batch #: 218  of 200 sample #: 199 reconstruction error: 0.077245\n",
      "Epoch: 0 batch #: 219  of 200 sample #: 199 reconstruction error: 0.063723\n",
      "Epoch: 0 batch #: 220  of 200 sample #: 199 reconstruction error: 0.063892\n",
      "Epoch: 0 batch #: 221  of 200 sample #: 199 reconstruction error: 0.078219\n",
      "Epoch: 0 batch #: 222  of 200 sample #: 199 reconstruction error: 0.082575\n",
      "Epoch: 0 batch #: 223  of 200 sample #: 199 reconstruction error: 0.075554\n",
      "Epoch: 0 batch #: 224  of 200 sample #: 199 reconstruction error: 0.062230\n",
      "Epoch: 0 batch #: 225  of 200 sample #: 199 reconstruction error: 0.066972\n",
      "Epoch: 0 batch #: 226  of 200 sample #: 199 reconstruction error: 0.132844\n",
      "Epoch: 0 batch #: 227  of 200 sample #: 199 reconstruction error: 0.090401\n",
      "Epoch: 0 batch #: 228  of 200 sample #: 199 reconstruction error: 0.065505\n",
      "Epoch: 0 batch #: 229  of 200 sample #: 199 reconstruction error: 0.082342\n",
      "Epoch: 0 batch #: 230  of 200 sample #: 199 reconstruction error: 0.041001\n",
      "Epoch: 0 batch #: 231  of 200 sample #: 199 reconstruction error: 0.030266\n",
      "Epoch: 0 batch #: 232  of 200 sample #: 199 reconstruction error: 0.078362\n",
      "Epoch: 0 batch #: 233  of 200 sample #: 199 reconstruction error: 0.083205\n",
      "Epoch: 0 batch #: 234  of 200 sample #: 199 reconstruction error: 0.059150\n",
      "Epoch: 0 batch #: 235  of 200 sample #: 199 reconstruction error: 0.071756\n",
      "Epoch: 0 batch #: 236  of 200 sample #: 199 reconstruction error: 0.092753\n",
      "Epoch: 0 batch #: 237  of 200 sample #: 199 reconstruction error: 0.087993\n",
      "Epoch: 0 batch #: 238  of 200 sample #: 199 reconstruction error: 0.099069\n",
      "Epoch: 0 batch #: 239  of 200 sample #: 199 reconstruction error: 0.044542\n",
      "Epoch: 0 batch #: 240  of 200 sample #: 199 reconstruction error: 0.102343\n",
      "Epoch: 0 batch #: 241  of 200 sample #: 199 reconstruction error: 0.075162\n",
      "Epoch: 0 batch #: 242  of 200 sample #: 199 reconstruction error: 0.080444\n",
      "Epoch: 0 batch #: 243  of 200 sample #: 199 reconstruction error: 0.077928\n",
      "Epoch: 0 batch #: 244  of 200 sample #: 199 reconstruction error: 0.095924\n",
      "Epoch: 0 batch #: 245  of 200 sample #: 199 reconstruction error: 0.062198\n",
      "Epoch: 0 batch #: 246  of 200 sample #: 199 reconstruction error: 0.091511\n",
      "Epoch: 0 batch #: 247  of 200 sample #: 199 reconstruction error: 0.041663\n",
      "Epoch: 0 batch #: 248  of 200 sample #: 199 reconstruction error: 0.074895\n",
      "Epoch: 0 batch #: 249  of 200 sample #: 199 reconstruction error: 0.040714\n",
      "Epoch: 0 batch #: 250  of 200 sample #: 199 reconstruction error: 0.086416\n",
      "Epoch: 0 batch #: 251  of 200 sample #: 199 reconstruction error: 0.056524\n",
      "Epoch: 0 batch #: 252  of 200 sample #: 199 reconstruction error: 0.074238\n",
      "Epoch: 0 batch #: 253  of 200 sample #: 199 reconstruction error: 0.059557\n",
      "Epoch: 0 batch #: 254  of 200 sample #: 199 reconstruction error: 0.028142\n",
      "Epoch: 0 batch #: 255  of 200 sample #: 199 reconstruction error: 0.043093\n",
      "Epoch: 0 batch #: 256  of 200 sample #: 199 reconstruction error: 0.087689\n",
      "Epoch: 0 batch #: 257  of 200 sample #: 199 reconstruction error: 0.077178\n",
      "Epoch: 0 batch #: 258  of 200 sample #: 199 reconstruction error: 0.084312\n",
      "Epoch: 0 batch #: 259  of 200 sample #: 199 reconstruction error: 0.075443\n",
      "Epoch: 0 batch #: 260  of 200 sample #: 199 reconstruction error: 0.085918\n",
      "Epoch: 0 batch #: 261  of 200 sample #: 199 reconstruction error: 0.048598\n",
      "Epoch: 0 batch #: 262  of 200 sample #: 199 reconstruction error: 0.068724\n",
      "Epoch: 0 batch #: 263  of 200 sample #: 199 reconstruction error: 0.076476\n",
      "Epoch: 0 batch #: 264  of 200 sample #: 199 reconstruction error: 0.067557\n",
      "Epoch: 0 batch #: 265  of 200 sample #: 199 reconstruction error: 0.079477\n",
      "Epoch: 0 batch #: 266  of 200 sample #: 199 reconstruction error: 0.030061\n",
      "Epoch: 0 batch #: 267  of 200 sample #: 199 reconstruction error: 0.065555\n",
      "Epoch: 0 batch #: 268  of 200 sample #: 199 reconstruction error: 0.022944\n",
      "Epoch: 0 batch #: 269  of 200 sample #: 199 reconstruction error: 0.098762\n",
      "Epoch: 0 batch #: 270  of 200 sample #: 199 reconstruction error: 0.075869\n",
      "Epoch: 0 batch #: 271  of 200 sample #: 199 reconstruction error: 0.048674\n",
      "Epoch: 0 batch #: 272  of 200 sample #: 199 reconstruction error: 0.054523\n",
      "Epoch: 0 batch #: 273  of 200 sample #: 199 reconstruction error: 0.043568\n",
      "Epoch: 0 batch #: 274  of 200 sample #: 199 reconstruction error: 0.054091\n",
      "Epoch: 0 batch #: 275  of 200 sample #: 199 reconstruction error: 0.089942\n",
      "Epoch: 0 batch #: 276  of 200 sample #: 199 reconstruction error: 0.067879\n",
      "Epoch: 0 batch #: 277  of 200 sample #: 199 reconstruction error: 0.068492\n",
      "Epoch: 0 batch #: 278  of 200 sample #: 199 reconstruction error: 0.060815\n",
      "Epoch: 0 batch #: 279  of 200 sample #: 199 reconstruction error: 0.050556\n",
      "Epoch: 0 batch #: 280  of 200 sample #: 199 reconstruction error: 0.083341\n",
      "Epoch: 0 batch #: 281  of 200 sample #: 199 reconstruction error: 0.070663\n",
      "Epoch: 0 batch #: 282  of 200 sample #: 199 reconstruction error: 0.092346\n",
      "Epoch: 0 batch #: 283  of 200 sample #: 199 reconstruction error: 0.049803\n",
      "Epoch: 0 batch #: 284  of 200 sample #: 199 reconstruction error: 0.043420\n",
      "Epoch: 0 batch #: 285  of 200 sample #: 199 reconstruction error: 0.073159\n",
      "Epoch: 0 batch #: 286  of 200 sample #: 199 reconstruction error: 0.077797\n",
      "Epoch: 0 batch #: 287  of 200 sample #: 199 reconstruction error: 0.069349\n",
      "Epoch: 0 batch #: 288  of 200 sample #: 199 reconstruction error: 0.027657\n",
      "Epoch: 0 batch #: 289  of 200 sample #: 199 reconstruction error: 0.105865\n",
      "Epoch: 0 batch #: 290  of 200 sample #: 199 reconstruction error: 0.097668\n",
      "Epoch: 0 batch #: 291  of 200 sample #: 199 reconstruction error: 0.111079\n",
      "Epoch: 0 batch #: 292  of 200 sample #: 199 reconstruction error: 0.054711\n",
      "Epoch: 0 batch #: 293  of 200 sample #: 199 reconstruction error: 0.053459\n",
      "Epoch: 0 batch #: 294  of 200 sample #: 199 reconstruction error: 0.088574\n",
      "Epoch: 0 batch #: 295  of 200 sample #: 199 reconstruction error: 0.063117\n",
      "Epoch: 0 batch #: 296  of 200 sample #: 199 reconstruction error: 0.031255\n",
      "Epoch: 0 batch #: 297  of 200 sample #: 199 reconstruction error: 0.115436\n",
      "Epoch: 0 batch #: 298  of 200 sample #: 199 reconstruction error: 0.052522\n",
      "Epoch: 0 batch #: 299  of 200 sample #: 199 reconstruction error: 0.059009\n",
      "Epoch: 0 batch #: 300  of 200 sample #: 199 reconstruction error: 0.085671\n"
     ]
    }
   ],
   "source": [
    "#Parameters\n",
    "alpha = 0.01\n",
    "epochs = 1\n",
    "batchsize = 200\n",
    "weights = []\n",
    "errors = []\n",
    "batch_number = 0\n",
    "K = 1\n",
    "\n",
    "#creating datasets\n",
    "train_ds = \\\n",
    "    tf.data.Dataset.from_tensor_slices((trX, trY)).batch(batchsize)\n",
    "\n",
    "for epoch in range(epochs):\n",
    "    for batch_x, batch_y in train_ds:\n",
    "        batch_number += 1\n",
    "        for i_sample in range(batchsize):           \n",
    "            for k in range(K):\n",
    "                v0_state = batch_x[i_sample]\n",
    "                h0_state = hidden_layer(v0_state, W, hb)\n",
    "                v1_state = reconstructed_output(h0_state, W, vb)\n",
    "                h1_state = hidden_layer(v1_state, W, hb)\n",
    "\n",
    "                delta_W = tf.matmul(tf.transpose([v0_state]), h0_state) - tf.matmul(tf.transpose([v1_state]), h1_state)\n",
    "                W = W + alpha * delta_W\n",
    "\n",
    "                vb = vb + alpha * tf.reduce_mean(v0_state - v1_state, 0)\n",
    "                hb = hb + alpha * tf.reduce_mean(h0_state - h1_state, 0) \n",
    "\n",
    "                v0_state = v1_state\n",
    "\n",
    "            if i_sample == batchsize-1:\n",
    "                err = error(batch_x[i_sample], v1_state)\n",
    "                errors.append(err)\n",
    "                weights.append(W)\n",
    "                print ( 'Epoch: %d' % epoch, \n",
    "                       \"batch #: %i \" % batch_number, \"of %i\" % batchsize, \n",
    "                       \"sample #: %i\" % i_sample,\n",
    "                       'reconstruction error: %f' % err)\n",
    "\n"
   ]
  },
  {
   "cell_type": "markdown",
   "metadata": {},
   "source": [
    "Let's take a look at the errors at the end of each batch:\n"
   ]
  },
  {
   "cell_type": "code",
   "execution_count": 23,
   "metadata": {},
   "outputs": [
    {
     "data": {
      "image/png": "[encoded data removed]",
      "text/plain": [
       "<Figure size 432x288 with 1 Axes>"
      ]
     },
     "metadata": {
      "needs_background": "light"
     },
     "output_type": "display_data"
    }
   ],
   "source": [
    "plt.plot(errors)\n",
    "plt.xlabel(\"Batch Number\")\n",
    "plt.ylabel(\"Error\")\n",
    "plt.show()"
   ]
  },
  {
   "cell_type": "markdown",
   "metadata": {},
   "source": [
    "What is the final weight matrix $W$ after training?\n"
   ]
  },
  {
   "cell_type": "code",
   "execution_count": 24,
   "metadata": {},
   "outputs": [
    {
     "name": "stdout",
     "output_type": "stream",
     "text": [
      "[[-0.31999996 -0.28       -0.21000002 ... -0.27       -0.5299998\n",
      "  -0.4999998 ]\n",
      " [-0.23000003 -0.26000002 -0.28       ... -0.27       -0.58999974\n",
      "  -0.55999976]\n",
      " [-0.27       -0.24000004 -0.28       ... -0.24000004 -0.5199998\n",
      "  -0.5099998 ]\n",
      " ...\n",
      " [-0.32999995 -0.31999996 -0.30999997 ... -0.27       -0.5499998\n",
      "  -0.5299998 ]\n",
      " [-0.32999995 -0.29999998 -0.28       ... -0.25000003 -0.5299998\n",
      "  -0.5099998 ]\n",
      " [-0.30999997 -0.27       -0.29       ... -0.25000003 -0.4999998\n",
      "  -0.4799998 ]]\n"
     ]
    }
   ],
   "source": [
    "print(W.numpy()) # a weight matrix of shape (50,784)"
   ]
  },
  {
   "cell_type": "markdown",
   "metadata": {},
   "source": [
    "<a id=\"ref5\"></a>\n",
    "\n",
    "<h3>Learned features</h3> \n"
   ]
  },
  {
   "cell_type": "markdown",
   "metadata": {},
   "source": [
    "We can take each hidden unit and visualize the connections between that hidden unit and each element in the input vector. In our case, we have 50 hidden units. Lets visualize those.\n"
   ]
  },
  {
   "cell_type": "markdown",
   "metadata": {},
   "source": [
    "Let's plot the current weights:\n",
    "<b>tile_raster_images</b> helps in generating an easy to grasp image from a set of samples or weights. It transforms the <b>uw</b> (with one flattened image per row of size 784), into an array (of size $28\\\\times28$) in which images are reshaped and laid out like tiles on a floor.\n"
   ]
  },
  {
   "cell_type": "code",
   "execution_count": 25,
   "metadata": {},
   "outputs": [
    {
     "data": {
      "image/png": "[encoded data removed]",
      "text/plain": [
       "<Figure size 1296x1296 with 1 Axes>"
      ]
     },
     "metadata": {
      "needs_background": "light"
     },
     "output_type": "display_data"
    }
   ],
   "source": [
    "tile_raster_images(X=W.numpy().T, img_shape=(28, 28), tile_shape=(5, 10), tile_spacing=(1, 1))\n",
    "import matplotlib.pyplot as plt\n",
    "from PIL import Image\n",
    "%matplotlib inline\n",
    "image = Image.fromarray(tile_raster_images(X=W.numpy().T, img_shape=(28, 28) ,tile_shape=(5, 10), tile_spacing=(1, 1)))\n",
    "### Plot image\n",
    "plt.rcParams['figure.figsize'] = (18.0, 18.0)\n",
    "imgplot = plt.imshow(image)\n",
    "imgplot.set_cmap('gray')  "
   ]
  },
  {
   "cell_type": "markdown",
   "metadata": {},
   "source": [
    "Each tile in the above visualization corresponds to a vector of connections between a hidden unit and visible layer's units. \n"
   ]
  },
  {
   "cell_type": "markdown",
   "metadata": {},
   "source": [
    "Let's look at one of the learned weights corresponding to one of hidden units for example. In this particular square, the gray color represents weight = 0, and the whiter it is, the more positive the weights are (closer to 1). Conversely, the darker pixels are, the more negative the weights. The positive pixels will increase the probability of activation in hidden units (after multiplying by input/visible pixels), and negative pixels will decrease the probability of a unit hidden to be 1 (activated). So, why is this important?  So we can see that this specific square (hidden unit) can detect a feature (e.g. a \"/\" shape) and if it exists in the input.\n"
   ]
  },
  {
   "cell_type": "code",
   "execution_count": 26,
   "metadata": {},
   "outputs": [
    {
     "data": {
      "image/png": "[encoded data removed]",
      "text/plain": [
       "<Figure size 288x288 with 1 Axes>"
      ]
     },
     "metadata": {
      "needs_background": "light"
     },
     "output_type": "display_data"
    }
   ],
   "source": [
    "from PIL import Image\n",
    "image = Image.fromarray(tile_raster_images(X =W.numpy().T[10:11], img_shape=(28, 28),tile_shape=(1, 1), tile_spacing=(1, 1)))\n",
    "### Plot image\n",
    "plt.rcParams['figure.figsize'] = (4.0, 4.0)\n",
    "imgplot = plt.imshow(image)\n",
    "imgplot.set_cmap('gray')  "
   ]
  },
  {
   "cell_type": "markdown",
   "metadata": {},
   "source": [
    "Let's look at the reconstruction of an image now. Imagine that we have a destructed image of figure 3. Lets see if our trained network can fix it:\n",
    "\n",
    "First we plot the image:\n"
   ]
  },
  {
   "cell_type": "code",
   "execution_count": 27,
   "metadata": {},
   "outputs": [
    {
     "name": "stdout",
     "output_type": "stream",
     "text": [
      "--2020-09-15 14:46:56--  https://ibm.box.com/shared/static/vvm1b63uvuxq88vbw9znpwu5ol380mco.jpg\n",
      "Resolving ibm.box.com (ibm.box.com)... 107.152.27.197\n",
      "Connecting to ibm.box.com (ibm.box.com)|107.152.27.197|:443... connected.\n",
      "HTTP request sent, awaiting response... 301 Moved Permanently\n",
      "Location: /public/static/vvm1b63uvuxq88vbw9znpwu5ol380mco.jpg [following]\n",
      "--2020-09-15 14:46:56--  https://ibm.box.com/public/static/vvm1b63uvuxq88vbw9znpwu5ol380mco.jpg\n",
      "Reusing existing connection to ibm.box.com:443.\n",
      "HTTP request sent, awaiting response... 301 Moved Permanently\n",
      "Location: https://ibm.ent.box.com/public/static/vvm1b63uvuxq88vbw9znpwu5ol380mco.jpg [following]\n",
      "--2020-09-15 14:46:56--  https://ibm.ent.box.com/public/static/vvm1b63uvuxq88vbw9znpwu5ol380mco.jpg\n",
      "Resolving ibm.ent.box.com (ibm.ent.box.com)... 107.152.27.211\n",
      "Connecting to ibm.ent.box.com (ibm.ent.box.com)|107.152.27.211|:443... connected.\n",
      "HTTP request sent, awaiting response... 302 Found\n",
      "Location: https://public.boxcloud.com/d/1/b1!REDeNf4iw1zskClZOIysG8owmKfrMPoALg7cW7d8d0Pjo4K_qPAAx1V_yHP_i5weFTs_IYWsg7zNUhFoXxGHJk4b2LXOo4iH-P21Y4ioZFJ31HibXnnA5wvcyDuWgZGTpwQhpnXFXfxtPOoCsSj1vn9DRyEfoK5Djf9_4tnaRzPz3O9fYHOQuLSxQpS4aM0nHj4ZMmPNU8DlG-4HtG9_DbIBboFP4wcht0SG_HqoLqR8eP_02UzRGWg5Pku0UISivzRDnLcXDkGSv0fny2VVJLteQmdvGOFf7tTxD1-QAuutJ4sSUnaX70TpTR6KjqSAo0U_06AuG0UDDwD9owrqr69JpKJ5WUbsESPAaKvnpDuYSsliEfPM2ZHN0rpC7S4zniXxNsGXVQXnTel7ouVYO7qiYoyVq9FmLWYlpE0xy-EvJpbhgS5-h8WECGwj4FxniW0LTVLnCJ9LAhWt16fGTq-YaSpj2XYvDfJ0ux5_x1Us4WxBCDibHl4EBoYiSI-ePf1PZwIMbG6caNG8BGb3VyxBTaYSlAHjSig9BTD0m-TJQe95Q-XHjowP82USHBWgM2g5uYMbwHE0h-fJm-rB7i02ZPMdK9R7G93PM_lyQS9xefW85QMf92ddsMx_B4fqC7WFy0mVFk_biEHs3CB1nA_FloifJoFOEE-VWDykkzw6v6q2uRVpH1qssj9iDJLfYlVN8FRLny2-GAFtJhZeNkRsPWI-5XsurpWpuH9PSrVlJ7YCgCb2hzqS1F2COhHWe4tMa8SE2FKusUkejSAEd8Isjg1bX3hQ-ejhPOKVSclF6hre4rm03oVZ9Xv7dgRReXfFitrscfjfGHHt2gxP8mad57vhlEtxMlJCDvGH7XFhcy3EYiQcJF6K2wT17hOj9dJVgmwKasStgDy9dQzOdGRkOd6tYCrmtz4WrQ0PwemTWE_FLq6QZKlkdZjQnNWcBglrpxQWTvlp1uTMhQmhVIkBxoW-F5LVtQO_sXnMrTQh6f8-1gaAFc2-cjelaimu2HegxtRriRtDOpD7HGBkyCGiT9wEUrovdv8dWn2z8NW9vp9IxyMlu7UIoyQEaQTd_HfszvcQnXq54RzVYZUJooQ0OYMvf7yBfhWqCpcYdGPysEBxK2Ek7_GDV8tcOx1QxKGERgKP3PTJB5Ffter1OKZyRudvHZpcofeBXOxMM6cyVthKH69VLxkb5JFnJxMQlYni8wjjQdzaI2asanAxFvisE8TOpFHAKnFYjat6Zb1YqlrUCeFy3aoGrsYqAWYbkKLX4SjkwwXvNiaNoP4fBpXcbVIekePf6XpKhuwkw7NdFyeAUZ4dTV8-F_01Kdz7UePz2hBsqInYgNW9AO_A7GNWwirx73AT740q_I-HLP_GUpbbYmINFsDDsRRvX0SKlzkgtn-ZWU-Sff71qT-ddycFnPHg/download [following]\n",
      "--2020-09-15 14:46:57--  https://public.boxcloud.com/d/1/b1!REDeNf4iw1zskClZOIysG8owmKfrMPoALg7cW7d8d0Pjo4K_qPAAx1V_yHP_i5weFTs_IYWsg7zNUhFoXxGHJk4b2LXOo4iH-P21Y4ioZFJ31HibXnnA5wvcyDuWgZGTpwQhpnXFXfxtPOoCsSj1vn9DRyEfoK5Djf9_4tnaRzPz3O9fYHOQuLSxQpS4aM0nHj4ZMmPNU8DlG-4HtG9_DbIBboFP4wcht0SG_HqoLqR8eP_02UzRGWg5Pku0UISivzRDnLcXDkGSv0fny2VVJLteQmdvGOFf7tTxD1-QAuutJ4sSUnaX70TpTR6KjqSAo0U_06AuG0UDDwD9owrqr69JpKJ5WUbsESPAaKvnpDuYSsliEfPM2ZHN0rpC7S4zniXxNsGXVQXnTel7ouVYO7qiYoyVq9FmLWYlpE0xy-EvJpbhgS5-h8WECGwj4FxniW0LTVLnCJ9LAhWt16fGTq-YaSpj2XYvDfJ0ux5_x1Us4WxBCDibHl4EBoYiSI-ePf1PZwIMbG6caNG8BGb3VyxBTaYSlAHjSig9BTD0m-TJQe95Q-XHjowP82USHBWgM2g5uYMbwHE0h-fJm-rB7i02ZPMdK9R7G93PM_lyQS9xefW85QMf92ddsMx_B4fqC7WFy0mVFk_biEHs3CB1nA_FloifJoFOEE-VWDykkzw6v6q2uRVpH1qssj9iDJLfYlVN8FRLny2-GAFtJhZeNkRsPWI-5XsurpWpuH9PSrVlJ7YCgCb2hzqS1F2COhHWe4tMa8SE2FKusUkejSAEd8Isjg1bX3hQ-ejhPOKVSclF6hre4rm03oVZ9Xv7dgRReXfFitrscfjfGHHt2gxP8mad57vhlEtxMlJCDvGH7XFhcy3EYiQcJF6K2wT17hOj9dJVgmwKasStgDy9dQzOdGRkOd6tYCrmtz4WrQ0PwemTWE_FLq6QZKlkdZjQnNWcBglrpxQWTvlp1uTMhQmhVIkBxoW-F5LVtQO_sXnMrTQh6f8-1gaAFc2-cjelaimu2HegxtRriRtDOpD7HGBkyCGiT9wEUrovdv8dWn2z8NW9vp9IxyMlu7UIoyQEaQTd_HfszvcQnXq54RzVYZUJooQ0OYMvf7yBfhWqCpcYdGPysEBxK2Ek7_GDV8tcOx1QxKGERgKP3PTJB5Ffter1OKZyRudvHZpcofeBXOxMM6cyVthKH69VLxkb5JFnJxMQlYni8wjjQdzaI2asanAxFvisE8TOpFHAKnFYjat6Zb1YqlrUCeFy3aoGrsYqAWYbkKLX4SjkwwXvNiaNoP4fBpXcbVIekePf6XpKhuwkw7NdFyeAUZ4dTV8-F_01Kdz7UePz2hBsqInYgNW9AO_A7GNWwirx73AT740q_I-HLP_GUpbbYmINFsDDsRRvX0SKlzkgtn-ZWU-Sff71qT-ddycFnPHg/download\n",
      "Resolving public.boxcloud.com (public.boxcloud.com)... 107.152.29.200\n",
      "Connecting to public.boxcloud.com (public.boxcloud.com)|107.152.29.200|:443... connected.\n",
      "HTTP request sent, awaiting response... 200 OK\n",
      "Length: 24383 (24K) [image/jpeg]\n",
      "Saving to: ‘destructed3.jpg’\n",
      "\n",
      "destructed3.jpg     100%[===================>]  23.81K  --.-KB/s    in 0.003s  \n",
      "\n",
      "2020-09-15 14:46:57 (6.69 MB/s) - ‘destructed3.jpg’ saved [24383/24383]\n",
      "\n"
     ]
    },
    {
     "data": {
      "image/png": "[encoded data removed]",
      "text/plain": [
       "<PIL.JpegImagePlugin.JpegImageFile image mode=RGB size=181x181 at 0x7FCEAC6E0EB8>"
      ]
     },
     "execution_count": 27,
     "metadata": {},
     "output_type": "execute_result"
    }
   ],
   "source": [
    "!wget -O destructed3.jpg  https://ibm.box.com/shared/static/vvm1b63uvuxq88vbw9znpwu5ol380mco.jpg\n",
    "img = Image.open('destructed3.jpg')\n",
    "img"
   ]
  },
  {
   "cell_type": "markdown",
   "metadata": {},
   "source": [
    "Now let's pass this image through the neural net:\n"
   ]
  },
  {
   "cell_type": "code",
   "execution_count": 28,
   "metadata": {},
   "outputs": [],
   "source": [
    "# convert the image to a 1d numpy array\n",
    "sample_case = np.array(img.convert('I').resize((28,28))).ravel().reshape((1, -1))/255.0\n",
    "\n",
    "sample_case = tf.cast(sample_case, dtype=tf.float32)"
   ]
  },
  {
   "cell_type": "markdown",
   "metadata": {},
   "source": [
    "Feed the sample case into the network and reconstruct the output:\n"
   ]
  },
  {
   "cell_type": "code",
   "execution_count": 29,
   "metadata": {},
   "outputs": [
    {
     "name": "stdout",
     "output_type": "stream",
     "text": [
      "Probability nodes in hidden layer: tf.Tensor(\n",
      "[[9.9092865e-01 9.6860820e-01 5.2667142e-09 1.0000000e+00 9.9931002e-01\n",
      "  9.9979520e-01 2.2219503e-08 8.4429674e-10 9.9999750e-01 1.9730628e-03\n",
      "  7.4160293e-06 2.6071072e-04 9.9999851e-01 4.0070117e-03 4.6788007e-10\n",
      "  5.2347694e-08 2.6060910e-15 2.9228729e-01 7.4273150e-05 2.0229600e-14\n",
      "  9.9999547e-01 1.3908092e-07 1.3737082e-03 9.9999648e-01 1.0000000e+00\n",
      "  9.9963903e-01 9.9991071e-01 9.9958944e-01 3.1854310e-09 9.9999964e-01\n",
      "  2.1186981e-06 1.0000000e+00 1.1483706e-07 4.6787620e-02 1.1630220e-04\n",
      "  2.8681222e-15 5.0543735e-05 1.2301745e-06 1.8631397e-11 4.4320842e-07\n",
      "  7.8002815e-10 4.2585254e-02 9.9999547e-01 9.9903691e-01 1.8800561e-08\n",
      "  3.2443117e-14 2.8419316e-02 3.2943615e-05 4.5571158e-10 6.3655816e-04]], shape=(1, 50), dtype=float32)\n",
      "activated nodes in hidden layer: tf.Tensor(\n",
      "[[1. 1. 0. 1. 1. 1. 0. 0. 1. 0. 0. 0. 1. 0. 0. 0. 0. 0. 0. 0. 1. 0. 0. 1.\n",
      "  1. 1. 1. 1. 0. 1. 0. 1. 0. 0. 0. 0. 0. 0. 0. 0. 0. 0. 1. 1. 0. 0. 0. 0.\n",
      "  0. 0.]], shape=(1, 50), dtype=float32)\n",
      "tf.Tensor(\n",
      "[[2.36868858e-04 2.56717205e-04 2.72542238e-04 3.19838524e-04\n",
      "  1.96009874e-04 2.46554613e-04 3.75270844e-04 2.92301178e-04\n",
      "  3.10391188e-04 3.98397446e-04 2.46554613e-04 3.82870436e-04\n",
      "  2.39521265e-04 4.22686338e-04 3.39359045e-04 2.59965658e-04\n",
      "  2.51650810e-04 1.79141760e-04 2.89320946e-04 4.23073769e-04\n",
      "  2.72542238e-04 3.42994928e-04 5.59628010e-04 2.51561403e-04\n",
      "  2.64495611e-04 3.16590071e-04 2.44110823e-04 3.16649675e-04\n",
      "  4.06444073e-04 3.13490629e-04 2.64495611e-04 3.46481800e-04\n",
      "  3.91781330e-04 2.72482634e-04 3.01063061e-04 2.66999006e-04\n",
      "  2.31206417e-04 2.80559063e-04 1.97082758e-04 2.39789486e-04\n",
      "  4.50074673e-04 4.31120396e-04 3.74227762e-04 2.75373459e-04\n",
      "  3.43143940e-04 6.30825758e-04 4.18126583e-04 4.12255526e-04\n",
      "  4.05609608e-04 3.58134508e-04 1.83045864e-04 2.75015831e-04\n",
      "  3.32891941e-04 2.54124403e-04 2.12252140e-04 3.82870436e-04\n",
      "  2.39312649e-04 2.78025866e-04 2.91496515e-04 3.61889601e-04\n",
      "  3.72767448e-04 2.24232674e-04 2.95251608e-04 2.56180763e-04\n",
      "  1.78188086e-04 1.40905380e-04 5.91099852e-05 6.79340956e-05\n",
      "  8.76301638e-05 1.95384026e-04 2.47925520e-04 7.85350800e-04\n",
      "  6.74396753e-04 2.35587358e-04 8.18537956e-05 6.92547546e-05\n",
      "  1.10295485e-04 2.97874212e-04 5.63770533e-04 6.33567572e-04\n",
      "  3.81678343e-04 6.14523888e-04 2.61753798e-04 2.89320946e-04\n",
      "  2.20865011e-04 3.22937965e-04 3.27974558e-04 2.90513039e-04\n",
      "  2.51322985e-04 3.91125679e-04 4.54932451e-04 1.51664019e-04\n",
      "  8.94601544e-05 1.49521311e-05 2.31046852e-05 5.72466852e-05\n",
      "  5.82088323e-05 4.65095043e-04 1.26415491e-03 5.10162115e-03\n",
      "  6.77269697e-03 2.69415975e-03 2.36216187e-03 1.28057599e-03\n",
      "  6.53713942e-04 4.12404537e-04 3.41922045e-04 4.76747751e-04\n",
      "  4.35411930e-04 4.44501638e-04 3.75926495e-04 2.64495611e-04\n",
      "  3.07202339e-04 1.87933445e-04 3.70264053e-04 4.77880239e-04\n",
      "  3.47942114e-04 7.24732876e-04 1.68919563e-04 1.52170658e-04\n",
      "  8.33247395e-05 7.30327301e-05 9.57647062e-05 2.27421522e-04\n",
      "  9.15288925e-04 9.12216306e-03 2.01060772e-02 6.20893538e-02\n",
      "  7.72593915e-02 1.00931525e-01 9.44001079e-02 8.35224986e-02\n",
      "  1.33953094e-02 4.89765406e-03 2.48825550e-03 3.77291441e-03\n",
      "  1.76087022e-03 1.21268630e-03 3.30597162e-04 1.72138214e-04\n",
      "  2.64495611e-04 2.20865011e-04 2.70783901e-04 5.60700893e-04\n",
      "  6.40273094e-04 4.53770161e-04 3.65227461e-04 4.22686338e-04\n",
      "  5.37097454e-04 6.94036484e-04 1.38303638e-03 1.03605688e-02\n",
      "  3.56065333e-02 4.75130945e-01 7.19783425e-01 8.89136195e-01\n",
      "  8.57143879e-01 8.55646729e-01 8.87061477e-01 8.30509067e-01\n",
      "  4.58875179e-01 1.27009749e-01 2.13857293e-02 8.19295645e-03\n",
      "  3.36557627e-03 1.24132633e-03 1.07192993e-03 3.09914351e-04\n",
      "  2.08020210e-04 2.38388777e-04 3.96519899e-04 6.08831644e-04\n",
      "  9.35405493e-04 1.33299828e-03 5.28991222e-04 1.80271268e-03\n",
      "  2.09695101e-03 6.67569041e-03 2.70070732e-02 2.80993074e-01\n",
      "  8.58137846e-01 9.70773935e-01 9.74872947e-01 9.65763152e-01\n",
      "  9.20462966e-01 9.49720979e-01 9.55149591e-01 9.49709535e-01\n",
      "  8.29531312e-01 1.96038663e-01 6.23228848e-02 8.32867622e-03\n",
      "  2.10240483e-03 1.57409906e-03 8.29964876e-04 4.19259071e-04\n",
      "  2.70575285e-04 3.49581242e-04 4.33921814e-04 1.10718608e-03\n",
      "  1.24061108e-03 4.26924229e-03 3.86077166e-03 2.89952755e-03\n",
      "  1.10604465e-02 7.21935928e-02 3.42044592e-01 8.83101344e-01\n",
      "  9.68625546e-01 9.84271348e-01 9.42466855e-01 8.40163231e-01\n",
      "  7.35244513e-01 7.50115275e-01 7.34821379e-01 9.11490023e-01\n",
      "  9.36620712e-01 4.47543889e-01 1.14784062e-01 1.55919790e-02\n",
      "  4.50813770e-03 5.24103642e-04 7.63595104e-04 3.30805779e-04\n",
      "  3.20672989e-04 2.99870968e-04 1.10429525e-03 7.96109438e-04\n",
      "  1.25566125e-03 2.21785903e-03 5.37103415e-03 1.69206858e-02\n",
      "  3.58621180e-02 1.50931716e-01 6.58824801e-01 8.38272333e-01\n",
      "  9.74346042e-01 9.11999822e-01 4.15226102e-01 2.17916340e-01\n",
      "  1.23831093e-01 1.67516440e-01 3.91298205e-01 7.50855923e-01\n",
      "  8.40454698e-01 7.66975403e-01 1.95345789e-01 1.65120065e-02\n",
      "  2.39902735e-03 1.27804279e-03 8.47548246e-04 3.65614891e-04\n",
      "  2.75820494e-04 4.78535891e-04 7.22706318e-04 1.28492713e-03\n",
      "  1.45906210e-03 4.02235985e-03 1.03767812e-02 2.45751143e-02\n",
      "  5.79452217e-02 1.99940741e-01 6.11072898e-01 7.44738936e-01\n",
      "  7.45383561e-01 2.79675663e-01 5.22831678e-02 2.24849880e-02\n",
      "  3.01057696e-02 1.20155871e-01 2.61398256e-01 8.33966792e-01\n",
      "  8.10242653e-01 7.19019055e-01 3.65725100e-01 2.20979154e-02\n",
      "  6.88627362e-03 7.60942698e-04 6.88105822e-04 4.88877296e-04\n",
      "  3.73363495e-04 3.00168991e-04 8.83579254e-04 2.03439593e-03\n",
      "  2.54386663e-03 4.07034159e-03 4.64013219e-03 8.56339931e-03\n",
      "  1.94562674e-02 8.47186446e-02 2.73493290e-01 5.16046703e-01\n",
      "  2.83300400e-01 7.89862275e-02 4.07437682e-02 9.90754664e-02\n",
      "  1.33043349e-01 3.90962780e-01 7.22397864e-01 8.61411333e-01\n",
      "  8.67928565e-01 5.74219882e-01 8.80438089e-02 1.86013579e-02\n",
      "  3.36751342e-03 1.05953217e-03 6.14255667e-04 3.13460827e-04\n",
      "  3.01867723e-04 5.48154116e-04 7.94112682e-04 8.88973475e-04\n",
      "  1.80602074e-03 2.98461318e-03 9.90006328e-03 4.46936488e-03\n",
      "  4.85777855e-03 8.41718912e-03 1.17243916e-01 3.72277826e-01\n",
      "  4.08831388e-01 3.42634022e-01 2.02666104e-01 4.00061429e-01\n",
      "  6.64764583e-01 7.63972461e-01 8.14900517e-01 8.39430451e-01\n",
      "  5.70982456e-01 1.89532846e-01 3.18369865e-02 7.33402371e-03\n",
      "  1.60244107e-03 9.39309597e-04 6.83993101e-04 2.71648169e-04\n",
      "  2.73376703e-04 3.02195549e-04 8.96304846e-04 1.06063485e-03\n",
      "  2.11048126e-03 4.06607985e-03 3.93995643e-03 2.05430388e-03\n",
      "  2.43541598e-03 1.14988089e-02 1.78910911e-01 6.63014054e-01\n",
      "  6.99316978e-01 7.60338783e-01 7.65162587e-01 8.56280267e-01\n",
      "  7.72821188e-01 8.54326725e-01 7.63183951e-01 6.48599505e-01\n",
      "  2.91653246e-01 4.88872826e-02 9.32532549e-03 1.23393536e-03\n",
      "  5.35041094e-04 6.30110502e-04 2.76386738e-04 3.11076641e-04\n",
      "  2.59578228e-04 2.66641378e-04 5.09083271e-04 5.60373068e-04\n",
      "  2.48923898e-03 8.82047415e-03 6.12789392e-03 1.46394968e-03\n",
      "  2.62126327e-03 1.85103714e-02 2.60070115e-01 7.76700377e-01\n",
      "  8.25598657e-01 8.85524511e-01 7.30888724e-01 8.49242866e-01\n",
      "  8.56752574e-01 8.57116938e-01 6.99225426e-01 4.60058719e-01\n",
      "  8.34116042e-02 7.82904029e-03 3.89969349e-03 1.88896060e-03\n",
      "  3.85880470e-04 4.85539436e-04 5.23358583e-04 2.18659639e-04\n",
      "  2.23308802e-04 1.81555748e-04 3.76939774e-04 9.28282738e-04\n",
      "  3.92854214e-03 4.24683094e-03 3.38283181e-03 1.21477246e-03\n",
      "  1.68603659e-03 2.26589739e-02 1.03573352e-01 5.00144780e-01\n",
      "  5.20599484e-01 5.96946120e-01 5.15292883e-01 6.25590444e-01\n",
      "  7.76479661e-01 7.87991583e-01 7.39856839e-01 3.57548118e-01\n",
      "  2.22428143e-02 3.74519825e-03 8.65966082e-04 6.68674707e-04\n",
      "  2.89231539e-04 3.67224216e-04 3.43590975e-04 3.07321548e-04\n",
      "  3.15099955e-04 3.02910805e-04 5.06579876e-04 1.74623728e-03\n",
      "  4.07218933e-03 8.96313787e-03 4.32789326e-03 1.39981508e-03\n",
      "  3.21125984e-03 1.81043744e-02 5.88370562e-02 1.55534327e-01\n",
      "  1.48449302e-01 1.36887997e-01 1.18393481e-01 2.20008463e-01\n",
      "  3.26607376e-01 6.45341456e-01 8.61868858e-01 4.78946418e-01\n",
      "  2.43016779e-02 2.30854750e-03 1.14420056e-03 3.99470329e-04\n",
      "  2.45094299e-04 2.60323286e-04 3.88711691e-04 3.94493341e-04\n",
      "  3.11106443e-04 3.33011150e-04 9.79721546e-04 4.89711761e-03\n",
      "  1.21403933e-02 1.04354918e-02 1.16057098e-02 7.87144899e-03\n",
      "  4.90996242e-03 6.73335791e-03 2.68014073e-02 4.07055914e-02\n",
      "  2.56004035e-02 1.39352083e-02 2.80121863e-02 5.95261455e-02\n",
      "  3.95572305e-01 4.70182359e-01 6.65319324e-01 4.44440365e-01\n",
      "  1.84601843e-02 1.71232224e-03 7.22020864e-04 2.73406506e-04\n",
      "  1.69575214e-04 1.31011009e-04 4.29600477e-04 3.51935625e-04\n",
      "  2.98112631e-04 2.62498856e-04 6.96480274e-04 1.50011778e-02\n",
      "  3.20588350e-02 5.04388809e-02 4.99438941e-02 2.80920267e-02\n",
      "  9.78359580e-03 1.20974481e-02 1.08775496e-02 1.10348165e-02\n",
      "  1.53779387e-02 7.78713822e-03 1.84081197e-02 3.50627005e-02\n",
      "  3.07021081e-01 5.93315482e-01 6.43204927e-01 4.08669114e-01\n",
      "  1.82788670e-02 2.50664353e-03 1.36655569e-03 7.94678926e-04\n",
      "  4.83214855e-04 1.48028135e-04 3.67194414e-04 2.87562609e-04\n",
      "  2.51144171e-04 4.44769859e-04 3.52150202e-03 3.47346067e-02\n",
      "  1.14633024e-01 1.96561217e-01 1.19409561e-01 1.90660059e-02\n",
      "  1.19316876e-02 1.14560425e-02 1.37296915e-02 1.65499449e-02\n",
      "  6.27422333e-03 1.10157728e-02 2.34887302e-02 3.47611606e-02\n",
      "  3.01835895e-01 6.97433472e-01 5.66921711e-01 2.27949560e-01\n",
      "  1.52295828e-02 2.74279714e-03 1.60455704e-03 9.12189484e-04\n",
      "  8.70287418e-04 2.88069248e-04 5.91695309e-04 3.24726105e-04\n",
      "  3.77386808e-04 3.19629908e-04 4.90936637e-03 1.06632829e-01\n",
      "  3.38920236e-01 4.14956868e-01 3.19471687e-01 8.06113183e-02\n",
      "  2.68302560e-02 2.14812160e-02 1.90621912e-02 2.27020979e-02\n",
      "  1.42214596e-02 2.39269733e-02 2.09464431e-02 9.50076580e-02\n",
      "  3.94512355e-01 5.19341409e-01 6.13474667e-01 9.72369611e-02\n",
      "  4.17703390e-03 2.59968638e-03 7.93248415e-04 1.05398893e-03\n",
      "  7.61449337e-04 3.69846821e-04 5.64515591e-04 2.94864178e-04\n",
      "  3.67790461e-04 2.36839056e-04 9.04980302e-03 2.74559915e-01\n",
      "  6.06838703e-01 6.95938587e-01 6.48719192e-01 3.22254658e-01\n",
      "  2.32023686e-01 7.05990493e-02 3.67850661e-02 1.81559324e-02\n",
      "  1.93269849e-02 3.22578251e-02 6.78580403e-02 3.35836411e-01\n",
      "  4.80863005e-01 7.18507111e-01 2.02346742e-01 2.58829594e-02\n",
      "  3.75393033e-03 2.00414658e-03 1.11064315e-03 6.05404377e-04\n",
      "  5.96880913e-04 4.61876392e-04 4.21553850e-04 2.79098749e-04\n",
      "  2.75999308e-04 4.39733267e-04 5.49784303e-03 2.73452640e-01\n",
      "  7.69486547e-01 8.58230591e-01 8.22325289e-01 8.54654372e-01\n",
      "  5.09667337e-01 1.71717435e-01 4.78278100e-02 7.37922490e-02\n",
      "  9.00118947e-02 1.78855836e-01 3.63850266e-01 5.21034122e-01\n",
      "  5.22624195e-01 3.74341190e-01 1.25712037e-01 1.39505565e-02\n",
      "  3.74627113e-03 2.43702531e-03 1.58143044e-03 1.48746371e-03\n",
      "  4.38094139e-04 5.51283360e-04 3.43531370e-04 2.99692154e-04\n",
      "  2.57223845e-04 3.07202339e-04 2.72506475e-03 1.14875108e-01\n",
      "  5.39205253e-01 8.26118708e-01 8.70635867e-01 9.76799846e-01\n",
      "  8.83348465e-01 7.33841896e-01 6.26649022e-01 4.64705765e-01\n",
      "  4.55331504e-01 5.67809641e-01 7.10040867e-01 5.60997069e-01\n",
      "  2.74321556e-01 1.18740678e-01 6.35501444e-02 1.09926164e-02\n",
      "  5.33270836e-03 3.48928571e-03 1.64267421e-03 8.22037458e-04\n",
      "  6.62058592e-04 5.30660152e-04 2.88009644e-04 3.93807888e-04\n",
      "  2.44140625e-04 1.97976828e-04 8.72910023e-04 1.66437626e-02\n",
      "  2.19304204e-01 6.29094362e-01 8.58542204e-01 9.65174675e-01\n",
      "  9.66378450e-01 9.72244322e-01 9.78845835e-01 9.51010823e-01\n",
      "  8.10059667e-01 7.31172264e-01 5.28520107e-01 3.20590615e-01\n",
      "  1.42863035e-01 4.71194088e-02 2.85402238e-02 1.32000148e-02\n",
      "  3.47441435e-03 1.62595510e-03 5.49644232e-04 5.97715378e-04\n",
      "  7.65442848e-04 6.60896301e-04 3.76164913e-04 2.56717205e-04\n",
      "  2.54124403e-04 2.54124403e-04 3.92347574e-04 2.84969807e-03\n",
      "  2.80164480e-02 1.56991750e-01 5.53812921e-01 7.74760902e-01\n",
      "  8.82525027e-01 9.37203407e-01 9.23335671e-01 8.25342894e-01\n",
      "  7.05349505e-01 3.38342547e-01 8.09129477e-02 3.07866931e-02\n",
      "  6.10750914e-03 5.93364239e-03 5.31342626e-03 1.81484222e-03\n",
      "  1.41730905e-03 4.44203615e-04 5.35279512e-04 6.69121742e-04\n",
      "  3.36080790e-04 5.08248806e-04 2.64704227e-04 1.99824572e-04\n",
      "  3.82870436e-04 2.14368105e-04 3.12417746e-04 4.24921513e-04\n",
      "  7.39008188e-04 2.55504251e-03 1.96316540e-02 3.13449204e-02\n",
      "  4.68642116e-02 8.19323063e-02 7.86520541e-02 4.47375178e-02\n",
      "  2.20187008e-02 6.37677312e-03 4.11161780e-03 2.53859162e-03\n",
      "  2.45088339e-03 2.52664089e-03 1.48773193e-03 6.78658485e-04\n",
      "  4.17143106e-04 2.51471996e-04 2.49475241e-04 2.80529261e-04\n",
      "  3.37719917e-04 2.13444233e-04 2.82675028e-04 2.03877687e-04\n",
      "  4.62800264e-04 2.67088413e-04 3.26305628e-04 3.55631113e-04\n",
      "  3.02493572e-04 9.75012779e-04 2.32681632e-03 2.16817856e-03\n",
      "  2.30687857e-03 3.56331468e-03 3.91456485e-03 1.37498975e-03\n",
      "  1.34181976e-03 1.02660060e-03 4.56899405e-04 7.57992268e-04\n",
      "  5.50329685e-04 6.84767962e-04 4.24802303e-04 2.82257795e-04\n",
      "  4.88847494e-04 2.64197588e-04 4.59671021e-04 2.48789787e-04\n",
      "  2.48551369e-04 3.69846821e-04 2.01910734e-04 3.26246023e-04\n",
      "  2.80857086e-04 3.60548496e-04 2.61753798e-04 2.32160091e-04\n",
      "  2.84492970e-04 3.10987234e-04 2.82406807e-04 8.40932131e-04\n",
      "  5.91695309e-04 1.48978829e-03 1.47017837e-03 1.22910738e-03\n",
      "  1.02087855e-03 9.58472490e-04 5.36620617e-04 6.87450171e-04\n",
      "  4.49866056e-04 1.31970644e-03 3.82512808e-04 3.50654125e-04\n",
      "  3.03477049e-04 2.62200832e-04 2.44408846e-04 2.67446041e-04\n",
      "  1.77294016e-04 1.57237053e-04 2.80767679e-04 2.46554613e-04]], shape=(1, 784), dtype=float32)\n"
     ]
    }
   ],
   "source": [
    "hh0_p = tf.nn.sigmoid(tf.matmul(sample_case, W) + hb)\n",
    "hh0_s = tf.round(hh0_p)\n",
    "\n",
    "print(\"Probability nodes in hidden layer:\" ,hh0_p)\n",
    "print(\"activated nodes in hidden layer:\" ,hh0_s)\n",
    "\n",
    "# reconstruct\n",
    "vv1_p = tf.nn.sigmoid(tf.matmul(hh0_s, tf.transpose(W)) + vb)\n",
    "\n",
    "print(vv1_p)\n",
    "#rec_prob = sess.run(vv1_p, feed_dict={ hh0_s: hh0_s_val, W: prv_w, vb: prv_vb})"
   ]
  },
  {
   "cell_type": "markdown",
   "metadata": {},
   "source": [
    "Here we plot the reconstructed image:\n"
   ]
  },
  {
   "cell_type": "code",
   "execution_count": 30,
   "metadata": {},
   "outputs": [
    {
     "data": {
      "image/png": "[encoded data removed]",
      "text/plain": [
       "<Figure size 288x288 with 1 Axes>"
      ]
     },
     "metadata": {
      "needs_background": "light"
     },
     "output_type": "display_data"
    }
   ],
   "source": [
    "img = Image.fromarray(tile_raster_images(X=vv1_p.numpy(), img_shape=(28, 28),tile_shape=(1, 1), tile_spacing=(1, 1)))\n",
    "plt.rcParams['figure.figsize'] = (4.0, 4.0)\n",
    "imgplot = plt.imshow(img)\n",
    "imgplot.set_cmap('gray') "
   ]
  },
  {
   "cell_type": "markdown",
   "metadata": {},
   "source": [
    "<hr>\n",
    "\n",
    "## Want to learn more?\n",
    "\n",
    "Running deep learning programs usually needs a high performance platform. **PowerAI** speeds up deep learning and AI. Built on IBM’s Power Systems, **PowerAI** is a scalable software platform that accelerates deep learning and AI with blazing performance for individual users or enterprises. The **PowerAI** platform supports popular machine learning libraries and dependencies including TensorFlow, Caffe, Torch, and Theano. You can use [PowerAI on IMB Cloud](https://cocl.us/ML0120EN_PAI).\n",
    "\n",
    "Also, you can use **Watson Studio** to run these notebooks faster with bigger datasets.**Watson Studio** is IBM’s leading cloud solution for data scientists, built by data scientists. With Jupyter notebooks, RStudio, Apache Spark and popular libraries pre-packaged in the cloud, **Watson Studio** enables data scientists to collaborate on their projects without having to install anything. Join the fast-growing community of **Watson Studio** users today with a free account at [Watson Studio](https://cocl.us/ML0120EN_DSX).This is the end of this lesson. Thank you for reading this notebook, and good luck on your studies.\n"
   ]
  },
  {
   "cell_type": "markdown",
   "metadata": {},
   "source": [
    "### Thanks for completing this lesson!\n",
    "\n",
    "Notebook created by: <a href = \"https://ca.linkedin.com/in/saeedaghabozorgi\">Saeed Aghabozorgi</a>\n",
    "\n",
    "Updated to TF 2.X by  <a href=\"https://ca.linkedin.com/in/nilmeier\"> Jerome Nilmeier</a><br />\n"
   ]
  },
  {
   "cell_type": "markdown",
   "metadata": {},
   "source": [
    "### References:\n",
    "\n",
    "[https://en.wikipedia.org/wiki/Restricted_Boltzmann_machine](https://en.wikipedia.org/wiki/Restricted_Boltzmann_machine?cm_mmc=Email_Newsletter-_-Developer_Ed%2BTech-_-WW_WW-_-SkillsNetwork-Courses-IBMDeveloperSkillsNetwork-DL0120EN-SkillsNetwork-20629446&cm_mmca1=000026UJ&cm_mmca2=10006555&cm_mmca3=M12345678&cvosrc=email.Newsletter.M12345678&cvo_campaign=000026UJ)  \n",
    "[http://deeplearning.net/tutorial/rbm.html](http://deeplearning.net/tutorial/rbm.html?cm_mmc=Email_Newsletter-_-Developer_Ed%2BTech-_-WW_WW-_-SkillsNetwork-Courses-IBMDeveloperSkillsNetwork-DL0120EN-SkillsNetwork-20629446&cm_mmca1=000026UJ&cm_mmca2=10006555&cm_mmca3=M12345678&cvosrc=email.Newsletter.M12345678&cvo_campaign=000026UJ&cm_mmc=Email_Newsletter-_-Developer_Ed%2BTech-_-WW_WW-_-SkillsNetwork-Courses-IBMDeveloperSkillsNetwork-DL0120EN-SkillsNetwork-20629446&cm_mmca1=000026UJ&cm_mmca2=10006555&cm_mmca3=M12345678&cvosrc=email.Newsletter.M12345678&cvo_campaign=000026UJ)  \n",
    "[http://www.cs.utoronto.ca/~hinton/absps/netflixICML.pdf](http://www.cs.utoronto.ca/~hinton/absps/netflixICML.pdf?cm_mmc=Email_Newsletter-_-Developer_Ed%2BTech-_-WW_WW-_-SkillsNetwork-Courses-IBMDeveloperSkillsNetwork-DL0120EN-SkillsNetwork-20629446&cm_mmca1=000026UJ&cm_mmca2=10006555&cm_mmca3=M12345678&cvosrc=email.Newsletter.M12345678&cvo_campaign=000026UJ&cm_mmc=Email_Newsletter-_-Developer_Ed%2BTech-_-WW_WW-_-SkillsNetwork-Courses-IBMDeveloperSkillsNetwork-DL0120EN-SkillsNetwork-20629446&cm_mmca1=000026UJ&cm_mmca2=10006555&cm_mmca3=M12345678&cvosrc=email.Newsletter.M12345678&cvo_campaign=000026UJ)<br>\n",
    "[http://imonad.com/rbm/restricted-boltzmann-machine/](http://imonad.com/rbm/restricted-boltzmann-machine?cm_mmc=Email_Newsletter-_-Developer_Ed%2BTech-_-WW_WW-_-SkillsNetwork-Courses-IBMDeveloperSkillsNetwork-DL0120EN-SkillsNetwork-20629446&cm_mmca1=000026UJ&cm_mmca2=10006555&cm_mmca3=M12345678&cvosrc=email.Newsletter.M12345678&cvo_campaign=000026UJ&cm_mmc=Email_Newsletter-_-Developer_Ed%2BTech-_-WW_WW-_-SkillsNetwork-Courses-IBMDeveloperSkillsNetwork-DL0120EN-SkillsNetwork-20629446&cm_mmca1=000026UJ&cm_mmca2=10006555&cm_mmca3=M12345678&cvosrc=email.Newsletter.M12345678&cvo_campaign=000026UJ&cm_mmc=Email_Newsletter-_-Developer_Ed%2BTech-_-WW_WW-_-SkillsNetwork-Courses-IBMDeveloperSkillsNetwork-DL0120EN-SkillsNetwork-20629446&cm_mmca1=000026UJ&cm_mmca2=10006555&cm_mmca3=M12345678&cvosrc=email.Newsletter.M12345678&cvo_campaign=000026UJ)  \n"
   ]
  },
  {
   "cell_type": "markdown",
   "metadata": {},
   "source": [
    "<hr>\n",
    "\n",
    "Copyright © 2018 [Cognitive Class](https://cocl.us/DX0108EN_CC). This notebook and its source code are released under the terms of the [MIT License](https://bigdatauniversity.com/mit-license?cm_mmc=Email_Newsletter-_-Developer_Ed%2BTech-_-WW_WW-_-SkillsNetwork-Courses-IBMDeveloperSkillsNetwork-DL0120EN-SkillsNetwork-20629446&cm_mmca1=000026UJ&cm_mmca2=10006555&cm_mmca3=M12345678&cvosrc=email.Newsletter.M12345678&cvo_campaign=000026UJ&cm_mmc=Email_Newsletter-_-Developer_Ed%2BTech-_-WW_WW-_-SkillsNetwork-Courses-IBMDeveloperSkillsNetwork-DL0120EN-SkillsNetwork-20629446&cm_mmca1=000026UJ&cm_mmca2=10006555&cm_mmca3=M12345678&cvosrc=email.Newsletter.M12345678&cvo_campaign=000026UJ).\n"
   ]
  }
 ],
 "metadata": {
  "kernelspec": {
   "display_name": "Python",
   "language": "python",
   "name": "conda-env-python-py"
  },
  "language_info": {
   "codemirror_mode": {
    "name": "ipython",
    "version": 3
   },
   "file_extension": ".py",
   "mimetype": "text/x-python",
   "name": "python",
   "nbconvert_exporter": "python",
   "pygments_lexer": "ipython3",
   "version": "3.6.11"
  },
  "widgets": {
   "state": {},
   "version": "1.1.2"
  }
 },
 "nbformat": 4,
 "nbformat_minor": 4
}
