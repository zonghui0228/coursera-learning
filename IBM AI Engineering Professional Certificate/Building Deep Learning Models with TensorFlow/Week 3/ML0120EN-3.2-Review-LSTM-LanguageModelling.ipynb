{
 "cells": [
  {
   "cell_type": "markdown",
   "metadata": {},
   "source": [
    "<a href=\"https://www.skills.network/\"><img src=\"https://cf-courses-data.s3.us.cloud-object-storage.appdomain.cloud/IBM-DL0120ENedX/labs/Template%20for%20Instructional%20Hands-on%20Labs/images/IDSNlogo.png\" width=\"400px\" align=\"center\"></a>\n",
    "\n",
    "<h1 align=\"center\"><font size=\"5\">RECURRENT NETWORKS and LSTM IN DEEP LEARNING</font></h1>\n"
   ]
  },
  {
   "cell_type": "markdown",
   "metadata": {},
   "source": [
    "<h2>Applying Recurrent Neural Networks/LSTM for Language Modeling</h2>\n",
    "Hello and welcome to this part. In this notebook, we will go over the topic of Language Modelling, and create a Recurrent Neural Network model based on the Long Short-Term Memory unit to train and benchmark on the Penn Treebank dataset. By the end of this notebook, you should be able to understand how TensorFlow builds and executes a RNN model for Language Modelling.\n"
   ]
  },
  {
   "cell_type": "markdown",
   "metadata": {},
   "source": [
    "<h2>The Objective</h2>\n",
    "By now, you should have an understanding of how Recurrent Networks work -- a specialized model to process sequential data by keeping track of the \"state\" or context. In this notebook, we go over a TensorFlow code snippet for creating a model focused on <b>Language Modelling</b> -- a very relevant task that is the cornerstone of many different linguistic problems such as <b>Speech Recognition, Machine Translation and Image Captioning</b>. For this, we will be using the Penn Treebank dataset, which is an often-used dataset for benchmarking Language Modelling models.\n"
   ]
  },
  {
   "cell_type": "markdown",
   "metadata": {},
   "source": [
    "<h2>Table of Contents</h2>\n",
    "<ol>\n",
    "    <li><a href=\"#language_modelling\">What exactly is Language Modelling?</a></li>\n",
    "    <li><a href=\"#treebank_dataset\">The Penn Treebank dataset</a></li>\n",
    "    <li><a href=\"#word_embedding\">Word Embedding</a></li>\n",
    "    <li><a href=\"#building_lstm_model\">Building the LSTM model for Language Modeling</a></li>\n",
    "    <li><a href=\"#ltsm\">LTSM</a></li>\n",
    "</ol>\n",
    "<p></p>\n",
    "</div>\n",
    "<br>\n"
   ]
  },
  {
   "cell_type": "markdown",
   "metadata": {
    "button": false,
    "deletable": true,
    "new_sheet": false,
    "run_control": {
     "read_only": false
    }
   },
   "source": [
    "* * *\n"
   ]
  },
  {
   "cell_type": "markdown",
   "metadata": {},
   "source": [
    "<a id=\"language_modelling\"></a>\n",
    "\n",
    "<h2>What exactly is Language Modelling?</h2>\n",
    "Language Modelling, to put it simply, <b>is the task of assigning probabilities to sequences of words</b>. This means that, given a context of one or a sequence of words in the language the model was trained on, the model should provide the next most probable words or sequence of words that follows from the given sequence of words the sentence. Language Modelling is one of the most important tasks in Natural Language Processing.\n",
    "\n",
    "<img src=\"https://ibm.box.com/shared/static/1d1i5gub6wljby2vani2vzxp0xsph702.png\" width=\"1080\">\n",
    "<center><i>Example of a sentence being predicted</i></center>\n",
    "<br><br>\n",
    "In this example, one can see the predictions for the next word of a sentence, given the context \"This is an\". As you can see, this boils down to a sequential data analysis task -- you are given a word or a sequence of words (the input data), and, given the context (the state), you need to find out what is the next word (the prediction). This kind of analysis is very important for language-related tasks such as <b>Speech Recognition, Machine Translation, Image Captioning, Text Correction</b> and many other very relevant problems. \n",
    "\n",
    "<img src=\"https://ibm.box.com/shared/static/az39idf9ipfdpc5ugifpgxnydelhyf3i.png\" width=\"1080\">\n",
    "<center><i>The above example is a schema of an RNN in execution</i></center>\n",
    "<br><br>\n",
    "As the above image shows, Recurrent Network models fit this problem like a glove. Alongside LSTM and its capacity to maintain the model's state for over one thousand time steps, we have all the tools we need to undertake this problem. The goal for this notebook is to create a model that can reach <b>low levels of perplexity</b> on our desired dataset.\n",
    "\n",
    "For Language Modelling problems, <b>perplexity</b> is the way to gauge efficiency. Perplexity is simply a measure of how well a probabilistic model is able to predict its sample. A higher-level way to explain this would be saying that <b>low perplexity means a higher degree of trust in the predictions the model makes</b>. Therefore, the lower perplexity is, the better.\n"
   ]
  },
  {
   "cell_type": "markdown",
   "metadata": {},
   "source": [
    "<a id=\"treebank_dataset\"></a>\n",
    "\n",
    "<h2>The Penn Treebank dataset</h2>\n",
    "Historically, datasets big enough for Natural Language Processing are hard to come by. This is in part due to the necessity of the sentences to be broken down and tagged with a certain degree of correctness -- or else the models trained on it won't be able to be correct at all. This means that we need a <b>large amount of data, annotated by or at least corrected by humans</b>. This is, of course, not an easy task at all.\n",
    "\n",
    "The Penn Treebank, or PTB for short, is a dataset maintained by the University of Pennsylvania. It is <i>huge</i> -- there are over <b>four million and eight hundred thousand</b> annotated words in it, all corrected by humans. It is composed of many different sources, from abstracts of Department of Energy papers to texts from the Library of America. Since it is verifiably correct and of such a huge size, the Penn Treebank is commonly used as a benchmark dataset for Language Modelling.\n",
    "\n",
    "The dataset is divided in different kinds of annotations, such as Piece-of-Speech, Syntactic and Semantic skeletons. For this example, we will simply use a sample of clean, non-annotated words (with the exception of one tag --<code>&lt;unk></code>\n",
    ", which is used for rare words such as uncommon proper nouns) for our model. This means that we just want to predict what the next words would be, not what they mean in context or their classes on a given sentence.\n",
    "\n",
    "<center>Example of text from the dataset we are going to use, <b>ptb.train</b></center>\n",
    "<br><br>\n",
    "\n",
    "<div class=\"alert alert-block alert-info\" style=\"margin-top: 20px\">\n",
    "    <center>the percentage of lung cancer deaths among the workers at the west <code>&lt;unk&gt;</code> mass. paper factory appears to be the highest for any asbestos workers studied in western industrialized countries he said \n",
    " the plant which is owned by <code>&lt;unk&gt;</code> & <code>&lt;unk&gt;</code> co. was under contract with <code>&lt;unk&gt;</code> to make the cigarette filters \n",
    " the finding probably will support those who argue that the U.S. should regulate the class of asbestos including <code>&lt;unk&gt;</code> more <code>&lt;unk&gt;</code> than the common kind of asbestos <code>&lt;unk&gt;</code> found in most schools and other buildings dr. <code>&lt;unk&gt;</code> said</center>\n",
    "</div>\n"
   ]
  },
  {
   "cell_type": "markdown",
   "metadata": {
    "button": false,
    "deletable": true,
    "new_sheet": false,
    "run_control": {
     "read_only": false
    }
   },
   "source": [
    "<a id=\"word_embedding\"></a>\n",
    "\n",
    "<h2>Word Embeddings</h2><br/>\n",
    "\n",
    "For better processing, in this example, we will make use of <a href=\"https://www.tensorflow.org/tutorials/word2vec/\"><b>word embeddings</b></a>, which is <b>a way of representing sentence structures or words as n-dimensional vectors (where n is a reasonably high number, such as 200 or 500) of real numbers</b>. Basically, we will assign each word a randomly-initialized vector, and input those into the network to be processed. After a number of iterations, these vectors are expected to assume values that help the network to correctly predict what it needs to -- in our case, the probable next word in the sentence. This is shown to be a very effective task in Natural Language Processing, and is a commonplace practice.\n",
    "<br><br>\n",
    "<font size=\"4\"><strong>\n",
    "$$Vec(\"Example\") = [0.02, 0.00, 0.00, 0.92, 0.30, \\ldots]$$\n",
    "</strong></font>\n",
    "<br>\n",
    "Word Embedding tends to group up similarly used words <i>reasonably</i> close together in the vectorial space. For example, if we use T-SNE (a dimensional reduction visualization algorithm) to flatten the dimensions of our vectors into a 2-dimensional space and plot these words in a 2-dimensional space, we might see something like this:\n",
    "\n",
    "<img src=\"https://ibm.box.com/shared/static/bqhc5dg879gcoabzhxra1w8rkg3od1cu.png\" width=\"800\">\n",
    "<center><i>T-SNE Mockup with clusters marked for easier visualization</i></center>\n",
    "<br><br>\n",
    "As you can see, words that are frequently used together, in place of each other, or in the same places as them tend to be grouped together -- being closer together the higher they are correlated. For example, \"None\" is pretty semantically close to \"Zero\", while a phrase that uses \"Italy\", you could probably also fit \"Germany\" in it, with little damage to the sentence structure. The vectorial \"closeness\" for similar words like this is a great indicator of a well-built model.\n",
    "\n",
    "<hr>\n",
    " \n"
   ]
  },
  {
   "cell_type": "markdown",
   "metadata": {
    "button": false,
    "deletable": true,
    "new_sheet": false,
    "run_control": {
     "read_only": false
    }
   },
   "source": [
    "We need to import the necessary modules for our code. We need <b><code>numpy</code></b> and <b><code>tensorflow</code></b>, obviously. Additionally, we can import directly the <b><code>tensorflow.models.rnn</code></b> model, which includes the function for building RNNs, and <b><code>tensorflow.models.rnn.ptb.reader</code></b> which is the helper module for getting the input data from the dataset we just downloaded.\n",
    "\n",
    "If you want to learn more take a look at <https://github.com/tensorflow/models/blob/master/tutorials/rnn/ptb/reader.py>\n"
   ]
  },
  {
   "cell_type": "code",
   "execution_count": 1,
   "metadata": {
    "tags": []
   },
   "outputs": [
    {
     "name": "stdout",
     "output_type": "stream",
     "text": [
      "Collecting tensorflow==2.2.0rc0\n",
      "  Using cached https://files.pythonhosted.org/packages/c2/a9/836bf28d748b12e8e979fb24a0d9d2f0930df913eb958363ed223406a0ca/tensorflow-2.2.0rc0-cp36-cp36m-manylinux2010_x86_64.whl\n",
      "Requirement already satisfied: google-pasta>=0.1.8 in /home/jupyterlab/conda/envs/python/lib/python3.6/site-packages (from tensorflow==2.2.0rc0) (0.2.0)\n",
      "Requirement already satisfied: protobuf>=3.8.0 in /home/jupyterlab/conda/envs/python/lib/python3.6/site-packages (from tensorflow==2.2.0rc0) (3.12.3)\n",
      "Requirement already satisfied: six>=1.12.0 in /home/jupyterlab/conda/envs/python/lib/python3.6/site-packages (from tensorflow==2.2.0rc0) (1.15.0)\n",
      "Requirement already satisfied: wheel>=0.26; python_version >= \"3\" in /home/jupyterlab/conda/envs/python/lib/python3.6/site-packages (from tensorflow==2.2.0rc0) (0.34.2)\n",
      "Requirement already satisfied: scipy==1.4.1; python_version >= \"3\" in /home/jupyterlab/conda/envs/python/lib/python3.6/site-packages (from tensorflow==2.2.0rc0) (1.4.1)\n",
      "Requirement already satisfied: absl-py>=0.7.0 in /home/jupyterlab/conda/envs/python/lib/python3.6/site-packages (from tensorflow==2.2.0rc0) (0.9.0)\n",
      "Requirement already satisfied: termcolor>=1.1.0 in /home/jupyterlab/conda/envs/python/lib/python3.6/site-packages (from tensorflow==2.2.0rc0) (1.1.0)\n",
      "Requirement already satisfied: gast==0.3.3 in /home/jupyterlab/conda/envs/python/lib/python3.6/site-packages (from tensorflow==2.2.0rc0) (0.3.3)\n",
      "Requirement already satisfied: grpcio>=1.8.6 in /home/jupyterlab/conda/envs/python/lib/python3.6/site-packages (from tensorflow==2.2.0rc0) (1.30.0)\n",
      "Requirement already satisfied: h5py<2.11.0,>=2.10.0 in /home/jupyterlab/conda/envs/python/lib/python3.6/site-packages (from tensorflow==2.2.0rc0) (2.10.0)\n",
      "Requirement already satisfied: tensorflow-estimator<2.2.0,>=2.1.0 in /home/jupyterlab/conda/envs/python/lib/python3.6/site-packages (from tensorflow==2.2.0rc0) (2.1.0)\n",
      "Requirement already satisfied: wrapt>=1.11.1 in /home/jupyterlab/conda/envs/python/lib/python3.6/site-packages (from tensorflow==2.2.0rc0) (1.12.1)\n",
      "Requirement already satisfied: keras-preprocessing>=1.1.0 in /home/jupyterlab/conda/envs/python/lib/python3.6/site-packages (from tensorflow==2.2.0rc0) (1.1.2)\n",
      "Requirement already satisfied: numpy<2.0,>=1.16.0 in /home/jupyterlab/conda/envs/python/lib/python3.6/site-packages (from tensorflow==2.2.0rc0) (1.19.1)\n",
      "Requirement already satisfied: opt-einsum>=2.3.2 in /home/jupyterlab/conda/envs/python/lib/python3.6/site-packages (from tensorflow==2.2.0rc0) (3.3.0)\n",
      "Collecting tensorboard<2.2.0,>=2.1.0 (from tensorflow==2.2.0rc0)\n",
      "  Using cached https://files.pythonhosted.org/packages/d9/41/bbf49b61370e4f4d245d4c6051dfb6db80cec672605c91b1652ac8cc3d38/tensorboard-2.1.1-py3-none-any.whl\n",
      "Requirement already satisfied: astunparse==1.6.3 in /home/jupyterlab/conda/envs/python/lib/python3.6/site-packages (from tensorflow==2.2.0rc0) (1.6.3)\n",
      "Requirement already satisfied: setuptools in /home/jupyterlab/conda/envs/python/lib/python3.6/site-packages (from protobuf>=3.8.0->tensorflow==2.2.0rc0) (49.2.0.post20200712)\n",
      "Requirement already satisfied: werkzeug>=0.11.15 in /home/jupyterlab/conda/envs/python/lib/python3.6/site-packages (from tensorboard<2.2.0,>=2.1.0->tensorflow==2.2.0rc0) (1.0.1)\n",
      "Requirement already satisfied: requests<3,>=2.21.0 in /home/jupyterlab/conda/envs/python/lib/python3.6/site-packages (from tensorboard<2.2.0,>=2.1.0->tensorflow==2.2.0rc0) (2.24.0)\n",
      "Requirement already satisfied: google-auth-oauthlib<0.5,>=0.4.1 in /home/jupyterlab/conda/envs/python/lib/python3.6/site-packages (from tensorboard<2.2.0,>=2.1.0->tensorflow==2.2.0rc0) (0.4.1)\n",
      "Requirement already satisfied: google-auth<2,>=1.6.3 in /home/jupyterlab/conda/envs/python/lib/python3.6/site-packages (from tensorboard<2.2.0,>=2.1.0->tensorflow==2.2.0rc0) (1.21.1)\n",
      "Requirement already satisfied: markdown>=2.6.8 in /home/jupyterlab/conda/envs/python/lib/python3.6/site-packages (from tensorboard<2.2.0,>=2.1.0->tensorflow==2.2.0rc0) (3.2.2)\n",
      "Requirement already satisfied: idna<3,>=2.5 in /home/jupyterlab/conda/envs/python/lib/python3.6/site-packages (from requests<3,>=2.21.0->tensorboard<2.2.0,>=2.1.0->tensorflow==2.2.0rc0) (2.10)\n",
      "Requirement already satisfied: certifi>=2017.4.17 in /home/jupyterlab/conda/envs/python/lib/python3.6/site-packages (from requests<3,>=2.21.0->tensorboard<2.2.0,>=2.1.0->tensorflow==2.2.0rc0) (2020.6.20)\n",
      "Requirement already satisfied: urllib3!=1.25.0,!=1.25.1,<1.26,>=1.21.1 in /home/jupyterlab/conda/envs/python/lib/python3.6/site-packages (from requests<3,>=2.21.0->tensorboard<2.2.0,>=2.1.0->tensorflow==2.2.0rc0) (1.25.10)\n",
      "Requirement already satisfied: chardet<4,>=3.0.2 in /home/jupyterlab/conda/envs/python/lib/python3.6/site-packages (from requests<3,>=2.21.0->tensorboard<2.2.0,>=2.1.0->tensorflow==2.2.0rc0) (3.0.4)\n",
      "Requirement already satisfied: requests-oauthlib>=0.7.0 in /home/jupyterlab/conda/envs/python/lib/python3.6/site-packages (from google-auth-oauthlib<0.5,>=0.4.1->tensorboard<2.2.0,>=2.1.0->tensorflow==2.2.0rc0) (1.3.0)\n",
      "Requirement already satisfied: cachetools<5.0,>=2.0.0 in /home/jupyterlab/conda/envs/python/lib/python3.6/site-packages (from google-auth<2,>=1.6.3->tensorboard<2.2.0,>=2.1.0->tensorflow==2.2.0rc0) (4.1.1)\n",
      "Requirement already satisfied: pyasn1-modules>=0.2.1 in /home/jupyterlab/conda/envs/python/lib/python3.6/site-packages (from google-auth<2,>=1.6.3->tensorboard<2.2.0,>=2.1.0->tensorflow==2.2.0rc0) (0.2.8)\n",
      "Requirement already satisfied: rsa<5,>=3.1.4; python_version >= \"3.5\" in /home/jupyterlab/conda/envs/python/lib/python3.6/site-packages (from google-auth<2,>=1.6.3->tensorboard<2.2.0,>=2.1.0->tensorflow==2.2.0rc0) (4.6)\n",
      "Requirement already satisfied: importlib-metadata; python_version < \"3.8\" in /home/jupyterlab/conda/envs/python/lib/python3.6/site-packages (from markdown>=2.6.8->tensorboard<2.2.0,>=2.1.0->tensorflow==2.2.0rc0) (1.7.0)\n",
      "Requirement already satisfied: oauthlib>=3.0.0 in /home/jupyterlab/conda/envs/python/lib/python3.6/site-packages (from requests-oauthlib>=0.7.0->google-auth-oauthlib<0.5,>=0.4.1->tensorboard<2.2.0,>=2.1.0->tensorflow==2.2.0rc0) (3.1.0)\n",
      "Requirement already satisfied: pyasn1<0.5.0,>=0.4.6 in /home/jupyterlab/conda/envs/python/lib/python3.6/site-packages (from pyasn1-modules>=0.2.1->google-auth<2,>=1.6.3->tensorboard<2.2.0,>=2.1.0->tensorflow==2.2.0rc0) (0.4.8)\n",
      "Requirement already satisfied: zipp>=0.5 in /home/jupyterlab/conda/envs/python/lib/python3.6/site-packages (from importlib-metadata; python_version < \"3.8\"->markdown>=2.6.8->tensorboard<2.2.0,>=2.1.0->tensorflow==2.2.0rc0) (3.1.0)\n",
      "Installing collected packages: tensorboard, tensorflow\n",
      "  Found existing installation: tensorboard 1.13.1\n",
      "    Uninstalling tensorboard-1.13.1:\n",
      "      Successfully uninstalled tensorboard-1.13.1\n",
      "  Found existing installation: tensorflow 1.14.0rc0\n",
      "    Uninstalling tensorflow-1.14.0rc0:\n",
      "      Successfully uninstalled tensorflow-1.14.0rc0\n",
      "Successfully installed tensorboard-2.1.1 tensorflow-2.2.0rc0\n",
      "Requirement already satisfied: numpy in /home/jupyterlab/conda/envs/python/lib/python3.6/site-packages (1.19.1)\n"
     ]
    }
   ],
   "source": [
    "!pip install tensorflow==2.2.0rc0\n",
    "!pip install numpy"
   ]
  },
  {
   "cell_type": "code",
   "execution_count": 2,
   "metadata": {},
   "outputs": [],
   "source": [
    "import time\n",
    "import numpy as np\n",
    "import tensorflow as tf\n",
    "if not tf.__version__ == '2.2.0-rc0':\n",
    "    print(tf.__version__)\n",
    "    raise ValueError('please upgrade to TensorFlow 2.2.0-rc0, or restart your Kernel (Kernel->Restart & Clear Output)')"
   ]
  },
  {
   "cell_type": "markdown",
   "metadata": {},
   "source": [
    "IMPORTANT! => Please restart the kernel by clicking on \"Kernel\"->\"Restart and Clear Outout\" and wait until all output disapears. Then your changes are beeing picked up\n"
   ]
  },
  {
   "cell_type": "code",
   "execution_count": 3,
   "metadata": {
    "button": false,
    "deletable": true,
    "new_sheet": false,
    "run_control": {
     "read_only": false
    },
    "tags": []
   },
   "outputs": [
    {
     "name": "stdout",
     "output_type": "stream",
     "text": [
      "mkdir: cannot create directory ‘data’: File exists\n",
      "Archive:  data/ptb.zip\n",
      "  inflating: data/ptb/reader.py      \n",
      "  inflating: data/__MACOSX/ptb/._reader.py  \n",
      "  inflating: data/__MACOSX/._ptb     \n"
     ]
    }
   ],
   "source": [
    "!mkdir data\n",
    "!wget -q -O data/ptb.zip https://ibm.box.com/shared/static/z2yvmhbskc45xd2a9a4kkn6hg4g4kj5r.zip\n",
    "!unzip -o data/ptb.zip -d data\n",
    "!cp data/ptb/reader.py . "
   ]
  },
  {
   "cell_type": "code",
   "execution_count": 4,
   "metadata": {
    "tags": []
   },
   "outputs": [],
   "source": [
    "import reader"
   ]
  },
  {
   "cell_type": "markdown",
   "metadata": {
    "button": false,
    "deletable": true,
    "new_sheet": false,
    "run_control": {
     "read_only": false
    }
   },
   "source": [
    "<a id=\"building_lstm_model\"></a>\n",
    "\n",
    "<h2>Building the LSTM model for Language Modeling</h2>\n",
    "Now that we know exactly what we are doing, we can start building our model using TensorFlow. The very first thing we need to do is download and extract the <code>simple-examples</code> dataset, which can be done by executing the code cell below.\n"
   ]
  },
  {
   "cell_type": "code",
   "execution_count": 6,
   "metadata": {
    "button": false,
    "deletable": true,
    "new_sheet": false,
    "run_control": {
     "read_only": false
    },
    "tags": []
   },
   "outputs": [
    {
     "name": "stdout",
     "output_type": "stream",
     "text": [
      "--2020-09-15 09:45:11--  http://www.fit.vutbr.cz/~imikolov/rnnlm/simple-examples.tgz\n",
      "Resolving www.fit.vutbr.cz (www.fit.vutbr.cz)... 147.229.9.23, 2001:67c:1220:809::93e5:917\n",
      "Connecting to www.fit.vutbr.cz (www.fit.vutbr.cz)|147.229.9.23|:80... connected.\n",
      "HTTP request sent, awaiting response... 200 OK\n",
      "Length: 34869662 (33M) [application/x-gtar]\n",
      "Saving to: ‘simple-examples.tgz’\n",
      "\n",
      "simple-examples.tgz 100%[===================>]  33.25M  1.71MB/s    in 35s     \n",
      "\n",
      "2020-09-15 09:45:46 (976 KB/s) - ‘simple-examples.tgz’ saved [34869662/34869662]\n",
      "\n"
     ]
    }
   ],
   "source": [
    "!wget http://www.fit.vutbr.cz/~imikolov/rnnlm/simple-examples.tgz \n",
    "!tar xzf simple-examples.tgz -C data/"
   ]
  },
  {
   "cell_type": "markdown",
   "metadata": {
    "button": false,
    "deletable": true,
    "new_sheet": false,
    "run_control": {
     "read_only": false
    }
   },
   "source": [
    "Additionally, for the sake of making it easy to play around with the model's hyperparameters, we can declare them beforehand. Feel free to change these -- you will see a difference in performance each time you change those!  \n"
   ]
  },
  {
   "cell_type": "code",
   "execution_count": 7,
   "metadata": {
    "button": false,
    "deletable": true,
    "new_sheet": false,
    "run_control": {
     "read_only": false
    }
   },
   "outputs": [],
   "source": [
    "#Initial weight scale\n",
    "init_scale = 0.1\n",
    "#Initial learning rate\n",
    "learning_rate = 1.0\n",
    "#Maximum permissible norm for the gradient (For gradient clipping -- another measure against Exploding Gradients)\n",
    "max_grad_norm = 5\n",
    "#The number of layers in our model\n",
    "num_layers = 2\n",
    "#The total number of recurrence steps, also known as the number of layers when our RNN is \"unfolded\"\n",
    "num_steps = 20\n",
    "#The number of processing units (neurons) in the hidden layers\n",
    "hidden_size_l1 = 256\n",
    "hidden_size_l2 = 128\n",
    "#The maximum number of epochs trained with the initial learning rate\n",
    "max_epoch_decay_lr = 4\n",
    "#The total number of epochs in training\n",
    "max_epoch = 15\n",
    "#The probability for keeping data in the Dropout Layer (This is an optimization, but is outside our scope for this notebook!)\n",
    "#At 1, we ignore the Dropout Layer wrapping.\n",
    "keep_prob = 1\n",
    "#The decay for the learning rate\n",
    "decay = 0.5\n",
    "#The size for each batch of data\n",
    "batch_size = 30\n",
    "#The size of our vocabulary\n",
    "vocab_size = 10000\n",
    "embeding_vector_size= 200\n",
    "#Training flag to separate training from testing\n",
    "is_training = 1\n",
    "#Data directory for our dataset\n",
    "data_dir = \"data/simple-examples/data/\""
   ]
  },
  {
   "cell_type": "markdown",
   "metadata": {
    "button": false,
    "new_sheet": false,
    "run_control": {
     "read_only": false
    }
   },
   "source": [
    "Some clarifications for LSTM architecture based on the arguments:\n",
    "\n",
    "Network structure:\n",
    "\n",
    "<ul>\n",
    "    <li>In this network, the number of LSTM cells are 2. To give the model more expressive power, we can add multiple layers of LSTMs to process the data. The output of the first layer will become the input of the second and so on.\n",
    "    </li>\n",
    "    <li>The recurrence steps is 20, that is, when our RNN is \"Unfolded\", the recurrence step is 20.</li>   \n",
    "    <li>the structure is like:\n",
    "        <ul>\n",
    "            <li>200 input units -> [200x200] Weight -> 200 Hidden units (first layer) -> [200x200] Weight matrix  -> 200 Hidden units (second layer) ->  [200] weight Matrix -> 200 unit output</li>\n",
    "        </ul>\n",
    "    </li>\n",
    "</ul>\n",
    "<br>\n",
    "\n",
    "Input layer: \n",
    "\n",
    "<ul>\n",
    "    <li>The network has 200 input units.</li>\n",
    "    <li>Suppose each word is represented by an embedding vector of dimensionality e=200. The input layer of each cell will have 200 linear units. These e=200 linear units are connected to each of the h=200 LSTM units in the hidden layer (assuming there is only one hidden layer, though our case has 2 layers).\n",
    "    </li>\n",
    "    <li>The input shape is [batch_size, num_steps], that is [30x20]. It will turn into [30x20x200] after embedding, and then 20x[30x200]\n",
    "    </li>\n",
    "</ul>\n",
    "<br>\n",
    "\n",
    "Hidden layer:\n",
    "\n",
    "<ul>\n",
    "    <li>Each LSTM has 200 hidden units which is equivalent to the dimensionality of the embedding words and output.</li>\n",
    "</ul>\n",
    "<br>\n"
   ]
  },
  {
   "cell_type": "markdown",
   "metadata": {
    "button": false,
    "deletable": true,
    "new_sheet": false,
    "run_control": {
     "read_only": false
    }
   },
   "source": [
    "There is a lot to be done and a ton of information to process at the same time, so go over this code slowly. It may seem complex at first, but if you try to apply what you just learned about language modelling to the code you see, you should be able to understand it.\n",
    "\n",
    "This code is adapted from the <a href=\"https://github.com/tensorflow/models\">PTBModel</a> example bundled with the TensorFlow source code.\n",
    "\n",
    "<h3>Training data</h3>\n",
    "The story starts from data:\n",
    "<ul>\n",
    "    <li>Train data is a list of words, of size 929589, represented by numbers, e.g. [9971, 9972, 9974, 9975,...]</li>\n",
    "    <li>We read data as mini-batch of size b=30. Assume the size of each sentence is 20 words (num_steps = 20). Then it will take $$floor(\\frac{N}{b \\times h})+1=1548$$ iterations for the learner to go through all sentences once. Where N is the size of the list of words, b is batch size, and h is size of each sentence. So, the number of iterators is 1548\n",
    "    </li>\n",
    "    <li>Each batch data is read from train dataset of size 600, and shape of [30x20]</li>\n",
    "</ul>\n"
   ]
  },
  {
   "cell_type": "code",
   "execution_count": 8,
   "metadata": {
    "button": false,
    "deletable": true,
    "new_sheet": false,
    "run_control": {
     "read_only": false
    }
   },
   "outputs": [],
   "source": [
    "# Reads the data and separates it into training data, validation data and testing data\n",
    "raw_data = reader.ptb_raw_data(data_dir)\n",
    "train_data, valid_data, test_data, vocab, word_to_id = raw_data"
   ]
  },
  {
   "cell_type": "code",
   "execution_count": 9,
   "metadata": {},
   "outputs": [
    {
     "data": {
      "text/plain": [
       "929589"
      ]
     },
     "execution_count": 9,
     "metadata": {},
     "output_type": "execute_result"
    }
   ],
   "source": [
    "len(train_data)"
   ]
  },
  {
   "cell_type": "code",
   "execution_count": 10,
   "metadata": {
    "tags": []
   },
   "outputs": [
    {
     "name": "stdout",
     "output_type": "stream",
     "text": [
      "['aer', 'banknote', 'berlitz', 'calloway', 'centrust', 'cluett', 'fromstein', 'gitano', 'guterman', 'hydro-quebec', 'ipo', 'kia', 'memotec', 'mlx', 'nahb', 'punts', 'rake', 'regatta', 'rubens', 'sim', 'snack-food', 'ssangyong', 'swapo', 'wachter', '<eos>', 'pierre', '<unk>', 'N', 'years', 'old', 'will', 'join', 'the', 'board', 'as', 'a', 'nonexecutive', 'director', 'nov.', 'N', '<eos>', 'mr.', '<unk>', 'is', 'chairman', 'of', '<unk>', 'n.v.', 'the', 'dutch', 'publishing', 'group', '<eos>', 'rudolph', '<unk>', 'N', 'years', 'old', 'and', 'former', 'chairman', 'of', 'consolidated', 'gold', 'fields', 'plc', 'was', 'named', 'a', 'nonexecutive', 'director', 'of', 'this', 'british', 'industrial', 'conglomerate', '<eos>', 'a', 'form', 'of', 'asbestos', 'once', 'used', 'to', 'make', 'kent', 'cigarette', 'filters', 'has', 'caused', 'a', 'high', 'percentage', 'of', 'cancer', 'deaths', 'among', 'a', 'group', 'of']\n"
     ]
    }
   ],
   "source": [
    "def id_to_word(id_list):\n",
    "    line = []\n",
    "    for w in id_list:\n",
    "        for word, wid in word_to_id.items():\n",
    "            if wid == w:\n",
    "                line.append(word)\n",
    "    return line            \n",
    "                \n",
    "\n",
    "print(id_to_word(train_data[0:100]))"
   ]
  },
  {
   "cell_type": "markdown",
   "metadata": {
    "button": false,
    "deletable": true,
    "new_sheet": false,
    "run_control": {
     "read_only": false
    }
   },
   "source": [
    "Lets just read one mini-batch now and feed our network:\n"
   ]
  },
  {
   "cell_type": "code",
   "execution_count": 11,
   "metadata": {
    "button": false,
    "deletable": true,
    "new_sheet": false,
    "run_control": {
     "read_only": false
    }
   },
   "outputs": [],
   "source": [
    "itera = reader.ptb_iterator(train_data, batch_size, num_steps)\n",
    "first_touple = itera.__next__()\n",
    "_input_data = first_touple[0]\n",
    "_targets = first_touple[1]"
   ]
  },
  {
   "cell_type": "code",
   "execution_count": 12,
   "metadata": {
    "button": false,
    "deletable": true,
    "new_sheet": false,
    "run_control": {
     "read_only": false
    }
   },
   "outputs": [
    {
     "data": {
      "text/plain": [
       "(30, 20)"
      ]
     },
     "execution_count": 12,
     "metadata": {},
     "output_type": "execute_result"
    }
   ],
   "source": [
    "_input_data.shape"
   ]
  },
  {
   "cell_type": "code",
   "execution_count": 13,
   "metadata": {},
   "outputs": [
    {
     "data": {
      "text/plain": [
       "(30, 20)"
      ]
     },
     "execution_count": 13,
     "metadata": {},
     "output_type": "execute_result"
    }
   ],
   "source": [
    "_targets.shape"
   ]
  },
  {
   "cell_type": "markdown",
   "metadata": {
    "button": false,
    "deletable": true,
    "new_sheet": false,
    "run_control": {
     "read_only": false
    }
   },
   "source": [
    "Lets look at 3 sentences of our input x:\n"
   ]
  },
  {
   "cell_type": "code",
   "execution_count": 14,
   "metadata": {
    "button": false,
    "deletable": true,
    "new_sheet": false,
    "run_control": {
     "read_only": false
    }
   },
   "outputs": [
    {
     "data": {
      "text/plain": [
       "array([[9970, 9971, 9972, 9974, 9975, 9976, 9980, 9981, 9982, 9983, 9984,\n",
       "        9986, 9987, 9988, 9989, 9991, 9992, 9993, 9994, 9995],\n",
       "       [2654,    6,  334, 2886,    4,    1,  233,  711,  834,   11,  130,\n",
       "         123,    7,  514,    2,   63,   10,  514,    8,  605],\n",
       "       [   0, 1071,    4,    0,  185,   24,  368,   20,   31, 3109,  954,\n",
       "          12,    3,   21,    2, 2915,    2,   12,    3,   21]],\n",
       "      dtype=int32)"
      ]
     },
     "execution_count": 14,
     "metadata": {},
     "output_type": "execute_result"
    }
   ],
   "source": [
    "_input_data[0:3]"
   ]
  },
  {
   "cell_type": "code",
   "execution_count": 15,
   "metadata": {},
   "outputs": [
    {
     "name": "stdout",
     "output_type": "stream",
     "text": [
      "['aer', 'banknote', 'berlitz', 'calloway', 'centrust', 'cluett', 'fromstein', 'gitano', 'guterman', 'hydro-quebec', 'ipo', 'kia', 'memotec', 'mlx', 'nahb', 'punts', 'rake', 'regatta', 'rubens', 'sim']\n"
     ]
    }
   ],
   "source": [
    "print(id_to_word(_input_data[0,:]))"
   ]
  },
  {
   "cell_type": "markdown",
   "metadata": {
    "button": false,
    "deletable": true,
    "new_sheet": false,
    "run_control": {
     "read_only": false
    }
   },
   "source": [
    "<h3>Embeddings</h3>\n",
    "We have to convert the words in our dataset to vectors of numbers. The traditional approach is to use one-hot encoding method that is usually used for converting categorical values to numerical values. However, One-hot encoded vectors are high-dimensional, sparse and in a big dataset, computationally inefficient. So, we use word2vec approach. It is, in fact, a layer in our LSTM network, where the word IDs will be represented as a dense representation before feeding to the LSTM. \n",
    "\n",
    "The embedded vectors also get updated during the training process of the deep neural network.\n",
    "We create the embeddings for our input data. <b>embedding_vocab</b> is matrix of [10000x200] for all 10000 unique words.\n"
   ]
  },
  {
   "cell_type": "markdown",
   "metadata": {
    "button": false,
    "deletable": true,
    "new_sheet": false,
    "run_control": {
     "read_only": false
    }
   },
   "source": [
    "<b>embedding_lookup()</b> finds the embedded values for our batch of 30x20 words. It  goes to each row of <code>input_data</code>, and for each word in the row/sentence, finds the correspond vector in <code>embedding_dic<code>. <br>\n",
    "It creates a [30x20x200] tensor, so, the first element of <b>inputs</b> (the first sentence), is a matrix of 20x200, which each row of it, is vector representing a word in the sentence.\n"
   ]
  },
  {
   "cell_type": "code",
   "execution_count": 16,
   "metadata": {},
   "outputs": [],
   "source": [
    "embedding_layer = tf.keras.layers.Embedding(vocab_size, embeding_vector_size,batch_input_shape=(batch_size, num_steps),trainable=True,name=\"embedding_vocab\")  "
   ]
  },
  {
   "cell_type": "code",
   "execution_count": 17,
   "metadata": {},
   "outputs": [
    {
     "data": {
      "text/plain": [
       "<tf.Tensor: shape=(30, 20, 200), dtype=float32, numpy=\n",
       "array([[[-0.03806695, -0.04887433,  0.01514182, ..., -0.02082795,\n",
       "         -0.0394935 , -0.01485405],\n",
       "        [ 0.00416948, -0.03304092, -0.0409941 , ...,  0.04133264,\n",
       "          0.01025804,  0.0219363 ],\n",
       "        [-0.03522182, -0.01832952,  0.00184666, ...,  0.00793298,\n",
       "          0.01213508,  0.0234728 ],\n",
       "        ...,\n",
       "        [-0.01036774, -0.03970996,  0.02192482, ...,  0.03243375,\n",
       "          0.03245424,  0.03242675],\n",
       "        [ 0.00915837,  0.02000548, -0.03744351, ...,  0.00729056,\n",
       "         -0.03075163,  0.0355056 ],\n",
       "        [-0.00125805, -0.01032209, -0.02436713, ..., -0.01583617,\n",
       "         -0.03958527, -0.03217374]],\n",
       "\n",
       "       [[ 0.00197296, -0.01451564,  0.02599149, ...,  0.04402191,\n",
       "         -0.02537709, -0.0116967 ],\n",
       "        [ 0.00886067,  0.03369918,  0.00437201, ..., -0.02280955,\n",
       "          0.02123291, -0.00396259],\n",
       "        [ 0.01523658, -0.00181818, -0.03635614, ..., -0.0057869 ,\n",
       "          0.01371653,  0.03912122],\n",
       "        ...,\n",
       "        [-0.02124537,  0.01850988,  0.02969073, ..., -0.04806156,\n",
       "         -0.0059894 ,  0.01413267],\n",
       "        [ 0.00316091, -0.00750554,  0.01262256, ..., -0.0245613 ,\n",
       "          0.01650072,  0.0293738 ],\n",
       "        [ 0.0280211 , -0.01247995,  0.02095969, ...,  0.03387537,\n",
       "          0.02092076,  0.02507141]],\n",
       "\n",
       "       [[ 0.00201583, -0.0195127 ,  0.04816307, ..., -0.04462869,\n",
       "          0.00551564,  0.03389256],\n",
       "        [-0.03828073, -0.00907786,  0.0165428 , ...,  0.02127222,\n",
       "         -0.0128261 ,  0.01657918],\n",
       "        [-0.04189742,  0.01963104,  0.00476317, ...,  0.01965671,\n",
       "          0.02906531, -0.01669186],\n",
       "        ...,\n",
       "        [ 0.03163436, -0.00544389, -0.00426108, ..., -0.0116988 ,\n",
       "          0.01785317, -0.0375785 ],\n",
       "        [ 0.03059293, -0.04027687,  0.02200463, ...,  0.01523117,\n",
       "         -0.04309688, -0.02870804],\n",
       "        [ 0.02211631, -0.02295433, -0.03971385, ...,  0.04166498,\n",
       "         -0.00878782, -0.04932492]],\n",
       "\n",
       "       ...,\n",
       "\n",
       "       [[ 0.00979798,  0.04346695,  0.02670581, ..., -0.03313683,\n",
       "          0.04618689,  0.01398969],\n",
       "        [-0.01544122, -0.01819148, -0.01537775, ...,  0.00491006,\n",
       "         -0.01019879,  0.01879771],\n",
       "        [-0.0015717 , -0.04471123,  0.02466694, ...,  0.02131169,\n",
       "         -0.04654682,  0.03129789],\n",
       "        ...,\n",
       "        [-0.02731462, -0.00624069,  0.01957709, ..., -0.02541818,\n",
       "          0.00650458,  0.00999375],\n",
       "        [-0.01402614, -0.04407001, -0.04767885, ..., -0.02909968,\n",
       "          0.03070283,  0.0428333 ],\n",
       "        [-0.04830125,  0.02572221, -0.03595747, ...,  0.03162315,\n",
       "         -0.00292547,  0.01926411]],\n",
       "\n",
       "       [[ 0.03337767, -0.00107198,  0.00768416, ...,  0.03595855,\n",
       "         -0.01714354, -0.0340057 ],\n",
       "        [-0.01833311,  0.02733939,  0.02535416, ..., -0.02223846,\n",
       "          0.03574714, -0.02371606],\n",
       "        [-0.04189742,  0.01963104,  0.00476317, ...,  0.01965671,\n",
       "          0.02906531, -0.01669186],\n",
       "        ...,\n",
       "        [-0.04316856,  0.04201644, -0.03181972, ...,  0.01108583,\n",
       "         -0.04972568, -0.04948265],\n",
       "        [ 0.00886067,  0.03369918,  0.00437201, ..., -0.02280955,\n",
       "          0.02123291, -0.00396259],\n",
       "        [ 0.0036177 ,  0.01092963, -0.04451784, ..., -0.00094882,\n",
       "         -0.02327772,  0.02602421]],\n",
       "\n",
       "       [[ 0.01345262, -0.02994199, -0.02775508, ...,  0.02872989,\n",
       "         -0.00359322,  0.01984899],\n",
       "        [-0.0128741 ,  0.00667626, -0.01190841, ..., -0.00948389,\n",
       "          0.01177355, -0.00378866],\n",
       "        [ 0.01874715,  0.01428718, -0.03933647, ..., -0.03355402,\n",
       "          0.03449111,  0.00262221],\n",
       "        ...,\n",
       "        [-0.03476651,  0.00277827, -0.03797361, ..., -0.02922316,\n",
       "          0.00721415,  0.00064918],\n",
       "        [ 0.01288663, -0.04846613, -0.04556977, ...,  0.03588617,\n",
       "         -0.00150297,  0.03004653],\n",
       "        [ 0.01035298, -0.03295237,  0.04572444, ...,  0.03615371,\n",
       "         -0.038364  , -0.04521917]]], dtype=float32)>"
      ]
     },
     "execution_count": 17,
     "metadata": {},
     "output_type": "execute_result"
    }
   ],
   "source": [
    "# Define where to get the data for our embeddings from\n",
    "inputs = embedding_layer(_input_data)\n",
    "inputs"
   ]
  },
  {
   "cell_type": "markdown",
   "metadata": {},
   "source": [
    "<h3>Constructing Recurrent Neural Networks</h3>\n"
   ]
  },
  {
   "cell_type": "markdown",
   "metadata": {
    "button": false,
    "deletable": true,
    "new_sheet": false,
    "run_control": {
     "read_only": false
    }
   },
   "source": [
    "In this step, we create the stacked LSTM using <b>tf.keras.layers.StackedRNNCells</b>, which is a 2 layer LSTM network:\n"
   ]
  },
  {
   "cell_type": "code",
   "execution_count": 18,
   "metadata": {},
   "outputs": [],
   "source": [
    "lstm_cell_l1 = tf.keras.layers.LSTMCell(hidden_size_l1)\n",
    "lstm_cell_l2 = tf.keras.layers.LSTMCell(hidden_size_l2)"
   ]
  },
  {
   "cell_type": "code",
   "execution_count": 19,
   "metadata": {
    "button": false,
    "deletable": true,
    "new_sheet": false,
    "run_control": {
     "read_only": false
    }
   },
   "outputs": [],
   "source": [
    "stacked_lstm = tf.keras.layers.StackedRNNCells([lstm_cell_l1, lstm_cell_l2])"
   ]
  },
  {
   "cell_type": "markdown",
   "metadata": {},
   "source": [
    "<b>tf.keras.layers.RNN</b> creates a recurrent neural network using <b>stacked_lstm</b>. \n",
    "\n",
    "The input should be a Tensor of shape: [batch_size, max_time, embedding_vector_size], in our case it would be (30, 20, 200)\n"
   ]
  },
  {
   "cell_type": "code",
   "execution_count": 20,
   "metadata": {},
   "outputs": [],
   "source": [
    "layer  =  tf.keras.layers.RNN(stacked_lstm,[batch_size, num_steps],return_state=False,stateful=True,trainable=True)"
   ]
  },
  {
   "cell_type": "markdown",
   "metadata": {
    "button": false,
    "deletable": true,
    "new_sheet": false,
    "run_control": {
     "read_only": false
    }
   },
   "source": [
    "Also, we initialize the states of the nework:\n",
    "\n",
    "<h4>_initial_state</h4>\n",
    "\n",
    "For each LSTM, there are 2 state matrices, c_state and m_state.  c_state and m_state represent \"Memory State\" and \"Cell State\". Each hidden layer, has a vector of size 30, which keeps the states. so, for 200 hidden units in each LSTM, we have a matrix of size [30x200]\n"
   ]
  },
  {
   "cell_type": "code",
   "execution_count": 21,
   "metadata": {},
   "outputs": [],
   "source": [
    "init_state = tf.Variable(tf.zeros([batch_size,embeding_vector_size]),trainable=False)"
   ]
  },
  {
   "cell_type": "code",
   "execution_count": 22,
   "metadata": {},
   "outputs": [],
   "source": [
    "layer.inital_state = init_state"
   ]
  },
  {
   "cell_type": "code",
   "execution_count": 23,
   "metadata": {},
   "outputs": [
    {
     "data": {
      "text/plain": [
       "<tf.Variable 'Variable:0' shape=(30, 200) dtype=float32, numpy=\n",
       "array([[0., 0., 0., ..., 0., 0., 0.],\n",
       "       [0., 0., 0., ..., 0., 0., 0.],\n",
       "       [0., 0., 0., ..., 0., 0., 0.],\n",
       "       ...,\n",
       "       [0., 0., 0., ..., 0., 0., 0.],\n",
       "       [0., 0., 0., ..., 0., 0., 0.],\n",
       "       [0., 0., 0., ..., 0., 0., 0.]], dtype=float32)>"
      ]
     },
     "execution_count": 23,
     "metadata": {},
     "output_type": "execute_result"
    }
   ],
   "source": [
    "layer.inital_state"
   ]
  },
  {
   "cell_type": "markdown",
   "metadata": {},
   "source": [
    "so, lets look at the outputs. The output of the stackedLSTM comes from 128 hidden_layer, and in each time step(=20), one of them get activated. we use the linear activation to map the 128 hidden layer to a [30X20 matrix]\n"
   ]
  },
  {
   "cell_type": "code",
   "execution_count": 24,
   "metadata": {},
   "outputs": [],
   "source": [
    "outputs = layer(inputs)"
   ]
  },
  {
   "cell_type": "code",
   "execution_count": 25,
   "metadata": {},
   "outputs": [
    {
     "data": {
      "text/plain": [
       "<tf.Tensor: shape=(30, 20, 128), dtype=float32, numpy=\n",
       "array([[[ 1.87725032e-04,  6.43461768e-04,  6.82198210e-04, ...,\n",
       "          2.06035984e-04, -3.69227462e-04,  2.17088978e-04],\n",
       "        [ 1.92613996e-04,  1.63303781e-03,  1.17282080e-03, ...,\n",
       "          1.23961433e-03, -1.32877001e-04,  1.22007739e-03],\n",
       "        [-2.56598665e-04,  2.64078937e-03,  1.54651282e-03, ...,\n",
       "          2.46848748e-03,  5.75721315e-05,  2.17546709e-03],\n",
       "        ...,\n",
       "        [-6.67278800e-05,  2.54503801e-03,  5.30598965e-03, ...,\n",
       "         -4.52271942e-03, -2.35600537e-03,  1.51713158e-03],\n",
       "        [-8.17127351e-04,  2.46315473e-03,  5.56330709e-03, ...,\n",
       "         -5.13907522e-03, -1.48189138e-03,  8.03917239e-04],\n",
       "        [-1.19104818e-03,  1.75345177e-03,  5.27079683e-03, ...,\n",
       "         -4.37596813e-03, -1.79996330e-03, -8.12336802e-04]],\n",
       "\n",
       "       [[ 3.73502698e-04, -5.17341658e-04, -1.86476391e-04, ...,\n",
       "         -8.94367713e-06,  1.22389640e-04, -2.79805769e-04],\n",
       "        [-1.08995664e-04, -4.31171618e-04,  1.11407391e-03, ...,\n",
       "         -2.37775996e-04, -9.52923030e-04, -1.21049176e-03],\n",
       "        [ 2.40034278e-04, -1.52091743e-04,  3.22925532e-03, ...,\n",
       "          2.87669449e-04, -3.02602039e-05, -1.31840410e-03],\n",
       "        ...,\n",
       "        [ 1.24596637e-02, -1.82761170e-03,  1.06135698e-03, ...,\n",
       "          2.57062656e-03,  1.36355450e-03,  3.13647976e-03],\n",
       "        [ 1.20183406e-02, -2.39589135e-03,  1.57652528e-03, ...,\n",
       "          1.98410894e-03,  6.60624704e-04,  5.26150409e-03],\n",
       "        [ 1.08161997e-02, -3.29754804e-03,  1.13139860e-03, ...,\n",
       "          1.86288822e-03, -8.00558191e-04,  6.19837409e-03]],\n",
       "\n",
       "       [[ 3.16190650e-04, -5.91488671e-04,  2.62052927e-04, ...,\n",
       "         -7.82520452e-04, -4.99443151e-04, -1.85507626e-04],\n",
       "        [-1.03843061e-03, -2.12745415e-03, -6.39901380e-04, ...,\n",
       "         -3.33345868e-03, -1.22558966e-04, -2.34024104e-04],\n",
       "        [-1.81270239e-03, -3.96480830e-03, -5.79421583e-04, ...,\n",
       "         -3.89075931e-03,  4.49396059e-04, -1.40443211e-03],\n",
       "        ...,\n",
       "        [ 1.01888636e-02,  4.39772150e-03,  3.16933310e-03, ...,\n",
       "         -1.60452339e-03, -8.58039875e-03,  6.66942447e-03],\n",
       "        [ 1.11285066e-02,  4.39930893e-03,  3.03239073e-03, ...,\n",
       "         -2.32757477e-04, -1.11078992e-02,  6.50376454e-03],\n",
       "        [ 1.19238142e-02,  4.69089393e-03,  3.74850747e-03, ...,\n",
       "         -2.34547828e-04, -1.27946669e-02,  6.34308858e-03]],\n",
       "\n",
       "       ...,\n",
       "\n",
       "       [[-6.77845266e-04, -7.11635803e-04,  4.46532067e-04, ...,\n",
       "         -3.35052609e-05,  1.29808451e-03, -5.93437580e-04],\n",
       "        [-1.45381840e-03, -6.67744840e-04,  1.20209507e-03, ...,\n",
       "         -4.47529659e-04,  2.46394426e-03, -4.97372472e-04],\n",
       "        [-3.09033971e-03, -1.95376039e-03,  7.26711121e-04, ...,\n",
       "          1.13885873e-03,  2.40640924e-03, -5.08456724e-04],\n",
       "        ...,\n",
       "        [-1.17948418e-03, -2.17174785e-03,  4.84068738e-03, ...,\n",
       "         -3.25875124e-03, -3.96692939e-03,  7.55668560e-04],\n",
       "        [-1.26489049e-05, -1.24692533e-03,  4.45604185e-03, ...,\n",
       "         -3.13008437e-03, -5.47509268e-03,  1.16942218e-03],\n",
       "        [ 1.22353691e-03, -9.62564736e-05,  3.91384959e-03, ...,\n",
       "         -1.86361442e-03, -6.22557616e-03,  1.69685483e-03]],\n",
       "\n",
       "       [[-6.40814542e-04,  8.93541612e-04,  2.98390572e-04, ...,\n",
       "         -5.23471390e-04, -1.10828238e-04,  5.06114680e-04],\n",
       "        [-9.90474713e-04,  1.68638851e-03, -4.05370920e-05, ...,\n",
       "         -1.47886912e-03, -4.53693181e-04, -1.12367072e-03],\n",
       "        [-1.22843159e-03,  1.32742361e-03,  3.51985218e-04, ...,\n",
       "         -1.56292203e-03, -9.26209686e-05, -2.89436127e-03],\n",
       "        ...,\n",
       "        [ 7.77803268e-03,  3.98004800e-03, -3.76159954e-03, ...,\n",
       "         -5.58363274e-03,  3.77858244e-03,  1.31715648e-03],\n",
       "        [ 6.95854612e-03,  4.80620284e-03, -1.91564264e-03, ...,\n",
       "         -6.12055557e-03,  1.29347260e-03,  9.70173642e-05],\n",
       "        [ 6.19412120e-03,  5.62106492e-03, -1.71202607e-03, ...,\n",
       "         -6.10357523e-03, -5.77436935e-04, -1.30554754e-03]],\n",
       "\n",
       "       [[-1.06469284e-04,  5.21937036e-04, -8.56927014e-04, ...,\n",
       "          1.80159637e-03,  1.70969201e-04,  9.36367724e-05],\n",
       "        [ 1.12954331e-04,  6.40058483e-04, -6.07193680e-04, ...,\n",
       "          3.23516037e-03, -2.42108305e-04,  1.36038696e-03],\n",
       "        [ 6.00711966e-04,  7.12741923e-04,  5.99587685e-04, ...,\n",
       "          3.73323332e-03, -1.38626806e-03,  2.29082629e-03],\n",
       "        ...,\n",
       "        [ 6.46495633e-03,  1.26586575e-03,  6.42315205e-03, ...,\n",
       "         -6.95744762e-03, -6.81494456e-03,  4.32838174e-03],\n",
       "        [ 6.32161973e-03,  4.06209962e-04,  5.66329248e-03, ...,\n",
       "         -7.81283900e-03, -6.73169130e-03,  4.11051512e-03],\n",
       "        [ 5.08965272e-03, -1.21064205e-03,  3.25603480e-03, ...,\n",
       "         -8.71504936e-03, -5.28267585e-03,  2.62206700e-03]]],\n",
       "      dtype=float32)>"
      ]
     },
     "execution_count": 25,
     "metadata": {},
     "output_type": "execute_result"
    }
   ],
   "source": [
    "outputs"
   ]
  },
  {
   "cell_type": "markdown",
   "metadata": {
    "button": false,
    "deletable": true,
    "new_sheet": false,
    "run_control": {
     "read_only": false
    }
   },
   "source": [
    "<h2>Dense layer</h2>\n",
    "We now create densely-connected neural network layer that would reshape the outputs tensor from  [30 x 20 x 128] to [30 x 20 x 10000].\n"
   ]
  },
  {
   "cell_type": "code",
   "execution_count": 26,
   "metadata": {},
   "outputs": [],
   "source": [
    "dense = tf.keras.layers.Dense(vocab_size)"
   ]
  },
  {
   "cell_type": "code",
   "execution_count": 27,
   "metadata": {},
   "outputs": [],
   "source": [
    "logits_outputs  = dense(outputs)"
   ]
  },
  {
   "cell_type": "code",
   "execution_count": 28,
   "metadata": {},
   "outputs": [
    {
     "name": "stdout",
     "output_type": "stream",
     "text": [
      "shape of the output from dense layer:  (30, 20, 10000)\n"
     ]
    }
   ],
   "source": [
    "print(\"shape of the output from dense layer: \", logits_outputs.shape) #(batch_size, sequence_length, vocab_size)"
   ]
  },
  {
   "cell_type": "markdown",
   "metadata": {},
   "source": [
    "<h2>Activation layer</h2>\n",
    "\n",
    "A softmax activation layers is also then applied to derive the probability of the output being in any of the multiclass(10000 in this case) possibilities. \n"
   ]
  },
  {
   "cell_type": "code",
   "execution_count": 29,
   "metadata": {},
   "outputs": [],
   "source": [
    "activation = tf.keras.layers.Activation('softmax')"
   ]
  },
  {
   "cell_type": "code",
   "execution_count": 30,
   "metadata": {},
   "outputs": [],
   "source": [
    "output_words_prob = activation(logits_outputs)"
   ]
  },
  {
   "cell_type": "code",
   "execution_count": 31,
   "metadata": {},
   "outputs": [
    {
     "name": "stdout",
     "output_type": "stream",
     "text": [
      "shape of the output from the activation layer:  (30, 20, 10000)\n"
     ]
    }
   ],
   "source": [
    "print(\"shape of the output from the activation layer: \", output_words_prob.shape) #(batch_size, sequence_length, vocab_size)"
   ]
  },
  {
   "cell_type": "markdown",
   "metadata": {},
   "source": [
    "Lets look at the probability of observing words for t=0 to t=20:\n"
   ]
  },
  {
   "cell_type": "code",
   "execution_count": 32,
   "metadata": {},
   "outputs": [
    {
     "name": "stdout",
     "output_type": "stream",
     "text": [
      "The probability of observing words in t=0 to t=20 tf.Tensor(\n",
      "[[1.00007142e-04 9.99994736e-05 9.99947079e-05 ... 9.99918484e-05\n",
      "  9.99942131e-05 9.99911063e-05]\n",
      " [9.99984477e-05 1.00018027e-04 1.00003308e-04 ... 9.99779659e-05\n",
      "  9.99937984e-05 9.99813055e-05]\n",
      " [1.00003614e-04 1.00008445e-04 1.00001460e-04 ... 9.99727708e-05\n",
      "  1.00000463e-04 9.99714248e-05]\n",
      " ...\n",
      " [1.00015204e-04 1.00029858e-04 9.98494434e-05 ... 9.99274926e-05\n",
      "  1.00009369e-04 9.99780750e-05]\n",
      " [1.00011457e-04 1.00029931e-04 9.98693358e-05 ... 9.99288241e-05\n",
      "  1.00010002e-04 9.99872209e-05]\n",
      " [1.00014186e-04 1.00033802e-04 9.98949690e-05 ... 9.99526746e-05\n",
      "  9.99947006e-05 1.00007761e-04]], shape=(20, 10000), dtype=float32)\n"
     ]
    }
   ],
   "source": [
    "print(\"The probability of observing words in t=0 to t=20\", output_words_prob[0,0:num_steps])"
   ]
  },
  {
   "cell_type": "markdown",
   "metadata": {
    "button": false,
    "deletable": true,
    "new_sheet": false,
    "run_control": {
     "read_only": false
    }
   },
   "source": [
    "<h3>Prediction</h3>\n",
    "What is the word correspond to the probability output? Lets use the maximum probability:\n"
   ]
  },
  {
   "cell_type": "code",
   "execution_count": 33,
   "metadata": {},
   "outputs": [
    {
     "data": {
      "text/plain": [
       "array([3176, 1021,  803,  803, 3984, 3984, 3984, 7435, 7435, 7435, 7435,\n",
       "       5519, 5519, 5519, 9244, 9244, 9244, 8964, 8964, 8964])"
      ]
     },
     "execution_count": 33,
     "metadata": {},
     "output_type": "execute_result"
    }
   ],
   "source": [
    "np.argmax(output_words_prob[0,0:num_steps], axis=1)"
   ]
  },
  {
   "cell_type": "markdown",
   "metadata": {
    "button": false,
    "deletable": true,
    "new_sheet": false,
    "run_control": {
     "read_only": false
    }
   },
   "source": [
    "So, what is the ground truth for the first word of first sentence? You can get it from target tensor, if you want to find the embedding vector: \n"
   ]
  },
  {
   "cell_type": "code",
   "execution_count": 34,
   "metadata": {
    "button": false,
    "deletable": true,
    "new_sheet": false,
    "run_control": {
     "read_only": false
    }
   },
   "outputs": [
    {
     "data": {
      "text/plain": [
       "array([9971, 9972, 9974, 9975, 9976, 9980, 9981, 9982, 9983, 9984, 9986,\n",
       "       9987, 9988, 9989, 9991, 9992, 9993, 9994, 9995, 9996], dtype=int32)"
      ]
     },
     "execution_count": 34,
     "metadata": {},
     "output_type": "execute_result"
    }
   ],
   "source": [
    "_targets[0]"
   ]
  },
  {
   "cell_type": "markdown",
   "metadata": {
    "button": false,
    "new_sheet": false,
    "run_control": {
     "read_only": false
    }
   },
   "source": [
    "<h4>Objective function</h4>\n",
    "\n",
    "How similar the predicted words are to the target words?\n",
    "\n",
    "Now we have to define our objective function, to calculate the similarity of predicted values to ground truth, and then, penalize the model with the error. Our objective is to minimize loss function, that is, to minimize the average negative log probability of the target words:\n",
    "\n",
    "$$\\\\text{loss} = -\\\\frac{1}{N}\\\\sum_{i=1}^{N} \\\\ln p_{\\\\text{target}\\_i}$$\n",
    "\n",
    "This function is already implemented and available in TensorFlow through _tf.keras.losses.sparse_categorical_crossentropy_. It calculates the categorical cross-entropy loss for <b>logits</b> and the <b>target</b> sequence.  \n",
    "\n",
    "The arguments of this function are:  \n",
    "\n",
    "<ul>\n",
    "    <li>logits: List of 2D Tensors of shape [batch_size x num_decoder_symbols].</li>  \n",
    "    <li>targets: List of 1D batch-sized int32 Tensors of the same length as logits.</li>   \n",
    "</ul>\n"
   ]
  },
  {
   "cell_type": "code",
   "execution_count": 35,
   "metadata": {},
   "outputs": [],
   "source": [
    "def crossentropy(y_true, y_pred):\n",
    "    return tf.keras.losses.sparse_categorical_crossentropy(y_true, y_pred)"
   ]
  },
  {
   "cell_type": "code",
   "execution_count": 36,
   "metadata": {},
   "outputs": [],
   "source": [
    "loss  = crossentropy(_targets, output_words_prob)"
   ]
  },
  {
   "cell_type": "markdown",
   "metadata": {
    "button": false,
    "new_sheet": false,
    "run_control": {
     "read_only": false
    }
   },
   "source": [
    "Lets look at the first 10 values of loss:\n"
   ]
  },
  {
   "cell_type": "code",
   "execution_count": 37,
   "metadata": {},
   "outputs": [
    {
     "data": {
      "text/plain": [
       "<tf.Tensor: shape=(10,), dtype=float32, numpy=\n",
       "array([9.210619 , 9.210488 , 9.210169 , 9.21013  , 9.210812 , 9.210404 ,\n",
       "       9.2097225, 9.2106495, 9.209877 , 9.210664 ], dtype=float32)>"
      ]
     },
     "execution_count": 37,
     "metadata": {},
     "output_type": "execute_result"
    }
   ],
   "source": [
    "loss[0,:10]"
   ]
  },
  {
   "cell_type": "markdown",
   "metadata": {},
   "source": [
    "Now, we define cost as average of the losses:\n"
   ]
  },
  {
   "cell_type": "code",
   "execution_count": 38,
   "metadata": {},
   "outputs": [
    {
     "data": {
      "text/plain": [
       "<tf.Tensor: shape=(), dtype=float32, numpy=184.20636>"
      ]
     },
     "execution_count": 38,
     "metadata": {},
     "output_type": "execute_result"
    }
   ],
   "source": [
    "cost = tf.reduce_sum(loss / batch_size)\n",
    "cost"
   ]
  },
  {
   "cell_type": "markdown",
   "metadata": {
    "button": false,
    "deletable": true,
    "new_sheet": false,
    "run_control": {
     "read_only": false
    }
   },
   "source": [
    "<h3>Training</h3>\n",
    "\n",
    "To do training for our network, we have to take the following steps:\n",
    "\n",
    "<ol>\n",
    "    <li>Define the optimizer.</li>\n",
    "    <li>Assemble layers to build model.</li>\n",
    "    <li>Calculate the gradients based on the loss function.</li>\n",
    "    <li>Apply the optimizer to the variables/gradients tuple.</li>\n",
    "</ol>\n"
   ]
  },
  {
   "cell_type": "markdown",
   "metadata": {
    "button": false,
    "deletable": true,
    "new_sheet": false,
    "run_control": {
     "read_only": false
    }
   },
   "source": [
    "<h4>1. Define Optimizer</h4>\n"
   ]
  },
  {
   "cell_type": "code",
   "execution_count": 39,
   "metadata": {},
   "outputs": [],
   "source": [
    "# Create a variable for the learning rate\n",
    "lr = tf.Variable(0.0, trainable=False)\n",
    "optimizer = tf.keras.optimizers.SGD(lr=lr, clipnorm=max_grad_norm)"
   ]
  },
  {
   "cell_type": "markdown",
   "metadata": {},
   "source": [
    "<h4>2. Assemble layers to build model.</h4>\n"
   ]
  },
  {
   "cell_type": "code",
   "execution_count": 40,
   "metadata": {},
   "outputs": [
    {
     "name": "stdout",
     "output_type": "stream",
     "text": [
      "Model: \"sequential\"\n",
      "_________________________________________________________________\n",
      "Layer (type)                 Output Shape              Param #   \n",
      "=================================================================\n",
      "embedding_vocab (Embedding)  (30, 20, 200)             2000000   \n",
      "_________________________________________________________________\n",
      "rnn (RNN)                    (30, 20, 128)             671088    \n",
      "_________________________________________________________________\n",
      "dense (Dense)                (30, 20, 10000)           1290000   \n",
      "_________________________________________________________________\n",
      "activation (Activation)      (30, 20, 10000)           0         \n",
      "=================================================================\n",
      "Total params: 3,961,088\n",
      "Trainable params: 3,955,088\n",
      "Non-trainable params: 6,000\n",
      "_________________________________________________________________\n"
     ]
    }
   ],
   "source": [
    "model = tf.keras.Sequential()\n",
    "model.add(embedding_layer)\n",
    "model.add(layer)\n",
    "model.add(dense)\n",
    "model.add(activation)\n",
    "model.compile(loss=crossentropy, optimizer=optimizer)\n",
    "model.summary()"
   ]
  },
  {
   "cell_type": "markdown",
   "metadata": {
    "button": false,
    "new_sheet": false,
    "run_control": {
     "read_only": false
    }
   },
   "source": [
    "<h4>2. Trainable Variables</h4>\n"
   ]
  },
  {
   "cell_type": "markdown",
   "metadata": {
    "button": false,
    "new_sheet": false,
    "run_control": {
     "read_only": false
    }
   },
   "source": [
    "Defining a variable, if you passed <i>trainable=True</i>, the variable constructor automatically adds new variables to the graph collection <b>GraphKeys.TRAINABLE_VARIABLES</b>. Now, using <i>tf.trainable_variables()</i> you can get all variables created with <b>trainable=True</b>.\n"
   ]
  },
  {
   "cell_type": "code",
   "execution_count": 41,
   "metadata": {
    "button": false,
    "new_sheet": false,
    "run_control": {
     "read_only": false
    }
   },
   "outputs": [],
   "source": [
    "# Get all TensorFlow variables marked as \"trainable\" (i.e. all of them except _lr, which we just created)\n",
    "tvars = model.trainable_variables"
   ]
  },
  {
   "cell_type": "markdown",
   "metadata": {
    "button": false,
    "new_sheet": false,
    "run_control": {
     "read_only": false
    }
   },
   "source": [
    "Note: we can find the name and scope of all variables:\n"
   ]
  },
  {
   "cell_type": "code",
   "execution_count": 42,
   "metadata": {
    "button": false,
    "new_sheet": false,
    "run_control": {
     "read_only": false
    }
   },
   "outputs": [
    {
     "data": {
      "text/plain": [
       "['embedding_vocab/embeddings:0',\n",
       " 'rnn/stacked_rnn_cells/lstm_cell/kernel:0',\n",
       " 'rnn/stacked_rnn_cells/lstm_cell/recurrent_kernel:0',\n",
       " 'rnn/stacked_rnn_cells/lstm_cell/bias:0',\n",
       " 'rnn/stacked_rnn_cells/lstm_cell_1/kernel:0',\n",
       " 'rnn/stacked_rnn_cells/lstm_cell_1/recurrent_kernel:0',\n",
       " 'rnn/stacked_rnn_cells/lstm_cell_1/bias:0',\n",
       " 'dense/kernel:0',\n",
       " 'dense/bias:0']"
      ]
     },
     "execution_count": 42,
     "metadata": {},
     "output_type": "execute_result"
    }
   ],
   "source": [
    "[v.name for v in tvars] "
   ]
  },
  {
   "cell_type": "markdown",
   "metadata": {
    "button": false,
    "new_sheet": false,
    "run_control": {
     "read_only": false
    }
   },
   "source": [
    "<h4>3. Calculate the gradients based on the loss function</h4>\n"
   ]
  },
  {
   "cell_type": "markdown",
   "metadata": {
    "button": false,
    "deletable": true,
    "new_sheet": false,
    "run_control": {
     "read_only": false
    }
   },
   "source": [
    "**Gradient**: The gradient of a function is the slope of its derivative (line), or in other words, the rate of change of a function. It's a vector (a direction to move) that points in the direction of greatest increase of the function, and calculated by the <b>derivative</b> operation.\n"
   ]
  },
  {
   "cell_type": "markdown",
   "metadata": {},
   "source": [
    "First lets recall the gradient function using an toy example:\n",
    "$$ z = \\\\left(2x^2 + 3xy\\\\right)$$\n"
   ]
  },
  {
   "cell_type": "code",
   "execution_count": 43,
   "metadata": {},
   "outputs": [],
   "source": [
    "x = tf.constant(1.0)\n",
    "y =  tf.constant(2.0)\n",
    "with tf.GradientTape(persistent=True) as g:\n",
    "    g.watch(x)\n",
    "    g.watch(y)\n",
    "    func_test = 2 * x * x + 3 * x * y"
   ]
  },
  {
   "cell_type": "markdown",
   "metadata": {},
   "source": [
    "The <b>tf.gradients()</b> function allows you to compute the symbolic gradient of one tensor with respect to one or more other tensors—including variables. <b>tf.gradients(func, xs)</b> constructs symbolic partial derivatives of sum of <b>func</b> w.r.t. <i>x</i> in <b>xs</b>. \n",
    "\n",
    "Now, lets look at the derivitive w.r.t. <b>var_x</b>:\n",
    "$$ \\\\frac{\\\\partial \\\\:}{\\\\partial \\\\:x}\\\\left(2x^2 + 3xy\\\\right) = 4x + 3y $$\n"
   ]
  },
  {
   "cell_type": "code",
   "execution_count": 44,
   "metadata": {},
   "outputs": [
    {
     "name": "stdout",
     "output_type": "stream",
     "text": [
      "tf.Tensor(10.0, shape=(), dtype=float32)\n"
     ]
    }
   ],
   "source": [
    "var_grad = g.gradient(func_test, x) # Will compute to 10.0\n",
    "print(var_grad)"
   ]
  },
  {
   "cell_type": "markdown",
   "metadata": {},
   "source": [
    "the derivative w.r.t. <b>var_y</b>:\n",
    "$$ \\\\frac{\\\\partial \\\\:}{\\\\partial \\\\:y}\\\\left(2x^2 + 3xy\\\\right) = 3x $$\n"
   ]
  },
  {
   "cell_type": "code",
   "execution_count": 45,
   "metadata": {},
   "outputs": [
    {
     "name": "stdout",
     "output_type": "stream",
     "text": [
      "tf.Tensor(3.0, shape=(), dtype=float32)\n"
     ]
    }
   ],
   "source": [
    "var_grad = g.gradient(func_test, y) # Will compute to 3.0\n",
    "print(var_grad)"
   ]
  },
  {
   "cell_type": "markdown",
   "metadata": {},
   "source": [
    "Now, we can look at gradients w.r.t all variables:\n"
   ]
  },
  {
   "cell_type": "code",
   "execution_count": 46,
   "metadata": {},
   "outputs": [],
   "source": [
    "with tf.GradientTape() as tape:\n",
    "    # Forward pass.\n",
    "    output_words_prob = model(_input_data)\n",
    "    # Loss value for this batch.\n",
    "    loss  = crossentropy(_targets, output_words_prob)\n",
    "    cost = tf.reduce_sum(loss,axis=0) / batch_size"
   ]
  },
  {
   "cell_type": "code",
   "execution_count": 47,
   "metadata": {},
   "outputs": [],
   "source": [
    "# Get gradients of loss wrt the trainable variables.\n",
    "grad_t_list = tape.gradient(cost, tvars)"
   ]
  },
  {
   "cell_type": "code",
   "execution_count": 48,
   "metadata": {},
   "outputs": [
    {
     "name": "stdout",
     "output_type": "stream",
     "text": [
      "[<tensorflow.python.framework.indexed_slices.IndexedSlices object at 0x7f10187522b0>, <tf.Tensor: shape=(200, 1024), dtype=float32, numpy=\n",
      "array([[ 3.4720031e-09, -9.4785031e-07,  5.3645044e-07, ...,\n",
      "         2.6299210e-07,  2.8583901e-07,  2.3592474e-07],\n",
      "       [ 1.3810700e-07,  2.9002575e-07,  3.2701843e-07, ...,\n",
      "        -3.0466740e-07, -1.2146032e-08,  3.5591808e-07],\n",
      "       [-6.9470792e-07,  6.2644705e-07, -3.5820821e-07, ...,\n",
      "        -2.9092753e-08, -2.0276164e-07,  2.7604679e-07],\n",
      "       ...,\n",
      "       [ 2.5171772e-07, -1.5417604e-06,  9.0431342e-08, ...,\n",
      "        -6.9537592e-08, -4.9160157e-08, -6.0722471e-07],\n",
      "       [-1.7745749e-07, -4.4630872e-07, -5.8400713e-07, ...,\n",
      "         2.0050545e-07, -2.1670479e-07,  6.5986185e-08],\n",
      "       [-2.1289915e-07,  1.7209737e-07,  2.0938369e-07, ...,\n",
      "         8.6608009e-07,  7.0968696e-08, -1.2593470e-07]], dtype=float32)>, <tf.Tensor: shape=(256, 1024), dtype=float32, numpy=\n",
      "array([[ 2.1975909e-08, -8.0270155e-09, -1.3613590e-08, ...,\n",
      "        -2.6955993e-09,  3.4893255e-08,  7.4955949e-08],\n",
      "       [-8.1747672e-08, -7.3603047e-08,  1.7180253e-07, ...,\n",
      "        -1.3941373e-07, -1.0926422e-07,  2.3856470e-07],\n",
      "       [ 1.0630114e-08, -7.1754286e-08, -2.0192516e-08, ...,\n",
      "        -1.6574184e-08, -1.4960943e-07,  7.0487090e-08],\n",
      "       ...,\n",
      "       [-7.6021763e-08, -1.7187946e-07, -2.0035767e-08, ...,\n",
      "        -1.3932494e-07, -1.5926190e-07, -1.2108401e-07],\n",
      "       [-2.1186196e-08,  5.5287384e-08,  1.2347958e-07, ...,\n",
      "         1.6058879e-08,  2.3986878e-08, -1.1011224e-07],\n",
      "       [ 9.0194092e-09, -8.8252627e-08, -2.6834101e-08, ...,\n",
      "         7.5380910e-08,  5.8157489e-08, -3.9041461e-07]], dtype=float32)>, <tf.Tensor: shape=(1024,), dtype=float32, numpy=\n",
      "array([ 3.0935835e-06,  1.8517494e-05, -1.8166271e-05, ...,\n",
      "        2.1104948e-05,  1.5248401e-05, -2.6624695e-05], dtype=float32)>, <tf.Tensor: shape=(256, 512), dtype=float32, numpy=\n",
      "array([[-9.0841574e-08,  7.3702267e-08, -1.6647998e-07, ...,\n",
      "        -1.0250180e-07,  1.4738029e-07, -1.4053168e-07],\n",
      "       [-2.4295272e-07,  1.8616136e-07,  2.2354403e-08, ...,\n",
      "        -3.0439918e-07,  3.3049048e-08,  1.9176952e-07],\n",
      "       [-1.8218540e-07,  1.4385354e-07,  7.4807360e-09, ...,\n",
      "        -2.0994416e-07,  2.7918429e-07,  1.1705095e-07],\n",
      "       ...,\n",
      "       [-1.3104570e-07, -3.8393175e-08,  8.3893006e-08, ...,\n",
      "        -6.0073432e-08,  4.8089916e-08, -2.3419307e-08],\n",
      "       [-8.7517300e-09,  2.1936835e-08, -9.1344361e-08, ...,\n",
      "         2.6225447e-07, -8.8037226e-08,  2.9205253e-08],\n",
      "       [-1.4378625e-07, -4.5688083e-08,  6.2361480e-08, ...,\n",
      "        -1.8187487e-07,  2.8264344e-07, -2.1355117e-07]], dtype=float32)>, <tf.Tensor: shape=(128, 512), dtype=float32, numpy=\n",
      "array([[ 3.4875873e-07, -4.9087497e-08,  2.6333304e-08, ...,\n",
      "         4.0758067e-08, -3.3554494e-07, -3.3297532e-08],\n",
      "       [ 1.2792367e-08, -1.3481407e-07, -5.5844115e-08, ...,\n",
      "        -1.0910050e-07, -3.0059357e-07,  2.3256849e-08],\n",
      "       [ 7.7521541e-08, -6.5224537e-09, -9.6302017e-08, ...,\n",
      "        -5.4519965e-08, -5.0767749e-08, -3.7597459e-08],\n",
      "       ...,\n",
      "       [ 1.0098824e-08,  1.6955471e-07, -1.7194070e-08, ...,\n",
      "         1.6413310e-07, -2.1356044e-07, -8.7259551e-09],\n",
      "       [-1.4246018e-07,  1.0442506e-07, -7.6848735e-08, ...,\n",
      "        -1.2065392e-07,  8.5816328e-07,  8.8197865e-08],\n",
      "       [-1.2939971e-08, -3.2118425e-08, -1.7336728e-08, ...,\n",
      "        -1.5885664e-08, -7.0585472e-08, -2.0200973e-07]], dtype=float32)>, <tf.Tensor: shape=(512,), dtype=float32, numpy=\n",
      "array([ 1.54994068e-05, -9.27987276e-06,  5.49315973e-06,  3.27940288e-05,\n",
      "       -7.86770033e-06,  5.51511766e-05, -1.90507344e-05,  1.67499857e-05,\n",
      "        3.24068533e-05,  2.02558804e-05,  3.42283238e-05,  3.18171842e-05,\n",
      "        2.28774879e-05, -6.42826035e-06, -1.46441580e-05, -1.98858670e-05,\n",
      "        7.54175107e-06, -4.89921804e-05, -4.67811115e-05,  3.35869045e-05,\n",
      "       -1.20412797e-05, -4.64011464e-05, -4.28853382e-05, -3.29804352e-05,\n",
      "        1.33024987e-05,  2.17825764e-05,  4.42550736e-05, -3.39505459e-05,\n",
      "        1.45659551e-05, -4.32517263e-05,  1.23066311e-05,  9.38810899e-06,\n",
      "        1.56842452e-05,  2.65798353e-05,  1.25712268e-06,  1.06922607e-05,\n",
      "        4.00104800e-05,  4.39222677e-05, -5.22835944e-05, -7.98475448e-05,\n",
      "       -9.32495823e-07, -5.84438130e-05,  3.37045858e-05, -2.82411747e-07,\n",
      "        6.77865728e-06,  2.23874795e-05,  3.17701633e-05, -1.05653180e-05,\n",
      "        2.14209249e-05, -3.86822103e-05, -8.91962191e-06, -1.93856176e-05,\n",
      "        6.18101240e-06, -3.36149169e-05, -4.66639831e-05,  5.47807431e-05,\n",
      "       -1.22459660e-05, -5.21431066e-05,  1.11792178e-05, -6.10702773e-05,\n",
      "        7.53886416e-05, -8.55559756e-06, -1.28317202e-04, -6.76417403e-05,\n",
      "       -1.92928328e-05, -5.08583526e-06, -1.20326113e-04,  2.15387499e-05,\n",
      "       -1.78234823e-05,  1.26216662e-04,  5.42684465e-05,  5.95701567e-05,\n",
      "        1.69717514e-05,  2.72702327e-05, -3.35539517e-05,  4.00019871e-07,\n",
      "       -8.19157067e-05,  9.38720677e-06,  1.74336083e-06,  3.61247157e-06,\n",
      "       -2.34942854e-05,  2.64362316e-05,  2.70148048e-05,  1.64273952e-05,\n",
      "        4.41603261e-05,  5.12618590e-06, -2.08157180e-05,  2.57863412e-05,\n",
      "        2.31664599e-05,  4.33471314e-06, -1.69878422e-05,  2.76610317e-05,\n",
      "        7.65100267e-05,  6.25789926e-06,  4.93093430e-05, -2.26069023e-05,\n",
      "        6.04391789e-05, -4.52164240e-05,  2.41866073e-05,  4.09752465e-06,\n",
      "       -1.73252593e-05,  3.20906861e-06,  2.42105652e-05,  1.06119332e-05,\n",
      "        4.37875533e-05, -2.66353745e-05, -1.56367933e-05,  4.70792747e-06,\n",
      "        1.19127171e-05,  7.64467695e-05, -2.68734002e-05,  2.60991528e-05,\n",
      "        2.75243310e-05, -9.28137160e-06,  1.53402943e-05, -6.71543421e-06,\n",
      "       -9.13930344e-05,  4.65129924e-05, -5.95108722e-05,  1.06406587e-04,\n",
      "       -1.30174158e-05, -7.75664375e-07, -1.53421366e-04,  1.44468167e-05,\n",
      "        7.20632033e-06,  4.40061449e-05,  8.94605000e-06,  2.61080959e-06,\n",
      "        2.41815869e-05, -5.90275704e-08, -9.58088185e-06,  1.02404993e-04,\n",
      "       -9.57695374e-06,  6.58750141e-05, -3.15504622e-05,  2.59222325e-05,\n",
      "        3.37689744e-05,  1.83068551e-05,  4.61166201e-05,  4.43985700e-05,\n",
      "        4.65943413e-05, -9.49726837e-06, -1.72193540e-05, -3.02344888e-05,\n",
      "        1.58446637e-05, -6.71455055e-05, -5.69986805e-05,  6.52970557e-05,\n",
      "       -1.13363512e-05, -4.88920450e-05, -4.93394691e-05, -5.73816142e-05,\n",
      "        1.07626583e-05,  5.60984299e-05,  5.86517745e-05, -3.12855846e-05,\n",
      "        2.92915247e-05, -5.29915342e-05,  9.45281317e-06,  5.39934808e-06,\n",
      "        9.75489911e-06,  3.77356337e-05,  5.60455919e-06,  1.31231873e-05,\n",
      "        5.20372196e-05,  4.56944763e-05, -4.90890743e-05, -9.87316307e-05,\n",
      "        2.36277556e-05, -9.43721898e-05,  8.60041328e-05, -8.63310379e-06,\n",
      "        1.56982169e-05,  2.62886369e-05,  1.97190657e-05, -2.84581311e-05,\n",
      "        2.78977022e-05, -3.96741743e-05,  1.26847117e-05, -1.71875654e-05,\n",
      "       -2.13035401e-05, -4.31151457e-05, -6.37646008e-05,  8.21001522e-05,\n",
      "        1.83369248e-05, -1.98054640e-05,  1.87600963e-05, -8.68134157e-05,\n",
      "        1.19275617e-04, -1.42910721e-06, -1.69703126e-04, -1.03038859e-04,\n",
      "       -2.07135126e-05, -2.05048455e-05, -1.58457551e-04,  2.80217791e-05,\n",
      "       -2.98297728e-05,  1.53302681e-04,  5.48834178e-05,  7.23865815e-05,\n",
      "        3.86546089e-05,  2.79970100e-05, -7.63078424e-05,  7.76165507e-06,\n",
      "       -1.15516974e-04,  2.69409793e-05, -1.03215189e-05, -3.28216356e-06,\n",
      "       -2.23606239e-05,  2.76049450e-05,  1.54512854e-05,  2.39103229e-05,\n",
      "        4.04213606e-05, -4.36394112e-06, -2.73029291e-05,  3.01006676e-05,\n",
      "        1.65855708e-05,  1.44542300e-05, -5.07375989e-05, -3.11850727e-07,\n",
      "        7.87908430e-05, -1.16064402e-05,  6.78636134e-05, -3.49829024e-05,\n",
      "        7.00728051e-05, -4.65643461e-05,  3.13020682e-05,  1.40481143e-05,\n",
      "       -3.53916512e-05, -2.03197742e-05,  3.60750118e-06,  9.55586529e-06,\n",
      "        4.75266716e-05, -3.17853555e-05, -1.79502749e-05, -4.29138527e-06,\n",
      "        2.29494963e-05,  1.12062218e-04, -5.16499640e-05,  2.25668773e-05,\n",
      "        3.45635344e-05, -2.16528988e-05,  3.71730603e-05, -3.01767468e-05,\n",
      "       -1.42872756e-04,  5.91672215e-05, -8.61435401e-05,  1.69020524e-04,\n",
      "       -7.92618175e-06, -1.92978441e-05, -2.10429193e-04,  6.16856687e-06,\n",
      "       -1.75638925e-05,  6.93491165e-05, -2.30755431e-05, -1.82236217e-05,\n",
      "        4.64022756e-02, -1.76004153e-02, -4.75562643e-03,  4.37184609e-02,\n",
      "       -4.70074043e-02, -1.94024127e-02,  6.60195015e-04,  1.47777442e-02,\n",
      "        6.98765507e-03,  1.94066837e-02, -1.42509602e-02,  1.10588036e-02,\n",
      "        4.91864607e-02, -1.30594689e-02,  3.78737114e-02,  2.12395862e-02,\n",
      "       -2.27053254e-03,  2.64291670e-02,  3.02236658e-02, -2.96539124e-02,\n",
      "       -2.16472112e-02,  3.23429108e-02, -3.13537866e-02, -4.15249467e-02,\n",
      "       -1.06303459e-02,  3.34937759e-02, -3.57486978e-02,  2.63992399e-02,\n",
      "        3.57079804e-02,  4.32703309e-02, -2.54751574e-02, -1.45194912e-02,\n",
      "       -7.54806399e-03, -4.16427664e-03,  3.85075947e-03,  3.33702043e-02,\n",
      "        2.16090158e-02,  5.02463654e-02, -9.27050225e-03, -4.39731106e-02,\n",
      "        2.13246159e-02,  6.34579584e-02,  5.69600314e-02, -4.65001957e-03,\n",
      "       -1.31397974e-02,  3.58032882e-02,  4.19539260e-03, -3.24887857e-02,\n",
      "       -3.97643223e-02,  5.07462248e-02,  4.14953046e-02, -1.34442747e-02,\n",
      "       -1.58442892e-02, -3.39898542e-02, -3.44787389e-02, -2.48977467e-02,\n",
      "       -3.03804385e-03,  2.57013254e-02,  1.54264900e-03, -3.00691966e-02,\n",
      "        5.28306663e-02, -1.47604514e-02,  5.62125854e-02,  5.50858006e-02,\n",
      "        1.20231230e-02, -6.00029528e-03,  3.94938141e-02,  1.38605358e-02,\n",
      "        5.16561419e-03,  5.56016155e-02, -2.44413484e-02,  1.92151293e-02,\n",
      "        1.26533695e-02,  1.38613461e-02, -3.32093164e-02, -1.29768308e-02,\n",
      "       -4.41564173e-02,  3.39313224e-02, -1.88280046e-02,  4.98613901e-03,\n",
      "        2.36673206e-02,  2.85044499e-02,  4.87985983e-02,  3.87711748e-02,\n",
      "        2.14355700e-02,  1.10904295e-02, -2.36351583e-02,  1.51235443e-02,\n",
      "        2.66652089e-03, -3.26571688e-02, -3.96109447e-02,  2.74351034e-02,\n",
      "        5.18835988e-03, -3.83439846e-02, -6.57118857e-02, -6.99954405e-02,\n",
      "       -4.25527841e-02, -4.91503552e-02,  3.01190857e-02,  4.03555781e-02,\n",
      "        4.06383127e-02,  7.44236633e-04,  2.85385605e-02, -1.05652232e-02,\n",
      "        6.00441843e-02, -9.23564006e-03,  1.01297805e-02, -2.60916036e-02,\n",
      "       -2.25310400e-02, -3.81668694e-02,  1.44702876e-02,  1.90615375e-03,\n",
      "        2.44231429e-04, -7.86755700e-03, -1.88305788e-02, -6.82077603e-03,\n",
      "       -5.36433831e-02, -2.50866525e-02,  2.28096377e-02, -4.64642122e-02,\n",
      "       -1.19032618e-02, -1.82667840e-02,  5.19555956e-02, -2.75986269e-02,\n",
      "       -2.47447472e-02,  1.16040464e-02,  4.70733345e-02, -2.54706778e-02,\n",
      "        2.20585825e-05, -5.59864839e-06,  7.48994353e-07,  4.39924261e-05,\n",
      "       -3.16822479e-06,  6.08923365e-05, -2.70928413e-05,  1.42657773e-05,\n",
      "        3.62871324e-05,  1.51276836e-05,  3.17624945e-05,  3.43849606e-05,\n",
      "        3.19266474e-05, -2.77765753e-06, -1.41687724e-05, -1.71429674e-05,\n",
      "        1.07140995e-05, -6.55629337e-05, -5.43189381e-05,  3.11500553e-05,\n",
      "       -1.05428444e-05, -4.44768848e-05, -4.69057632e-05, -4.39104988e-05,\n",
      "        2.42571805e-05,  3.48847534e-05,  4.85471646e-05, -3.28391034e-05,\n",
      "        7.56117606e-06, -4.49974214e-05,  1.24400649e-05, -3.28315400e-06,\n",
      "        2.17353736e-05,  3.33127064e-05, -8.40645589e-06,  2.39907749e-05,\n",
      "        6.15555546e-05,  5.25326323e-05, -5.85254893e-05, -9.12640535e-05,\n",
      "        3.74079173e-06, -6.19414714e-05,  4.04603743e-05,  2.18124751e-06,\n",
      "        5.46439878e-07,  2.37116037e-05,  3.09773750e-05, -6.25610755e-06,\n",
      "        2.20470356e-05, -4.76671994e-05, -1.01554442e-05, -2.53140934e-05,\n",
      "        3.84491796e-06, -3.38549762e-05, -4.12768641e-05,  6.29313217e-05,\n",
      "       -8.25659481e-06, -4.14241767e-05,  1.51774202e-05, -5.52635684e-05,\n",
      "        9.68646491e-05, -8.47220326e-06, -1.51787681e-04, -7.90994018e-05,\n",
      "       -3.09759780e-05, -8.79659819e-06, -1.26330924e-04,  2.61697805e-05,\n",
      "       -2.03460622e-05,  1.46228471e-04,  4.79688388e-05,  6.03881417e-05,\n",
      "        1.98467424e-05,  1.93657979e-05, -4.46685226e-05, -8.03101557e-07,\n",
      "       -9.40292957e-05,  1.56645165e-05,  2.77262825e-06, -2.47355570e-06,\n",
      "       -2.42930419e-05,  3.18866405e-05,  2.45205738e-05,  1.01477926e-05,\n",
      "        5.39124521e-05,  9.38803350e-06, -1.52900975e-05,  2.91725682e-05,\n",
      "        3.08877934e-05,  9.06366949e-06, -2.52632071e-05,  3.72157119e-05,\n",
      "        8.77408966e-05, -4.33180094e-06,  5.25017094e-05, -2.82320798e-05,\n",
      "        6.47325724e-05, -5.43760179e-05,  1.16175233e-05,  8.84692054e-06,\n",
      "       -2.33075916e-05,  1.25375516e-06,  3.10481300e-05,  1.49750786e-05,\n",
      "        3.96838695e-05, -2.50892426e-05, -2.25501790e-05,  8.08061122e-06,\n",
      "        1.74406450e-05,  8.83512912e-05, -4.18255513e-05,  2.78834195e-05,\n",
      "        3.23765380e-05, -5.55996212e-06,  2.03631080e-05, -2.88027750e-05,\n",
      "       -1.03114726e-04,  5.59023465e-05, -6.85801861e-05,  1.28255808e-04,\n",
      "       -5.74370279e-06, -1.27288549e-05, -1.84585704e-04,  1.08922195e-05,\n",
      "        1.76079702e-05,  4.25952312e-05, -5.53303653e-06,  8.48280933e-07],\n",
      "      dtype=float32)>, <tf.Tensor: shape=(128, 10000), dtype=float32, numpy=\n",
      "array([[-5.3727668e-04, -9.4064791e-04, -2.4856848e-04, ...,\n",
      "         2.6038947e-06,  2.6036332e-06,  2.6027269e-06],\n",
      "       [ 4.9670611e-04,  2.9210700e-04,  5.6837650e-04, ...,\n",
      "        -7.9729500e-07, -7.9778715e-07, -7.9620878e-07],\n",
      "       [-9.0234017e-04, -1.3708535e-03, -2.2200304e-03, ...,\n",
      "         1.7576391e-06,  1.7585572e-06,  1.7559706e-06],\n",
      "       ...,\n",
      "       [-7.9415989e-04,  2.1304982e-04, -5.2137586e-04, ...,\n",
      "         2.8301201e-09,  3.4427927e-09,  4.6117350e-09],\n",
      "       [ 1.4089257e-03,  1.8401039e-03,  9.8234159e-04, ...,\n",
      "        -2.4612391e-06, -2.4607239e-06, -2.4574765e-06],\n",
      "       [-1.9579544e-03, -2.1722151e-03, -6.9593615e-04, ...,\n",
      "         2.4254882e-06,  2.4259748e-06,  2.4227315e-06]], dtype=float32)>, <tf.Tensor: shape=(10000,), dtype=float32, numpy=\n",
      "array([-0.79799795, -1.0313314 , -1.0313315 , ...,  0.00199982,\n",
      "        0.00200019,  0.00199889], dtype=float32)>]\n"
     ]
    }
   ],
   "source": [
    "print(grad_t_list)"
   ]
  },
  {
   "cell_type": "markdown",
   "metadata": {
    "button": false,
    "new_sheet": false,
    "run_control": {
     "read_only": false
    }
   },
   "source": [
    "now, we have a list of tensors, t-list. We can use it to find clipped tensors. <b>clip_by_global_norm</b> clips values of multiple tensors by the ratio of the sum of their norms.\n",
    "\n",
    "<b>clip_by_global_norm</b> get <i>t-list</i> as input and returns 2 things:\n",
    "\n",
    "<ul>\n",
    "    <li>a list of clipped tensors, so called <i>list_clipped</i></li> \n",
    "    <li>the global norm (global_norm) of all tensors in t_list</li> \n",
    "</ul>\n"
   ]
  },
  {
   "cell_type": "code",
   "execution_count": 49,
   "metadata": {},
   "outputs": [
    {
     "data": {
      "text/plain": [
       "[<tensorflow.python.framework.indexed_slices.IndexedSlices at 0x7f10187799b0>,\n",
       " <tf.Tensor: shape=(200, 1024), dtype=float32, numpy=\n",
       " array([[ 3.4720031e-09, -9.4785031e-07,  5.3645044e-07, ...,\n",
       "          2.6299210e-07,  2.8583901e-07,  2.3592474e-07],\n",
       "        [ 1.3810700e-07,  2.9002575e-07,  3.2701843e-07, ...,\n",
       "         -3.0466740e-07, -1.2146032e-08,  3.5591808e-07],\n",
       "        [-6.9470792e-07,  6.2644705e-07, -3.5820821e-07, ...,\n",
       "         -2.9092753e-08, -2.0276164e-07,  2.7604679e-07],\n",
       "        ...,\n",
       "        [ 2.5171772e-07, -1.5417604e-06,  9.0431342e-08, ...,\n",
       "         -6.9537592e-08, -4.9160157e-08, -6.0722471e-07],\n",
       "        [-1.7745749e-07, -4.4630872e-07, -5.8400713e-07, ...,\n",
       "          2.0050545e-07, -2.1670479e-07,  6.5986185e-08],\n",
       "        [-2.1289915e-07,  1.7209737e-07,  2.0938369e-07, ...,\n",
       "          8.6608009e-07,  7.0968696e-08, -1.2593470e-07]], dtype=float32)>,\n",
       " <tf.Tensor: shape=(256, 1024), dtype=float32, numpy=\n",
       " array([[ 2.1975909e-08, -8.0270155e-09, -1.3613590e-08, ...,\n",
       "         -2.6955993e-09,  3.4893255e-08,  7.4955949e-08],\n",
       "        [-8.1747672e-08, -7.3603047e-08,  1.7180253e-07, ...,\n",
       "         -1.3941373e-07, -1.0926422e-07,  2.3856470e-07],\n",
       "        [ 1.0630114e-08, -7.1754286e-08, -2.0192516e-08, ...,\n",
       "         -1.6574184e-08, -1.4960943e-07,  7.0487090e-08],\n",
       "        ...,\n",
       "        [-7.6021763e-08, -1.7187946e-07, -2.0035767e-08, ...,\n",
       "         -1.3932494e-07, -1.5926190e-07, -1.2108401e-07],\n",
       "        [-2.1186196e-08,  5.5287384e-08,  1.2347958e-07, ...,\n",
       "          1.6058879e-08,  2.3986878e-08, -1.1011224e-07],\n",
       "        [ 9.0194092e-09, -8.8252627e-08, -2.6834101e-08, ...,\n",
       "          7.5380910e-08,  5.8157489e-08, -3.9041461e-07]], dtype=float32)>,\n",
       " <tf.Tensor: shape=(1024,), dtype=float32, numpy=\n",
       " array([ 3.0935835e-06,  1.8517494e-05, -1.8166271e-05, ...,\n",
       "         2.1104948e-05,  1.5248401e-05, -2.6624695e-05], dtype=float32)>,\n",
       " <tf.Tensor: shape=(256, 512), dtype=float32, numpy=\n",
       " array([[-9.0841574e-08,  7.3702267e-08, -1.6647998e-07, ...,\n",
       "         -1.0250180e-07,  1.4738029e-07, -1.4053168e-07],\n",
       "        [-2.4295272e-07,  1.8616136e-07,  2.2354403e-08, ...,\n",
       "         -3.0439918e-07,  3.3049048e-08,  1.9176952e-07],\n",
       "        [-1.8218540e-07,  1.4385354e-07,  7.4807360e-09, ...,\n",
       "         -2.0994416e-07,  2.7918429e-07,  1.1705095e-07],\n",
       "        ...,\n",
       "        [-1.3104570e-07, -3.8393175e-08,  8.3893006e-08, ...,\n",
       "         -6.0073432e-08,  4.8089916e-08, -2.3419307e-08],\n",
       "        [-8.7517300e-09,  2.1936835e-08, -9.1344361e-08, ...,\n",
       "          2.6225447e-07, -8.8037226e-08,  2.9205253e-08],\n",
       "        [-1.4378625e-07, -4.5688083e-08,  6.2361480e-08, ...,\n",
       "         -1.8187487e-07,  2.8264344e-07, -2.1355117e-07]], dtype=float32)>,\n",
       " <tf.Tensor: shape=(128, 512), dtype=float32, numpy=\n",
       " array([[ 3.4875873e-07, -4.9087497e-08,  2.6333304e-08, ...,\n",
       "          4.0758067e-08, -3.3554494e-07, -3.3297532e-08],\n",
       "        [ 1.2792367e-08, -1.3481407e-07, -5.5844115e-08, ...,\n",
       "         -1.0910050e-07, -3.0059357e-07,  2.3256849e-08],\n",
       "        [ 7.7521541e-08, -6.5224537e-09, -9.6302017e-08, ...,\n",
       "         -5.4519965e-08, -5.0767749e-08, -3.7597459e-08],\n",
       "        ...,\n",
       "        [ 1.0098824e-08,  1.6955471e-07, -1.7194070e-08, ...,\n",
       "          1.6413310e-07, -2.1356044e-07, -8.7259551e-09],\n",
       "        [-1.4246018e-07,  1.0442506e-07, -7.6848735e-08, ...,\n",
       "         -1.2065392e-07,  8.5816328e-07,  8.8197865e-08],\n",
       "        [-1.2939971e-08, -3.2118425e-08, -1.7336728e-08, ...,\n",
       "         -1.5885664e-08, -7.0585472e-08, -2.0200973e-07]], dtype=float32)>,\n",
       " <tf.Tensor: shape=(512,), dtype=float32, numpy=\n",
       " array([ 1.54994068e-05, -9.27987276e-06,  5.49315973e-06,  3.27940288e-05,\n",
       "        -7.86770033e-06,  5.51511766e-05, -1.90507344e-05,  1.67499857e-05,\n",
       "         3.24068533e-05,  2.02558804e-05,  3.42283238e-05,  3.18171842e-05,\n",
       "         2.28774879e-05, -6.42826035e-06, -1.46441580e-05, -1.98858670e-05,\n",
       "         7.54175107e-06, -4.89921804e-05, -4.67811115e-05,  3.35869045e-05,\n",
       "        -1.20412797e-05, -4.64011464e-05, -4.28853382e-05, -3.29804352e-05,\n",
       "         1.33024987e-05,  2.17825764e-05,  4.42550736e-05, -3.39505459e-05,\n",
       "         1.45659551e-05, -4.32517263e-05,  1.23066311e-05,  9.38810899e-06,\n",
       "         1.56842452e-05,  2.65798353e-05,  1.25712268e-06,  1.06922607e-05,\n",
       "         4.00104800e-05,  4.39222677e-05, -5.22835944e-05, -7.98475448e-05,\n",
       "        -9.32495823e-07, -5.84438130e-05,  3.37045858e-05, -2.82411747e-07,\n",
       "         6.77865728e-06,  2.23874795e-05,  3.17701633e-05, -1.05653180e-05,\n",
       "         2.14209249e-05, -3.86822103e-05, -8.91962191e-06, -1.93856176e-05,\n",
       "         6.18101240e-06, -3.36149169e-05, -4.66639831e-05,  5.47807431e-05,\n",
       "        -1.22459660e-05, -5.21431066e-05,  1.11792178e-05, -6.10702773e-05,\n",
       "         7.53886416e-05, -8.55559756e-06, -1.28317202e-04, -6.76417403e-05,\n",
       "        -1.92928328e-05, -5.08583526e-06, -1.20326113e-04,  2.15387499e-05,\n",
       "        -1.78234823e-05,  1.26216662e-04,  5.42684465e-05,  5.95701567e-05,\n",
       "         1.69717514e-05,  2.72702327e-05, -3.35539517e-05,  4.00019871e-07,\n",
       "        -8.19157067e-05,  9.38720677e-06,  1.74336083e-06,  3.61247157e-06,\n",
       "        -2.34942854e-05,  2.64362316e-05,  2.70148048e-05,  1.64273952e-05,\n",
       "         4.41603261e-05,  5.12618590e-06, -2.08157180e-05,  2.57863412e-05,\n",
       "         2.31664599e-05,  4.33471314e-06, -1.69878422e-05,  2.76610317e-05,\n",
       "         7.65100267e-05,  6.25789926e-06,  4.93093430e-05, -2.26069023e-05,\n",
       "         6.04391789e-05, -4.52164240e-05,  2.41866073e-05,  4.09752465e-06,\n",
       "        -1.73252593e-05,  3.20906861e-06,  2.42105652e-05,  1.06119332e-05,\n",
       "         4.37875533e-05, -2.66353745e-05, -1.56367933e-05,  4.70792747e-06,\n",
       "         1.19127171e-05,  7.64467695e-05, -2.68734002e-05,  2.60991528e-05,\n",
       "         2.75243310e-05, -9.28137160e-06,  1.53402943e-05, -6.71543421e-06,\n",
       "        -9.13930344e-05,  4.65129924e-05, -5.95108722e-05,  1.06406587e-04,\n",
       "        -1.30174158e-05, -7.75664375e-07, -1.53421366e-04,  1.44468167e-05,\n",
       "         7.20632033e-06,  4.40061449e-05,  8.94605000e-06,  2.61080959e-06,\n",
       "         2.41815869e-05, -5.90275704e-08, -9.58088185e-06,  1.02404993e-04,\n",
       "        -9.57695374e-06,  6.58750141e-05, -3.15504622e-05,  2.59222325e-05,\n",
       "         3.37689744e-05,  1.83068551e-05,  4.61166201e-05,  4.43985700e-05,\n",
       "         4.65943413e-05, -9.49726837e-06, -1.72193540e-05, -3.02344888e-05,\n",
       "         1.58446637e-05, -6.71455055e-05, -5.69986805e-05,  6.52970557e-05,\n",
       "        -1.13363512e-05, -4.88920450e-05, -4.93394691e-05, -5.73816142e-05,\n",
       "         1.07626583e-05,  5.60984299e-05,  5.86517745e-05, -3.12855846e-05,\n",
       "         2.92915247e-05, -5.29915342e-05,  9.45281317e-06,  5.39934808e-06,\n",
       "         9.75489911e-06,  3.77356337e-05,  5.60455919e-06,  1.31231873e-05,\n",
       "         5.20372196e-05,  4.56944763e-05, -4.90890743e-05, -9.87316307e-05,\n",
       "         2.36277556e-05, -9.43721898e-05,  8.60041328e-05, -8.63310379e-06,\n",
       "         1.56982169e-05,  2.62886369e-05,  1.97190657e-05, -2.84581311e-05,\n",
       "         2.78977022e-05, -3.96741743e-05,  1.26847117e-05, -1.71875654e-05,\n",
       "        -2.13035401e-05, -4.31151457e-05, -6.37646008e-05,  8.21001522e-05,\n",
       "         1.83369248e-05, -1.98054640e-05,  1.87600963e-05, -8.68134157e-05,\n",
       "         1.19275617e-04, -1.42910721e-06, -1.69703126e-04, -1.03038859e-04,\n",
       "        -2.07135126e-05, -2.05048455e-05, -1.58457551e-04,  2.80217791e-05,\n",
       "        -2.98297728e-05,  1.53302681e-04,  5.48834178e-05,  7.23865815e-05,\n",
       "         3.86546089e-05,  2.79970100e-05, -7.63078424e-05,  7.76165507e-06,\n",
       "        -1.15516974e-04,  2.69409793e-05, -1.03215189e-05, -3.28216356e-06,\n",
       "        -2.23606239e-05,  2.76049450e-05,  1.54512854e-05,  2.39103229e-05,\n",
       "         4.04213606e-05, -4.36394112e-06, -2.73029291e-05,  3.01006676e-05,\n",
       "         1.65855708e-05,  1.44542300e-05, -5.07375989e-05, -3.11850727e-07,\n",
       "         7.87908430e-05, -1.16064402e-05,  6.78636134e-05, -3.49829024e-05,\n",
       "         7.00728051e-05, -4.65643461e-05,  3.13020682e-05,  1.40481143e-05,\n",
       "        -3.53916512e-05, -2.03197742e-05,  3.60750118e-06,  9.55586529e-06,\n",
       "         4.75266716e-05, -3.17853555e-05, -1.79502749e-05, -4.29138527e-06,\n",
       "         2.29494963e-05,  1.12062218e-04, -5.16499640e-05,  2.25668773e-05,\n",
       "         3.45635344e-05, -2.16528988e-05,  3.71730603e-05, -3.01767468e-05,\n",
       "        -1.42872756e-04,  5.91672215e-05, -8.61435401e-05,  1.69020524e-04,\n",
       "        -7.92618175e-06, -1.92978441e-05, -2.10429193e-04,  6.16856687e-06,\n",
       "        -1.75638925e-05,  6.93491165e-05, -2.30755431e-05, -1.82236217e-05,\n",
       "         4.64022756e-02, -1.76004153e-02, -4.75562643e-03,  4.37184609e-02,\n",
       "        -4.70074043e-02, -1.94024127e-02,  6.60195015e-04,  1.47777442e-02,\n",
       "         6.98765507e-03,  1.94066837e-02, -1.42509602e-02,  1.10588036e-02,\n",
       "         4.91864607e-02, -1.30594689e-02,  3.78737114e-02,  2.12395862e-02,\n",
       "        -2.27053254e-03,  2.64291670e-02,  3.02236658e-02, -2.96539124e-02,\n",
       "        -2.16472112e-02,  3.23429108e-02, -3.13537866e-02, -4.15249467e-02,\n",
       "        -1.06303459e-02,  3.34937759e-02, -3.57486978e-02,  2.63992399e-02,\n",
       "         3.57079804e-02,  4.32703309e-02, -2.54751574e-02, -1.45194912e-02,\n",
       "        -7.54806399e-03, -4.16427664e-03,  3.85075947e-03,  3.33702043e-02,\n",
       "         2.16090158e-02,  5.02463654e-02, -9.27050225e-03, -4.39731106e-02,\n",
       "         2.13246159e-02,  6.34579584e-02,  5.69600314e-02, -4.65001957e-03,\n",
       "        -1.31397974e-02,  3.58032882e-02,  4.19539260e-03, -3.24887857e-02,\n",
       "        -3.97643223e-02,  5.07462248e-02,  4.14953046e-02, -1.34442747e-02,\n",
       "        -1.58442892e-02, -3.39898542e-02, -3.44787389e-02, -2.48977467e-02,\n",
       "        -3.03804385e-03,  2.57013254e-02,  1.54264900e-03, -3.00691966e-02,\n",
       "         5.28306663e-02, -1.47604514e-02,  5.62125854e-02,  5.50858006e-02,\n",
       "         1.20231230e-02, -6.00029528e-03,  3.94938141e-02,  1.38605358e-02,\n",
       "         5.16561419e-03,  5.56016155e-02, -2.44413484e-02,  1.92151293e-02,\n",
       "         1.26533695e-02,  1.38613461e-02, -3.32093164e-02, -1.29768308e-02,\n",
       "        -4.41564173e-02,  3.39313224e-02, -1.88280046e-02,  4.98613901e-03,\n",
       "         2.36673206e-02,  2.85044499e-02,  4.87985983e-02,  3.87711748e-02,\n",
       "         2.14355700e-02,  1.10904295e-02, -2.36351583e-02,  1.51235443e-02,\n",
       "         2.66652089e-03, -3.26571688e-02, -3.96109447e-02,  2.74351034e-02,\n",
       "         5.18835988e-03, -3.83439846e-02, -6.57118857e-02, -6.99954405e-02,\n",
       "        -4.25527841e-02, -4.91503552e-02,  3.01190857e-02,  4.03555781e-02,\n",
       "         4.06383127e-02,  7.44236633e-04,  2.85385605e-02, -1.05652232e-02,\n",
       "         6.00441843e-02, -9.23564006e-03,  1.01297805e-02, -2.60916036e-02,\n",
       "        -2.25310400e-02, -3.81668694e-02,  1.44702876e-02,  1.90615375e-03,\n",
       "         2.44231429e-04, -7.86755700e-03, -1.88305788e-02, -6.82077603e-03,\n",
       "        -5.36433831e-02, -2.50866525e-02,  2.28096377e-02, -4.64642122e-02,\n",
       "        -1.19032618e-02, -1.82667840e-02,  5.19555956e-02, -2.75986269e-02,\n",
       "        -2.47447472e-02,  1.16040464e-02,  4.70733345e-02, -2.54706778e-02,\n",
       "         2.20585825e-05, -5.59864839e-06,  7.48994353e-07,  4.39924261e-05,\n",
       "        -3.16822479e-06,  6.08923365e-05, -2.70928413e-05,  1.42657773e-05,\n",
       "         3.62871324e-05,  1.51276836e-05,  3.17624945e-05,  3.43849606e-05,\n",
       "         3.19266474e-05, -2.77765753e-06, -1.41687724e-05, -1.71429674e-05,\n",
       "         1.07140995e-05, -6.55629337e-05, -5.43189381e-05,  3.11500553e-05,\n",
       "        -1.05428444e-05, -4.44768848e-05, -4.69057632e-05, -4.39104988e-05,\n",
       "         2.42571805e-05,  3.48847534e-05,  4.85471646e-05, -3.28391034e-05,\n",
       "         7.56117606e-06, -4.49974214e-05,  1.24400649e-05, -3.28315400e-06,\n",
       "         2.17353736e-05,  3.33127064e-05, -8.40645589e-06,  2.39907749e-05,\n",
       "         6.15555546e-05,  5.25326323e-05, -5.85254893e-05, -9.12640535e-05,\n",
       "         3.74079173e-06, -6.19414714e-05,  4.04603743e-05,  2.18124751e-06,\n",
       "         5.46439878e-07,  2.37116037e-05,  3.09773750e-05, -6.25610755e-06,\n",
       "         2.20470356e-05, -4.76671994e-05, -1.01554442e-05, -2.53140934e-05,\n",
       "         3.84491796e-06, -3.38549762e-05, -4.12768641e-05,  6.29313217e-05,\n",
       "        -8.25659481e-06, -4.14241767e-05,  1.51774202e-05, -5.52635684e-05,\n",
       "         9.68646491e-05, -8.47220326e-06, -1.51787681e-04, -7.90994018e-05,\n",
       "        -3.09759780e-05, -8.79659819e-06, -1.26330924e-04,  2.61697805e-05,\n",
       "        -2.03460622e-05,  1.46228471e-04,  4.79688388e-05,  6.03881417e-05,\n",
       "         1.98467424e-05,  1.93657979e-05, -4.46685226e-05, -8.03101557e-07,\n",
       "        -9.40292957e-05,  1.56645165e-05,  2.77262825e-06, -2.47355570e-06,\n",
       "        -2.42930419e-05,  3.18866405e-05,  2.45205738e-05,  1.01477926e-05,\n",
       "         5.39124521e-05,  9.38803350e-06, -1.52900975e-05,  2.91725682e-05,\n",
       "         3.08877934e-05,  9.06366949e-06, -2.52632071e-05,  3.72157119e-05,\n",
       "         8.77408966e-05, -4.33180094e-06,  5.25017094e-05, -2.82320798e-05,\n",
       "         6.47325724e-05, -5.43760179e-05,  1.16175233e-05,  8.84692054e-06,\n",
       "        -2.33075916e-05,  1.25375516e-06,  3.10481300e-05,  1.49750786e-05,\n",
       "         3.96838695e-05, -2.50892426e-05, -2.25501790e-05,  8.08061122e-06,\n",
       "         1.74406450e-05,  8.83512912e-05, -4.18255513e-05,  2.78834195e-05,\n",
       "         3.23765380e-05, -5.55996212e-06,  2.03631080e-05, -2.88027750e-05,\n",
       "        -1.03114726e-04,  5.59023465e-05, -6.85801861e-05,  1.28255808e-04,\n",
       "        -5.74370279e-06, -1.27288549e-05, -1.84585704e-04,  1.08922195e-05,\n",
       "         1.76079702e-05,  4.25952312e-05, -5.53303653e-06,  8.48280933e-07],\n",
       "       dtype=float32)>,\n",
       " <tf.Tensor: shape=(128, 10000), dtype=float32, numpy=\n",
       " array([[-5.3727668e-04, -9.4064791e-04, -2.4856848e-04, ...,\n",
       "          2.6038947e-06,  2.6036332e-06,  2.6027269e-06],\n",
       "        [ 4.9670611e-04,  2.9210700e-04,  5.6837650e-04, ...,\n",
       "         -7.9729500e-07, -7.9778715e-07, -7.9620878e-07],\n",
       "        [-9.0234017e-04, -1.3708535e-03, -2.2200304e-03, ...,\n",
       "          1.7576391e-06,  1.7585572e-06,  1.7559706e-06],\n",
       "        ...,\n",
       "        [-7.9415989e-04,  2.1304982e-04, -5.2137586e-04, ...,\n",
       "          2.8301201e-09,  3.4427927e-09,  4.6117350e-09],\n",
       "        [ 1.4089257e-03,  1.8401039e-03,  9.8234159e-04, ...,\n",
       "         -2.4612391e-06, -2.4607239e-06, -2.4574765e-06],\n",
       "        [-1.9579544e-03, -2.1722151e-03, -6.9593615e-04, ...,\n",
       "          2.4254882e-06,  2.4259748e-06,  2.4227315e-06]], dtype=float32)>,\n",
       " <tf.Tensor: shape=(10000,), dtype=float32, numpy=\n",
       " array([-0.79799795, -1.0313314 , -1.0313315 , ...,  0.00199982,\n",
       "         0.00200019,  0.00199889], dtype=float32)>]"
      ]
     },
     "execution_count": 49,
     "metadata": {},
     "output_type": "execute_result"
    }
   ],
   "source": [
    "# Define the gradient clipping threshold\n",
    "grads, _ = tf.clip_by_global_norm(grad_t_list, max_grad_norm)\n",
    "grads"
   ]
  },
  {
   "cell_type": "markdown",
   "metadata": {},
   "source": [
    "<h4> 4.Apply the optimizer to the variables/gradients tuple. </h4>\n"
   ]
  },
  {
   "cell_type": "code",
   "execution_count": 50,
   "metadata": {},
   "outputs": [],
   "source": [
    "# Create the training TensorFlow Operation through our optimizer\n",
    "train_op = optimizer.apply_gradients(zip(grads, tvars))"
   ]
  },
  {
   "cell_type": "markdown",
   "metadata": {},
   "source": [
    "<a id=\"ltsm\"></a>\n",
    "\n",
    "<h2>LSTM</h2>\n"
   ]
  },
  {
   "cell_type": "markdown",
   "metadata": {
    "button": false,
    "deletable": true,
    "new_sheet": false,
    "run_control": {
     "read_only": false
    }
   },
   "source": [
    "We learned how the model is build step by step. Noe, let's then create a Class that represents our model. This class needs a few things:\n",
    "\n",
    "<ul>\n",
    "    <li>We have to create the model in accordance with our defined hyperparameters</li>\n",
    "    <li>We have to create the LSTM cell structure and connect them with our RNN structure</li>\n",
    "    <li>We have to create the word embeddings and point them to the input data</li>\n",
    "    <li>We have to create the input structure for our RNN</li>\n",
    "    <li>We need to create a logistic structure to return the probability of our words</li>\n",
    "    <li>We need to create the loss and cost functions for our optimizer to work, and then create the optimizer</li>\n",
    "    <li>And finally, we need to create a training operation that can be run to actually train our model</li>\n",
    "</ul>\n"
   ]
  },
  {
   "cell_type": "code",
   "execution_count": 51,
   "metadata": {
    "button": false,
    "deletable": true,
    "new_sheet": false,
    "run_control": {
     "read_only": false
    },
    "tags": []
   },
   "outputs": [],
   "source": [
    "class PTBModel(object):\n",
    "\n",
    "\n",
    "    def __init__(self):\n",
    "        ######################################\n",
    "        # Setting parameters for ease of use #\n",
    "        ######################################\n",
    "        self.batch_size = batch_size\n",
    "        self.num_steps = num_steps\n",
    "        self.hidden_size_l1 = hidden_size_l1\n",
    "        self.hidden_size_l2 = hidden_size_l2\n",
    "        self.vocab_size = vocab_size\n",
    "        self.embeding_vector_size = embeding_vector_size\n",
    "        # Create a variable for the learning rate\n",
    "        self._lr = 1.0\n",
    "        \n",
    "        ###############################################################################\n",
    "        # Initializing the model using keras Sequential API  #\n",
    "        ###############################################################################\n",
    "        \n",
    "        self._model = tf.keras.models.Sequential()\n",
    "        \n",
    "        ####################################################################\n",
    "        # Creating the word embeddings layer and adding it to the sequence #\n",
    "        ####################################################################\n",
    "        with tf.device(\"/cpu:0\"):\n",
    "            # Create the embeddings for our input data. Size is hidden size.\n",
    "            self._embedding_layer = tf.keras.layers.Embedding(self.vocab_size, self.embeding_vector_size,batch_input_shape=(self.batch_size, self.num_steps),trainable=True,name=\"embedding_vocab\")  #[10000x200]\n",
    "            self._model.add(self._embedding_layer)\n",
    "            \n",
    "\n",
    "        ##########################################################################\n",
    "        # Creating the LSTM cell structure and connect it with the RNN structure #\n",
    "        ##########################################################################\n",
    "        # Create the LSTM Cells. \n",
    "        # This creates only the structure for the LSTM and has to be associated with a RNN unit still.\n",
    "        # The argument  of LSTMCell is size of hidden layer, that is, the number of hidden units of the LSTM (inside A). \n",
    "        # LSTM cell processes one word at a time and computes probabilities of the possible continuations of the sentence.\n",
    "        lstm_cell_l1 = tf.keras.layers.LSTMCell(hidden_size_l1)\n",
    "        lstm_cell_l2 = tf.keras.layers.LSTMCell(hidden_size_l2)\n",
    "        \n",
    "\n",
    "        \n",
    "        # By taking in the LSTM cells as parameters, the StackedRNNCells function junctions the LSTM units to the RNN units.\n",
    "        # RNN cell composed sequentially of stacked simple cells.\n",
    "        stacked_lstm = tf.keras.layers.StackedRNNCells([lstm_cell_l1, lstm_cell_l2])\n",
    "\n",
    "\n",
    "        \n",
    "\n",
    "        ############################################\n",
    "        # Creating the input structure for our RNN #\n",
    "        ############################################\n",
    "        # Input structure is 20x[30x200]\n",
    "        # Considering each word is represended by a 200 dimentional vector, and we have 30 batchs, we create 30 word-vectors of size [30xx2000]\n",
    "        # The input structure is fed from the embeddings, which are filled in by the input data\n",
    "        # Feeding a batch of b sentences to a RNN:\n",
    "        # In step 1,  first word of each of the b sentences (in a batch) is input in parallel.  \n",
    "        # In step 2,  second word of each of the b sentences is input in parallel. \n",
    "        # The parallelism is only for efficiency.  \n",
    "        # Each sentence in a batch is handled in parallel, but the network sees one word of a sentence at a time and does the computations accordingly. \n",
    "        # All the computations involving the words of all sentences in a batch at a given time step are done in parallel. \n",
    "\n",
    "        ########################################################################################################\n",
    "        # Instantiating our RNN model and setting stateful to True to feed forward the state to the next layer #\n",
    "        ########################################################################################################\n",
    "        \n",
    "        self._RNNlayer  =  tf.keras.layers.RNN(stacked_lstm,[batch_size, num_steps],return_state=False,stateful=True,trainable=True)\n",
    "        \n",
    "        # Define the initial state, i.e., the model state for the very first data point\n",
    "        # It initialize the state of the LSTM memory. The memory state of the network is initialized with a vector of zeros and gets updated after reading each word.\n",
    "        self._initial_state = tf.Variable(tf.zeros([batch_size,embeding_vector_size]),trainable=False)\n",
    "        self._RNNlayer.inital_state = self._initial_state\n",
    "    \n",
    "        ############################################\n",
    "        # Adding RNN layer to keras sequential API #\n",
    "        ############################################        \n",
    "        self._model.add(self._RNNlayer)\n",
    "        \n",
    "        #self._model.add(tf.keras.layers.LSTM(hidden_size_l1,return_sequences=True,stateful=True))\n",
    "        #self._model.add(tf.keras.layers.LSTM(hidden_size_l2,return_sequences=True))\n",
    "        \n",
    "        \n",
    "        ####################################################################################################\n",
    "        # Instantiating a Dense layer that connects the output to the vocab_size  and adding layer to model#\n",
    "        ####################################################################################################\n",
    "        self._dense = tf.keras.layers.Dense(self.vocab_size)\n",
    "        self._model.add(self._dense)\n",
    " \n",
    "        \n",
    "        ####################################################################################################\n",
    "        # Adding softmax activation layer and deriving probability to each class and adding layer to model #\n",
    "        ####################################################################################################\n",
    "        self._activation = tf.keras.layers.Activation('softmax')\n",
    "        self._model.add(self._activation)\n",
    "\n",
    "        ##########################################################\n",
    "        # Instantiating the stochastic gradient decent optimizer #\n",
    "        ########################################################## \n",
    "        self._optimizer = tf.keras.optimizers.SGD(lr=self._lr, clipnorm=max_grad_norm)\n",
    "        \n",
    "        \n",
    "        ##############################################################################\n",
    "        # Compiling and summarizing the model stacked using the keras sequential API #\n",
    "        ##############################################################################\n",
    "        self._model.compile(loss=self.crossentropy, optimizer=self._optimizer)\n",
    "        self._model.summary()\n",
    "\n",
    "\n",
    "    def crossentropy(self,y_true, y_pred):\n",
    "        return tf.keras.losses.sparse_categorical_crossentropy(y_true, y_pred)\n",
    "\n",
    "    def train_batch(self,_input_data,_targets):\n",
    "        #################################################\n",
    "        # Creating the Training Operation for our Model #\n",
    "        #################################################\n",
    "        # Create a variable for the learning rate\n",
    "        self._lr = tf.Variable(0.0, trainable=False)\n",
    "        # Get all TensorFlow variables marked as \"trainable\" (i.e. all of them except _lr, which we just created)\n",
    "        tvars = self._model.trainable_variables\n",
    "        # Define the gradient clipping threshold\n",
    "        with tf.GradientTape() as tape:\n",
    "            # Forward pass.\n",
    "            output_words_prob = self._model(_input_data)\n",
    "            # Loss value for this batch.\n",
    "            loss  = self.crossentropy(_targets, output_words_prob)\n",
    "            # average across batch and reduce sum\n",
    "            cost = tf.reduce_sum(loss/ self.batch_size)\n",
    "        # Get gradients of loss wrt the trainable variables.\n",
    "        grad_t_list = tape.gradient(cost, tvars)\n",
    "        # Define the gradient clipping threshold\n",
    "        grads, _ = tf.clip_by_global_norm(grad_t_list, max_grad_norm)\n",
    "        # Create the training TensorFlow Operation through our optimizer\n",
    "        train_op = self._optimizer.apply_gradients(zip(grads, tvars))\n",
    "        return cost\n",
    "        \n",
    "    def test_batch(self,_input_data,_targets):\n",
    "        #################################################\n",
    "        # Creating the Testing Operation for our Model #\n",
    "        #################################################\n",
    "        output_words_prob = self._model(_input_data)\n",
    "        loss  = self.crossentropy(_targets, output_words_prob)\n",
    "        # average across batch and reduce sum\n",
    "        cost = tf.reduce_sum(loss/ self.batch_size)\n",
    "\n",
    "        return cost\n",
    "    @classmethod\n",
    "    def instance(cls) : \n",
    "        return PTBModel()"
   ]
  },
  {
   "cell_type": "markdown",
   "metadata": {
    "button": false,
    "deletable": true,
    "new_sheet": false,
    "run_control": {
     "read_only": false
    }
   },
   "source": [
    "With that, the actual structure of our Recurrent Neural Network with Long Short-Term Memory is finished. What remains for us to do is to actually create the methods to run through time -- that is, the <code>run_epoch</code> method to be run at each epoch and a <code>main</code> script which ties all of this together.\n",
    "\n",
    "What our <code>run_epoch</code> method should do is take our input data and feed it to the relevant operations. This will return at the very least the current result for the cost function.\n"
   ]
  },
  {
   "cell_type": "code",
   "execution_count": 52,
   "metadata": {
    "button": false,
    "deletable": true,
    "new_sheet": false,
    "run_control": {
     "read_only": false
    }
   },
   "outputs": [],
   "source": [
    "\n",
    "########################################################################################################################\n",
    "# run_one_epoch takes as parameters  the model instance, the data to be fed, training or testing mode and verbose info #\n",
    "########################################################################################################################\n",
    "def run_one_epoch(m, data,is_training=True,verbose=False):\n",
    "\n",
    "    #Define the epoch size based on the length of the data, batch size and the number of steps\n",
    "    epoch_size = ((len(data) // m.batch_size) - 1) // m.num_steps\n",
    "    start_time = time.time()\n",
    "    costs = 0.\n",
    "    iters = 0\n",
    "    \n",
    "    m._model.reset_states()\n",
    "    \n",
    "    #For each step and data point\n",
    "    for step, (x, y) in enumerate(reader.ptb_iterator(data, m.batch_size, m.num_steps)):\n",
    "        \n",
    "        #Evaluate and return cost, state by running cost, final_state and the function passed as parameter\n",
    "        #y = tf.keras.utils.to_categorical(y, num_classes=vocab_size)\n",
    "        if is_training : \n",
    "            loss=  m.train_batch(x, y)\n",
    "        else :\n",
    "            loss = m.test_batch(x, y)\n",
    "                                   \n",
    "\n",
    "        #Add returned cost to costs (which keeps track of the total costs for this epoch)\n",
    "        costs += loss\n",
    "        \n",
    "        #Add number of steps to iteration counter\n",
    "        iters += m.num_steps\n",
    "\n",
    "        if verbose and step % (epoch_size // 10) == 10:\n",
    "            print(\"Itr %d of %d, perplexity: %.3f speed: %.0f wps\" % (step , epoch_size, np.exp(costs / iters), iters * m.batch_size / (time.time() - start_time)))\n",
    "        \n",
    "\n",
    "\n",
    "    # Returns the Perplexity rating for us to keep track of how the model is evolving\n",
    "    return np.exp(costs / iters)\n"
   ]
  },
  {
   "cell_type": "markdown",
   "metadata": {
    "button": false,
    "deletable": true,
    "new_sheet": false,
    "run_control": {
     "read_only": false
    }
   },
   "source": [
    "Now, we create the <code>main</code> method to tie everything together. The code here reads the data from the directory, using the <code>reader</code> helper module, and then trains and evaluates the model on both a testing and a validating subset of data.\n"
   ]
  },
  {
   "cell_type": "code",
   "execution_count": 53,
   "metadata": {
    "button": false,
    "deletable": true,
    "new_sheet": false,
    "run_control": {
     "read_only": false
    },
    "tags": []
   },
   "outputs": [],
   "source": [
    "# Reads the data and separates it into training data, validation data and testing data\n",
    "raw_data = reader.ptb_raw_data(data_dir)\n",
    "train_data, valid_data, test_data, _, _ = raw_data"
   ]
  },
  {
   "cell_type": "code",
   "execution_count": null,
   "metadata": {
    "tags": []
   },
   "outputs": [
    {
     "name": "stdout",
     "output_type": "stream",
     "text": [
      "Model: \"sequential_1\"\n",
      "_________________________________________________________________\n",
      "Layer (type)                 Output Shape              Param #   \n",
      "=================================================================\n",
      "embedding_vocab (Embedding)  (30, 20, 200)             2000000   \n",
      "_________________________________________________________________\n",
      "rnn_1 (RNN)                  (30, 20, 128)             671088    \n",
      "_________________________________________________________________\n",
      "dense_1 (Dense)              (30, 20, 10000)           1290000   \n",
      "_________________________________________________________________\n",
      "activation_1 (Activation)    (30, 20, 10000)           0         \n",
      "=================================================================\n",
      "Total params: 3,961,088\n",
      "Trainable params: 3,955,088\n",
      "Non-trainable params: 6,000\n",
      "_________________________________________________________________\n",
      "Epoch 1 : Learning rate: 1.000\n"
     ]
    }
   ],
   "source": [
    "\n",
    "# Instantiates the PTBModel class\n",
    "m=PTBModel.instance()   \n",
    "K = tf.keras.backend \n",
    "for i in range(max_epoch):\n",
    "    # Define the decay for this epoch\n",
    "    lr_decay = decay ** max(i - max_epoch_decay_lr, 0.0)\n",
    "    dcr = learning_rate * lr_decay\n",
    "    m._lr = dcr\n",
    "    K.set_value(m._model.optimizer.learning_rate,m._lr)\n",
    "    print(\"Epoch %d : Learning rate: %.3f\" % (i + 1, m._model.optimizer.learning_rate))\n",
    "    # Run the loop for this epoch in the training mode\n",
    "    train_perplexity = run_one_epoch(m, train_data,is_training=True,verbose=True)\n",
    "    print(\"Epoch %d : Train Perplexity: %.3f\" % (i + 1, train_perplexity))\n",
    "        \n",
    "    # Run the loop for this epoch in the validation mode\n",
    "    valid_perplexity = run_one_epoch(m, valid_data,is_training=False,verbose=False)\n",
    "    print(\"Epoch %d : Valid Perplexity: %.3f\" % (i + 1, valid_perplexity))\n",
    "    \n",
    "# Run the loop in the testing mode to see how effective was our training\n",
    "test_perplexity = run_one_epoch(m, test_data,is_training=False,verbose=False)\n",
    "print(\"Test Perplexity: %.3f\" % test_perplexity)\n",
    "\n"
   ]
  },
  {
   "cell_type": "markdown",
   "metadata": {
    "button": false,
    "deletable": true,
    "new_sheet": false,
    "run_control": {
     "read_only": false
    }
   },
   "source": [
    "As you can see, the model's perplexity rating drops very quickly after a few iterations. As was elaborated before, <b>lower Perplexity means that the model is more certain about its prediction</b>. As such, we can be sure that this model is performing well!\n"
   ]
  },
  {
   "cell_type": "markdown",
   "metadata": {
    "button": false,
    "deletable": true,
    "new_sheet": false,
    "run_control": {
     "read_only": false
    }
   },
   "source": [
    "* * *\n"
   ]
  },
  {
   "cell_type": "markdown",
   "metadata": {
    "button": false,
    "deletable": true,
    "new_sheet": false,
    "run_control": {
     "read_only": false
    }
   },
   "source": [
    "This is the end of the <b>Applying Recurrent Neural Networks to Text Processing</b> notebook. Hopefully you now have a better understanding of Recurrent Neural Networks and how to implement one utilizing TensorFlow. Thank you for reading this notebook, and good luck on your studies.\n"
   ]
  },
  {
   "cell_type": "markdown",
   "metadata": {
    "button": false,
    "deletable": true,
    "new_sheet": false,
    "run_control": {
     "read_only": false
    }
   },
   "source": [
    "## Want to learn more?\n",
    "\n",
    "Running deep learning programs usually needs a high performance platform. **PowerAI** speeds up deep learning and AI. Built on IBM’s Power Systems, **PowerAI** is a scalable software platform that accelerates deep learning and AI with blazing performance for individual users or enterprises. The **PowerAI** platform supports popular machine learning libraries and dependencies including TensorFlow, Caffe, Torch, and Theano. You can use [PowerAI on IMB Cloud](https://cocl.us/ML0120EN_PAI).\n",
    "\n",
    "Also, you can use **Watson Studio** to run these notebooks faster with bigger datasets.**Watson Studio** is IBM’s leading cloud solution for data scientists, built by data scientists. With Jupyter notebooks, RStudio, Apache Spark and popular libraries pre-packaged in the cloud, **Watson Studio** enables data scientists to collaborate on their projects without having to install anything. Join the fast-growing community of **Watson Studio** users today with a free account at [Watson Studio](https://cocl.us/ML0120EN_DSX).This is the end of this lesson. Thank you for reading this notebook, and good luck on your studies.\n"
   ]
  },
  {
   "cell_type": "markdown",
   "metadata": {
    "button": false,
    "deletable": true,
    "new_sheet": false,
    "run_control": {
     "read_only": false
    }
   },
   "source": [
    "### Thanks for completing this lesson!\n",
    "\n",
    "Notebook created by <a href=\"https://br.linkedin.com/in/walter-gomes-de-amorim-junior-624726121\">Walter Gomes de Amorim Junior</a>, <a href = \"https://linkedin.com/in/saeedaghabozorgi\"> Saeed Aghabozorgi </a></h4>\n",
    "\n",
    "Updated to TF 2.X by  <a href=\"https://www.linkedin.com/in/samaya-madhavan\"> Samaya Madhavan </a>\n"
   ]
  },
  {
   "cell_type": "markdown",
   "metadata": {
    "button": false,
    "deletable": true,
    "new_sheet": false,
    "run_control": {
     "read_only": false
    }
   },
   "source": [
    "<hr>\n",
    "\n",
    "Copyright © 2018 [Cognitive Class](https://cocl.us/DX0108EN_CC). This notebook and its source code are released under the terms of the [MIT License](https://bigdatauniversity.com/mit-license?cm_mmc=Email_Newsletter-_-Developer_Ed%2BTech-_-WW_WW-_-SkillsNetwork-Courses-IBMDeveloperSkillsNetwork-DL0120EN-SkillsNetwork-20629446&cm_mmca1=000026UJ&cm_mmca2=10006555&cm_mmca3=M12345678&cvosrc=email.Newsletter.M12345678&cvo_campaign=000026UJ&cm_mmc=Email_Newsletter-_-Developer_Ed%2BTech-_-WW_WW-_-SkillsNetwork-Courses-IBMDeveloperSkillsNetwork-DL0120EN-SkillsNetwork-20629446&cm_mmca1=000026UJ&cm_mmca2=10006555&cm_mmca3=M12345678&cvosrc=email.Newsletter.M12345678&cvo_campaign=000026UJ).\n"
   ]
  }
 ],
 "metadata": {
  "anaconda-cloud": {},
  "kernelspec": {
   "display_name": "Python",
   "language": "python",
   "name": "conda-env-python-py"
  },
  "language_info": {
   "codemirror_mode": {
    "name": "ipython",
    "version": 3
   },
   "file_extension": ".py",
   "mimetype": "text/x-python",
   "name": "python",
   "nbconvert_exporter": "python",
   "pygments_lexer": "ipython3",
   "version": "3.6.11"
  },
  "widgets": {
   "state": {},
   "version": "1.1.2"
  }
 },
 "nbformat": 4,
 "nbformat_minor": 4
}
